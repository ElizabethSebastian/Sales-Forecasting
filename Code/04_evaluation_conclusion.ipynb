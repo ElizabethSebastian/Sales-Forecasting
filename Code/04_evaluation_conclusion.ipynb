{
 "cells": [
  {
   "cell_type": "markdown",
   "metadata": {},
   "source": [
    "<img src=\"http://imgur.com/1ZcRyrc.png\" style=\"float: left; margin: 20px; height: 55px\">\n",
    "\n",
    "# Sales Forecasting\n",
    "\n",
    "### Part 4 Evaluation and Conclusion\n",
    "\n",
    "---\n"
   ]
  },
  {
   "cell_type": "markdown",
   "metadata": {},
   "source": [
    "## Contents:\n",
    "- [Compare Different Models on SMAPE Loss](#Compare-Different-Models-on-SMAPE-Loss)\n",
    "- [Conclusion](#Conclusion)\n",
    "- [Limitations and recommendations](#Limitations-and-Recommendations)"
   ]
  },
  {
   "cell_type": "markdown",
   "metadata": {},
   "source": [
    "## Import Libraries"
   ]
  },
  {
   "cell_type": "code",
   "execution_count": 2,
   "metadata": {},
   "outputs": [],
   "source": [
    "import numpy as np\n",
    "import pandas as pd\n",
    "import matplotlib.pyplot as plt\n",
    "import seaborn as sns\n",
    "\n",
    "from warnings import simplefilter\n",
    "simplefilter(\"ignore\", FutureWarning)\n",
    "%matplotlib inline"
   ]
  },
  {
   "cell_type": "code",
   "execution_count": 3,
   "metadata": {},
   "outputs": [],
   "source": [
    "from sktime.forecasting.arima import ARIMA, AutoARIMA\n",
    "from sktime.forecasting.base import ForecastingHorizon\n",
    "from sktime.forecasting.compose import (\n",
    "    EnsembleForecaster,\n",
    "    ReducedForecaster,\n",
    "    TransformedTargetForecaster,\n",
    ")\n",
    "from sktime.forecasting.exp_smoothing import ExponentialSmoothing\n",
    "from sktime.forecasting.naive import NaiveForecaster\n",
    "from sktime.forecasting.theta import ThetaForecaster\n",
    "from sktime.performance_metrics.forecasting import sMAPE, smape_loss\n",
    "from sktime.utils.plotting import plot_series\n",
    "from sktime.forecasting.fbprophet import Prophet\n",
    "from sklearn.model_selection import GridSearchCV\n",
    "from sklearn.ensemble import RandomForestRegressor"
   ]
  },
  {
   "cell_type": "markdown",
   "metadata": {},
   "source": [
    "## Compare Different Models on SMAPE Loss"
   ]
  },
  {
   "cell_type": "code",
   "execution_count": 4,
   "metadata": {},
   "outputs": [
    {
     "data": {
      "text/html": [
       "<div>\n",
       "<style scoped>\n",
       "    .dataframe tbody tr th:only-of-type {\n",
       "        vertical-align: middle;\n",
       "    }\n",
       "\n",
       "    .dataframe tbody tr th {\n",
       "        vertical-align: top;\n",
       "    }\n",
       "\n",
       "    .dataframe thead th {\n",
       "        text-align: right;\n",
       "    }\n",
       "</style>\n",
       "<table border=\"1\" class=\"dataframe\">\n",
       "  <thead>\n",
       "    <tr style=\"text-align: right;\">\n",
       "      <th></th>\n",
       "      <th>Unnamed: 0</th>\n",
       "      <th>model</th>\n",
       "      <th>smape_loss</th>\n",
       "    </tr>\n",
       "  </thead>\n",
       "  <tbody>\n",
       "    <tr>\n",
       "      <th>0</th>\n",
       "      <td>0</td>\n",
       "      <td>prophet</td>\n",
       "      <td>0.031872</td>\n",
       "    </tr>\n",
       "    <tr>\n",
       "      <th>1</th>\n",
       "      <td>1</td>\n",
       "      <td>lgbm</td>\n",
       "      <td>0.057895</td>\n",
       "    </tr>\n",
       "    <tr>\n",
       "      <th>2</th>\n",
       "      <td>2</td>\n",
       "      <td>r_forest</td>\n",
       "      <td>0.058013</td>\n",
       "    </tr>\n",
       "    <tr>\n",
       "      <th>3</th>\n",
       "      <td>3</td>\n",
       "      <td>ensemble</td>\n",
       "      <td>0.063478</td>\n",
       "    </tr>\n",
       "    <tr>\n",
       "      <th>4</th>\n",
       "      <td>4</td>\n",
       "      <td>xgb</td>\n",
       "      <td>0.067767</td>\n",
       "    </tr>\n",
       "    <tr>\n",
       "      <th>5</th>\n",
       "      <td>5</td>\n",
       "      <td>bats</td>\n",
       "      <td>0.070344</td>\n",
       "    </tr>\n",
       "    <tr>\n",
       "      <th>6</th>\n",
       "      <td>6</td>\n",
       "      <td>tbats</td>\n",
       "      <td>0.072434</td>\n",
       "    </tr>\n",
       "    <tr>\n",
       "      <th>7</th>\n",
       "      <td>7</td>\n",
       "      <td>theta</td>\n",
       "      <td>0.080372</td>\n",
       "    </tr>\n",
       "    <tr>\n",
       "      <th>8</th>\n",
       "      <td>8</td>\n",
       "      <td>auto_ets</td>\n",
       "      <td>0.081176</td>\n",
       "    </tr>\n",
       "    <tr>\n",
       "      <th>9</th>\n",
       "      <td>9</td>\n",
       "      <td>naive_last_season</td>\n",
       "      <td>0.087535</td>\n",
       "    </tr>\n",
       "    <tr>\n",
       "      <th>10</th>\n",
       "      <td>10</td>\n",
       "      <td>exponential</td>\n",
       "      <td>0.089310</td>\n",
       "    </tr>\n",
       "    <tr>\n",
       "      <th>11</th>\n",
       "      <td>11</td>\n",
       "      <td>naive</td>\n",
       "      <td>0.173581</td>\n",
       "    </tr>\n",
       "    <tr>\n",
       "      <th>12</th>\n",
       "      <td>12</td>\n",
       "      <td>autoarima</td>\n",
       "      <td>0.571929</td>\n",
       "    </tr>\n",
       "  </tbody>\n",
       "</table>\n",
       "</div>"
      ],
      "text/plain": [
       "    Unnamed: 0              model  smape_loss\n",
       "0            0            prophet    0.031872\n",
       "1            1               lgbm    0.057895\n",
       "2            2           r_forest    0.058013\n",
       "3            3           ensemble    0.063478\n",
       "4            4                xgb    0.067767\n",
       "5            5               bats    0.070344\n",
       "6            6              tbats    0.072434\n",
       "7            7              theta    0.080372\n",
       "8            8           auto_ets    0.081176\n",
       "9            9  naive_last_season    0.087535\n",
       "10          10        exponential    0.089310\n",
       "11          11              naive    0.173581\n",
       "12          12          autoarima    0.571929"
      ]
     },
     "execution_count": 4,
     "metadata": {},
     "output_type": "execute_result"
    }
   ],
   "source": [
    "result=pd.read_csv('../Dataset/results.csv')\n",
    "result"
   ]
  },
  {
   "cell_type": "code",
   "execution_count": 11,
   "metadata": {},
   "outputs": [
    {
     "data": {
      "image/png": "[encoded data removed]",
      "text/plain": [
       "<Figure size 1008x576 with 1 Axes>"
      ]
     },
     "metadata": {
      "needs_background": "light"
     },
     "output_type": "display_data"
    }
   ],
   "source": [
    "\n",
    "fig_dims = (14, 8)\n",
    "fig, ax = plt.subplots(figsize=fig_dims)\n",
    "fig.suptitle('Model vs SMAPE Losss', fontsize = 16, weight = 'bold')\n",
    "\n",
    "ax=sns.barplot(x = 'model', y = 'smape_loss', data=result);\n",
    "ax.set_xlabel('Model')\n",
    "ax.set_ylabel('SMAPE Loss')\n",
    "ax.set_xticklabels(['Prophet','lgbm','r_forest','ensemble','xgb','BATS','TBATS','Theta','Auto ETS',\n",
    "                    'sNaive','Exponential' ,'Naive' ,'Auto Arima'], rotation='vertical', fontsize=10)\n",
    "for index, row in result.iterrows():\n",
    "    ax.text(row.name,row.smape_loss, round(row.smape_loss,4), color='black', ha=\"center\")\n",
    "plt.show()"
   ]
  },
  {
   "cell_type": "code",
   "execution_count": 1,
   "metadata": {},
   "outputs": [
    {
     "name": "stdout",
     "output_type": "stream",
     "text": [
      "+-----------------------+-------------+\n",
      "|         Model         | SMAPE Score |\n",
      "+-----------------------+-------------+\n",
      "|        Prophet        |    0.0465   |\n",
      "|  Light Gradient Boost |    0.0579   |\n",
      "|      RandomForest     |    0.0601   |\n",
      "|        Ensemble       |    0.631    |\n",
      "|        XGBoost        |    0.678    |\n",
      "|          BATS         |    0.703    |\n",
      "|         TBATS         |    0.0724   |\n",
      "|         Theta         |    0.0804   |\n",
      "|        Auto ETS       |    0.0812   |\n",
      "|     Seasonal Naive    |    0.0875   |\n",
      "| Exponential Smoothing |    0.0893   |\n",
      "|     Naive Approach    |    0.1736   |\n",
      "|       Auto ARIMA      |    0.5719   |\n",
      "+-----------------------+-------------+\n"
     ]
    }
   ],
   "source": [
    "from prettytable import PrettyTable\n",
    "    \n",
    "x = PrettyTable()\n",
    "\n",
    "x.field_names = [\"Model\", \"SMAPE Score\"]\n",
    "\n",
    "x.add_row([\"Prophet\", 0.0465])\n",
    "x.add_row([\"Light Gradient Boost\", 0.0579])\n",
    "x.add_row([\"RandomForest\", 0.0601])\n",
    "x.add_row([\"Ensemble\", 0.631])\n",
    "x.add_row([\"XGBoost\", 0.678])\n",
    "x.add_row([\"BATS\", 0.703])\n",
    "x.add_row([\"TBATS\", 0.0724])\n",
    "x.add_row([\"Theta\", 0.0804])\n",
    "x.add_row([\"Auto ETS\", 0.0812])\n",
    "x.add_row([\"Seasonal Naive\", 0.0875])\n",
    "x.add_row([\"Exponential Smoothing\", 0.0893])\n",
    "x.add_row([\"Naive Approach\", 0.1736])\n",
    "x.add_row([\"Auto ARIMA\", 0.5719])\n",
    "print(x)"
   ]
  },
  {
   "cell_type": "markdown",
   "metadata": {},
   "source": [
    "## Conclusion"
   ]
  },
  {
   "cell_type": "code",
   "execution_count": null,
   "metadata": {},
   "outputs": [],
   "source": []
  }
 ],
 "metadata": {
  "kernelspec": {
   "display_name": "Python 3",
   "language": "python",
   "name": "python3"
  },
  "language_info": {
   "codemirror_mode": {
    "name": "ipython",
    "version": 3
   },
   "file_extension": ".py",
   "mimetype": "text/x-python",
   "name": "python",
   "nbconvert_exporter": "python",
   "pygments_lexer": "ipython3",
   "version": "3.8.3"
  }
 },
 "nbformat": 4,
 "nbformat_minor": 4
}
