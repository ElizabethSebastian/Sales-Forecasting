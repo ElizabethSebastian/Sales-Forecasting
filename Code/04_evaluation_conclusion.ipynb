{
 "cells": [
  {
   "cell_type": "markdown",
   "metadata": {},
   "source": [
    "<img src=\"http://imgur.com/1ZcRyrc.png\" style=\"float: left; margin: 20px; height: 55px\">\n",
    "\n",
    "# Sales Forecasting\n",
    "\n",
    "### Part 4 Evaluation and Conclusion\n",
    "\n",
    "---\n"
   ]
  },
  {
   "cell_type": "markdown",
   "metadata": {},
   "source": [
    "## Contents:\n",
    "- [Compare Different Models on SMAPE Loss](#Compare-Different-Models-on-SMAPE-Loss)\n",
    "- [Conclusion](#Conclusion)\n",
    "- [Limitations and recommendations](#Limitations-and-Recommendations)"
   ]
  },
  {
   "cell_type": "markdown",
   "metadata": {},
   "source": [
    "## Import Libraries"
   ]
  },
  {
   "cell_type": "code",
   "execution_count": 2,
   "metadata": {},
   "outputs": [],
   "source": [
    "import numpy as np\n",
    "import pandas as pd\n",
    "import matplotlib.pyplot as plt\n",
    "import seaborn as sns\n",
    "\n",
    "from warnings import simplefilter\n",
    "simplefilter(\"ignore\", FutureWarning)\n",
    "%matplotlib inline"
   ]
  },
  {
   "cell_type": "code",
   "execution_count": 3,
   "metadata": {},
   "outputs": [],
   "source": [
    "from sktime.forecasting.arima import ARIMA, AutoARIMA\n",
    "from sktime.forecasting.base import ForecastingHorizon\n",
    "from sktime.forecasting.compose import (\n",
    "    EnsembleForecaster,\n",
    "    ReducedForecaster,\n",
    "    TransformedTargetForecaster,\n",
    ")\n",
    "from sktime.forecasting.exp_smoothing import ExponentialSmoothing\n",
    "from sktime.forecasting.naive import NaiveForecaster\n",
    "from sktime.forecasting.theta import ThetaForecaster\n",
    "from sktime.performance_metrics.forecasting import sMAPE, smape_loss\n",
    "from sktime.utils.plotting import plot_series\n",
    "from sktime.forecasting.fbprophet import Prophet\n",
    "from sklearn.model_selection import GridSearchCV\n",
    "from sklearn.ensemble import RandomForestRegressor"
   ]
  },
  {
   "cell_type": "markdown",
   "metadata": {},
   "source": [
    "## Compare Different Models on SMAPE Loss"
   ]
  },
  {
   "cell_type": "code",
   "execution_count": 13,
   "metadata": {},
   "outputs": [
    {
     "data": {
      "text/html": [
       "<div>\n",
       "<style scoped>\n",
       "    .dataframe tbody tr th:only-of-type {\n",
       "        vertical-align: middle;\n",
       "    }\n",
       "\n",
       "    .dataframe tbody tr th {\n",
       "        vertical-align: top;\n",
       "    }\n",
       "\n",
       "    .dataframe thead th {\n",
       "        text-align: right;\n",
       "    }\n",
       "</style>\n",
       "<table border=\"1\" class=\"dataframe\">\n",
       "  <thead>\n",
       "    <tr style=\"text-align: right;\">\n",
       "      <th></th>\n",
       "      <th>model</th>\n",
       "      <th>smape_loss</th>\n",
       "    </tr>\n",
       "  </thead>\n",
       "  <tbody>\n",
       "    <tr>\n",
       "      <th>0</th>\n",
       "      <td>prophet</td>\n",
       "      <td>0.031872</td>\n",
       "    </tr>\n",
       "    <tr>\n",
       "      <th>1</th>\n",
       "      <td>lgbm</td>\n",
       "      <td>0.057895</td>\n",
       "    </tr>\n",
       "    <tr>\n",
       "      <th>2</th>\n",
       "      <td>r_forest</td>\n",
       "      <td>0.058013</td>\n",
       "    </tr>\n",
       "    <tr>\n",
       "      <th>3</th>\n",
       "      <td>ensemble</td>\n",
       "      <td>0.063478</td>\n",
       "    </tr>\n",
       "    <tr>\n",
       "      <th>4</th>\n",
       "      <td>xgb</td>\n",
       "      <td>0.067767</td>\n",
       "    </tr>\n",
       "  </tbody>\n",
       "</table>\n",
       "</div>"
      ],
      "text/plain": [
       "      model  smape_loss\n",
       "0   prophet    0.031872\n",
       "1      lgbm    0.057895\n",
       "2  r_forest    0.058013\n",
       "3  ensemble    0.063478\n",
       "4       xgb    0.067767"
      ]
     },
     "execution_count": 13,
     "metadata": {},
     "output_type": "execute_result"
    }
   ],
   "source": [
    "result=pd.read_csv('../Dataset/results.csv')\n",
    "result= result.drop(columns= \"Unnamed: 0\")\n",
    "result.head()"
   ]
  },
  {
   "cell_type": "markdown",
   "metadata": {},
   "source": [
    "### Models vs SMAPE Loss"
   ]
  },
  {
   "cell_type": "code",
   "execution_count": 14,
   "metadata": {},
   "outputs": [
    {
     "data": {
      "image/png": "[encoded data removed]",
      "text/plain": [
       "<Figure size 1008x576 with 1 Axes>"
      ]
     },
     "metadata": {
      "needs_background": "light"
     },
     "output_type": "display_data"
    }
   ],
   "source": [
    "#Plot Model vs SAMPE Loss\n",
    "fig_dims = (14, 8)\n",
    "fig, ax = plt.subplots(figsize=fig_dims)\n",
    "fig.suptitle('Models vs SMAPE Loss', fontsize = 16, weight = 'bold')\n",
    "\n",
    "ax=sns.barplot(x = 'model', y = 'smape_loss', data=result);\n",
    "ax.set_xlabel('Model')\n",
    "ax.set_ylabel('SMAPE Loss')\n",
    "ax.set_xticklabels(['Prophet','lgbm','r_forest','ensemble','xgb','BATS','TBATS','Theta','Auto ETS',\n",
    "                    'sNaive','Exponential' ,'Naive' ,'Auto Arima'], rotation='vertical', fontsize=10)\n",
    "for index, row in result.iterrows():\n",
    "    ax.text(row.name,row.smape_loss, round(row.smape_loss,4), color='black', ha=\"center\")\n",
    "plt.show()"
   ]
  },
  {
   "cell_type": "code",
   "execution_count": 12,
   "metadata": {},
   "outputs": [
    {
     "name": "stdout",
     "output_type": "stream",
     "text": [
      "+-----------------------+-------------+\n",
      "|         Model         | SMAPE Score |\n",
      "+-----------------------+-------------+\n",
      "|        Prophet        |   0.031872  |\n",
      "|  Light Gradient Boost |   0.057895  |\n",
      "|      RandomForest     |   0.058013  |\n",
      "|        Ensemble       |   0.063478  |\n",
      "|        XGBoost        |   0.067767  |\n",
      "|          BATS         |   0.070344  |\n",
      "|         TBATS         |   0.072434  |\n",
      "|         Theta         |   0.080372  |\n",
      "|        Auto ETS       |   0.081176  |\n",
      "|     Seasonal Naive    |   0.087535  |\n",
      "| Exponential Smoothing |   0.08931   |\n",
      "|     Naive Approach    |   0.173581  |\n",
      "|       Auto ARIMA      |   0.571929  |\n",
      "+-----------------------+-------------+\n"
     ]
    }
   ],
   "source": [
    "from prettytable import PrettyTable\n",
    "    \n",
    "x = PrettyTable()\n",
    "\n",
    "x.field_names = [\"Model\", \"SMAPE Score\"]\n",
    "\n",
    "x.add_row([\"Prophet\", 0.031872])\n",
    "x.add_row([\"Light Gradient Boost\", 0.057895])\n",
    "x.add_row([\"RandomForest\", 0.058013])\n",
    "x.add_row([\"Ensemble\", 0.063478])\n",
    "x.add_row([\"XGBoost\", 0.067767])\n",
    "x.add_row([\"BATS\", 0.070344])\n",
    "x.add_row([\"TBATS\", 0.072434])\n",
    "x.add_row([\"Theta\", 0.080372])\n",
    "x.add_row([\"Auto ETS\", 0.081176])\n",
    "x.add_row([\"Seasonal Naive\", 0.087535])\n",
    "x.add_row([\"Exponential Smoothing\", 0.089310])\n",
    "x.add_row([\"Naive Approach\", 0.173581])\n",
    "x.add_row([\"Auto ARIMA\", 0.571929])\n",
    "print(x)"
   ]
  },
  {
   "cell_type": "markdown",
   "metadata": {},
   "source": [
    "Observations:<br>\n",
    "    Prophet performed best on the given data with SMAPE loss of 0.031872. <br>\n",
    "    Auto ARIMA is the worst perfomed model with a SMAPE loss of 0.571929 followed by Naive Approach with SMAPE loss of 0.173581.<br>\n",
    "    All the rest of the models performed in between those."
   ]
  },
  {
   "cell_type": "markdown",
   "metadata": {},
   "source": [
    "## Conclusion"
   ]
  },
  {
   "cell_type": "markdown",
   "metadata": {},
   "source": [
    "This project predicts the aggregated total number of sales in the USA-based Walmart store for the next 28 days time period. Prediction is made based on historical sales data for 5 years. A number of statistical forecasting algorithms are used for the prediction and and a number of models are compared based on the SMAPE loss score it has. Various algorithms from SKtime library is considered instead of the traditional forecasting algorithms and it is found that the SKtime models are very easy to use for prediction. Various models that are used are below:<br>\n",
    "\n",
    "1) Naive Approach<br>\n",
    "2) Seasonal Naive<br>\n",
    "3) Exponential Smoothing<br>\n",
    "4) Auto ETS<br>\n",
    "5) Auto ARIMA<br>\n",
    "6) BATS<br>\n",
    "7) TBATS<br>\n",
    "8) ThetaForecaster<br>\n",
    "9) RandomForest<br>\n",
    "10) Prophet<br>\n",
    "11) XGboost<br>\n",
    "12) Light Gradient Boost<br>\n",
    "13) Ensemble\n",
    "\n",
    "\n",
    "SAMPE losses of each of the above models are calculated. Low SMAPE loss score has better accuracy and the models are compared based on thir SMAPE loss score. Among all the models, prophet performed best on the given data with the SMAPE loss of 0.031872. Auto ARIMA performed worse among the other models with a loss of 0.571929. \n",
    "\n",
    "A sales forecast helps every business make better business decisions. It helps in overall business planning, budgeting, and risk management. Sales forecasting allows companies to efficiently allocate resources for future growth and manage its cash flow. Thus an accurate sales forecasting is very important for every business to suceed."
   ]
  },
  {
   "cell_type": "code",
   "execution_count": null,
   "metadata": {},
   "outputs": [],
   "source": []
  }
 ],
 "metadata": {
  "kernelspec": {
   "display_name": "Python 3",
   "language": "python",
   "name": "python3"
  },
  "language_info": {
   "codemirror_mode": {
    "name": "ipython",
    "version": 3
   },
   "file_extension": ".py",
   "mimetype": "text/x-python",
   "name": "python",
   "nbconvert_exporter": "python",
   "pygments_lexer": "ipython3",
   "version": "3.8.3"
  }
 },
 "nbformat": 4,
 "nbformat_minor": 4
}
