{
 "cells": [
  {
   "cell_type": "code",
   "execution_count": 1,
   "metadata": {},
   "outputs": [],
   "source": [
    "import numpy as np\n",
    "import pandas as pd\n",
    "import matplotlib.pyplot as plt\n",
    "import seaborn as sns\n",
    "import plotly.express as px\n",
    "from plotly.subplots import make_subplots\n",
    "import plotly.graph_objects as go\n",
    "import plotly.io as pio\n",
    "import plotly\n",
    "from IPython.display import Image\n",
    "import sys\n",
    "#import phik\n",
    "pio.renderers.default = 'svg'\n",
    "#pio.orca.config.use_xvfb = True\n",
    "#plotly.io.orca.config.executable = '/usr/local/bin/to/'\n",
    "#plotly.io.orca.config.executable = '/Users/fast6/anaconda3/orca_ap'"
   ]
  },
  {
   "cell_type": "code",
   "execution_count": 2,
   "metadata": {},
   "outputs": [],
   "source": [
    "import plotly.io as pio\n",
    "pio.renderers.default = 'svg'"
   ]
  },
  {
   "cell_type": "code",
   "execution_count": 3,
   "metadata": {},
   "outputs": [
    {
     "data": {
      "text/html": [
       "<div>\n",
       "<style scoped>\n",
       "    .dataframe tbody tr th:only-of-type {\n",
       "        vertical-align: middle;\n",
       "    }\n",
       "\n",
       "    .dataframe tbody tr th {\n",
       "        vertical-align: top;\n",
       "    }\n",
       "\n",
       "    .dataframe thead th {\n",
       "        text-align: right;\n",
       "    }\n",
       "</style>\n",
       "<table border=\"1\" class=\"dataframe\">\n",
       "  <thead>\n",
       "    <tr style=\"text-align: right;\">\n",
       "      <th></th>\n",
       "      <th>date</th>\n",
       "      <th>total_sales</th>\n",
       "    </tr>\n",
       "  </thead>\n",
       "  <tbody>\n",
       "    <tr>\n",
       "      <th>0</th>\n",
       "      <td>2011-01-29</td>\n",
       "      <td>32631.0</td>\n",
       "    </tr>\n",
       "    <tr>\n",
       "      <th>1</th>\n",
       "      <td>2011-01-30</td>\n",
       "      <td>31749.0</td>\n",
       "    </tr>\n",
       "    <tr>\n",
       "      <th>2</th>\n",
       "      <td>2011-01-31</td>\n",
       "      <td>23783.0</td>\n",
       "    </tr>\n",
       "    <tr>\n",
       "      <th>3</th>\n",
       "      <td>2011-02-01</td>\n",
       "      <td>25412.0</td>\n",
       "    </tr>\n",
       "    <tr>\n",
       "      <th>4</th>\n",
       "      <td>2011-02-02</td>\n",
       "      <td>19146.0</td>\n",
       "    </tr>\n",
       "  </tbody>\n",
       "</table>\n",
       "</div>"
      ],
      "text/plain": [
       "         date  total_sales\n",
       "0  2011-01-29      32631.0\n",
       "1  2011-01-30      31749.0\n",
       "2  2011-01-31      23783.0\n",
       "3  2011-02-01      25412.0\n",
       "4  2011-02-02      19146.0"
      ]
     },
     "execution_count": 3,
     "metadata": {},
     "output_type": "execute_result"
    }
   ],
   "source": [
    "sales=pd.read_csv('y_df.csv')\n",
    "sales.head()"
   ]
  },
  {
   "cell_type": "code",
   "execution_count": 4,
   "metadata": {},
   "outputs": [
    {
     "data": {
      "text/html": [
       "<div>\n",
       "<style scoped>\n",
       "    .dataframe tbody tr th:only-of-type {\n",
       "        vertical-align: middle;\n",
       "    }\n",
       "\n",
       "    .dataframe tbody tr th {\n",
       "        vertical-align: top;\n",
       "    }\n",
       "\n",
       "    .dataframe thead th {\n",
       "        text-align: right;\n",
       "    }\n",
       "</style>\n",
       "<table border=\"1\" class=\"dataframe\">\n",
       "  <thead>\n",
       "    <tr style=\"text-align: right;\">\n",
       "      <th></th>\n",
       "      <th>date</th>\n",
       "      <th>wm_yr_wk</th>\n",
       "      <th>weekday</th>\n",
       "      <th>wday</th>\n",
       "      <th>month</th>\n",
       "      <th>year</th>\n",
       "      <th>d</th>\n",
       "      <th>event_name_1</th>\n",
       "      <th>event_type_1</th>\n",
       "      <th>event_name_2</th>\n",
       "      <th>event_type_2</th>\n",
       "      <th>snap_CA</th>\n",
       "      <th>snap_TX</th>\n",
       "      <th>snap_WI</th>\n",
       "    </tr>\n",
       "  </thead>\n",
       "  <tbody>\n",
       "    <tr>\n",
       "      <th>0</th>\n",
       "      <td>2011-01-29</td>\n",
       "      <td>11101</td>\n",
       "      <td>Saturday</td>\n",
       "      <td>1</td>\n",
       "      <td>1</td>\n",
       "      <td>2011</td>\n",
       "      <td>d_1</td>\n",
       "      <td>NaN</td>\n",
       "      <td>NaN</td>\n",
       "      <td>NaN</td>\n",
       "      <td>NaN</td>\n",
       "      <td>0</td>\n",
       "      <td>0</td>\n",
       "      <td>0</td>\n",
       "    </tr>\n",
       "    <tr>\n",
       "      <th>1</th>\n",
       "      <td>2011-01-30</td>\n",
       "      <td>11101</td>\n",
       "      <td>Sunday</td>\n",
       "      <td>2</td>\n",
       "      <td>1</td>\n",
       "      <td>2011</td>\n",
       "      <td>d_2</td>\n",
       "      <td>NaN</td>\n",
       "      <td>NaN</td>\n",
       "      <td>NaN</td>\n",
       "      <td>NaN</td>\n",
       "      <td>0</td>\n",
       "      <td>0</td>\n",
       "      <td>0</td>\n",
       "    </tr>\n",
       "    <tr>\n",
       "      <th>2</th>\n",
       "      <td>2011-01-31</td>\n",
       "      <td>11101</td>\n",
       "      <td>Monday</td>\n",
       "      <td>3</td>\n",
       "      <td>1</td>\n",
       "      <td>2011</td>\n",
       "      <td>d_3</td>\n",
       "      <td>NaN</td>\n",
       "      <td>NaN</td>\n",
       "      <td>NaN</td>\n",
       "      <td>NaN</td>\n",
       "      <td>0</td>\n",
       "      <td>0</td>\n",
       "      <td>0</td>\n",
       "    </tr>\n",
       "    <tr>\n",
       "      <th>3</th>\n",
       "      <td>2011-02-01</td>\n",
       "      <td>11101</td>\n",
       "      <td>Tuesday</td>\n",
       "      <td>4</td>\n",
       "      <td>2</td>\n",
       "      <td>2011</td>\n",
       "      <td>d_4</td>\n",
       "      <td>NaN</td>\n",
       "      <td>NaN</td>\n",
       "      <td>NaN</td>\n",
       "      <td>NaN</td>\n",
       "      <td>1</td>\n",
       "      <td>1</td>\n",
       "      <td>0</td>\n",
       "    </tr>\n",
       "    <tr>\n",
       "      <th>4</th>\n",
       "      <td>2011-02-02</td>\n",
       "      <td>11101</td>\n",
       "      <td>Wednesday</td>\n",
       "      <td>5</td>\n",
       "      <td>2</td>\n",
       "      <td>2011</td>\n",
       "      <td>d_5</td>\n",
       "      <td>NaN</td>\n",
       "      <td>NaN</td>\n",
       "      <td>NaN</td>\n",
       "      <td>NaN</td>\n",
       "      <td>1</td>\n",
       "      <td>0</td>\n",
       "      <td>1</td>\n",
       "    </tr>\n",
       "  </tbody>\n",
       "</table>\n",
       "</div>"
      ],
      "text/plain": [
       "         date  wm_yr_wk    weekday  wday  month  year    d event_name_1  \\\n",
       "0  2011-01-29     11101   Saturday     1      1  2011  d_1          NaN   \n",
       "1  2011-01-30     11101     Sunday     2      1  2011  d_2          NaN   \n",
       "2  2011-01-31     11101     Monday     3      1  2011  d_3          NaN   \n",
       "3  2011-02-01     11101    Tuesday     4      2  2011  d_4          NaN   \n",
       "4  2011-02-02     11101  Wednesday     5      2  2011  d_5          NaN   \n",
       "\n",
       "  event_type_1 event_name_2 event_type_2  snap_CA  snap_TX  snap_WI  \n",
       "0          NaN          NaN          NaN        0        0        0  \n",
       "1          NaN          NaN          NaN        0        0        0  \n",
       "2          NaN          NaN          NaN        0        0        0  \n",
       "3          NaN          NaN          NaN        1        1        0  \n",
       "4          NaN          NaN          NaN        1        0        1  "
      ]
     },
     "execution_count": 4,
     "metadata": {},
     "output_type": "execute_result"
    }
   ],
   "source": [
    "calendar=pd.read_csv('calendar.csv')\n",
    "calendar.head()"
   ]
  },
  {
   "cell_type": "code",
   "execution_count": 5,
   "metadata": {
    "scrolled": true
   },
   "outputs": [
    {
     "data": {
      "text/html": [
       "<div>\n",
       "<style scoped>\n",
       "    .dataframe tbody tr th:only-of-type {\n",
       "        vertical-align: middle;\n",
       "    }\n",
       "\n",
       "    .dataframe tbody tr th {\n",
       "        vertical-align: top;\n",
       "    }\n",
       "\n",
       "    .dataframe thead th {\n",
       "        text-align: right;\n",
       "    }\n",
       "</style>\n",
       "<table border=\"1\" class=\"dataframe\">\n",
       "  <thead>\n",
       "    <tr style=\"text-align: right;\">\n",
       "      <th></th>\n",
       "      <th>total_sales</th>\n",
       "      <th>wm_yr_wk</th>\n",
       "      <th>weekday</th>\n",
       "      <th>wday</th>\n",
       "      <th>month</th>\n",
       "      <th>year</th>\n",
       "      <th>d</th>\n",
       "      <th>event_name_1</th>\n",
       "      <th>event_type_1</th>\n",
       "      <th>event_name_2</th>\n",
       "      <th>event_type_2</th>\n",
       "      <th>snap_CA</th>\n",
       "      <th>snap_TX</th>\n",
       "      <th>snap_WI</th>\n",
       "    </tr>\n",
       "    <tr>\n",
       "      <th>date</th>\n",
       "      <th></th>\n",
       "      <th></th>\n",
       "      <th></th>\n",
       "      <th></th>\n",
       "      <th></th>\n",
       "      <th></th>\n",
       "      <th></th>\n",
       "      <th></th>\n",
       "      <th></th>\n",
       "      <th></th>\n",
       "      <th></th>\n",
       "      <th></th>\n",
       "      <th></th>\n",
       "      <th></th>\n",
       "    </tr>\n",
       "  </thead>\n",
       "  <tbody>\n",
       "    <tr>\n",
       "      <th>2011-01-29</th>\n",
       "      <td>32631.0</td>\n",
       "      <td>11101</td>\n",
       "      <td>Saturday</td>\n",
       "      <td>1</td>\n",
       "      <td>1</td>\n",
       "      <td>2011</td>\n",
       "      <td>d_1</td>\n",
       "      <td>NaN</td>\n",
       "      <td>NaN</td>\n",
       "      <td>NaN</td>\n",
       "      <td>NaN</td>\n",
       "      <td>0</td>\n",
       "      <td>0</td>\n",
       "      <td>0</td>\n",
       "    </tr>\n",
       "    <tr>\n",
       "      <th>2011-01-30</th>\n",
       "      <td>31749.0</td>\n",
       "      <td>11101</td>\n",
       "      <td>Sunday</td>\n",
       "      <td>2</td>\n",
       "      <td>1</td>\n",
       "      <td>2011</td>\n",
       "      <td>d_2</td>\n",
       "      <td>NaN</td>\n",
       "      <td>NaN</td>\n",
       "      <td>NaN</td>\n",
       "      <td>NaN</td>\n",
       "      <td>0</td>\n",
       "      <td>0</td>\n",
       "      <td>0</td>\n",
       "    </tr>\n",
       "    <tr>\n",
       "      <th>2011-01-31</th>\n",
       "      <td>23783.0</td>\n",
       "      <td>11101</td>\n",
       "      <td>Monday</td>\n",
       "      <td>3</td>\n",
       "      <td>1</td>\n",
       "      <td>2011</td>\n",
       "      <td>d_3</td>\n",
       "      <td>NaN</td>\n",
       "      <td>NaN</td>\n",
       "      <td>NaN</td>\n",
       "      <td>NaN</td>\n",
       "      <td>0</td>\n",
       "      <td>0</td>\n",
       "      <td>0</td>\n",
       "    </tr>\n",
       "    <tr>\n",
       "      <th>2011-02-01</th>\n",
       "      <td>25412.0</td>\n",
       "      <td>11101</td>\n",
       "      <td>Tuesday</td>\n",
       "      <td>4</td>\n",
       "      <td>2</td>\n",
       "      <td>2011</td>\n",
       "      <td>d_4</td>\n",
       "      <td>NaN</td>\n",
       "      <td>NaN</td>\n",
       "      <td>NaN</td>\n",
       "      <td>NaN</td>\n",
       "      <td>1</td>\n",
       "      <td>1</td>\n",
       "      <td>0</td>\n",
       "    </tr>\n",
       "    <tr>\n",
       "      <th>2011-02-02</th>\n",
       "      <td>19146.0</td>\n",
       "      <td>11101</td>\n",
       "      <td>Wednesday</td>\n",
       "      <td>5</td>\n",
       "      <td>2</td>\n",
       "      <td>2011</td>\n",
       "      <td>d_5</td>\n",
       "      <td>NaN</td>\n",
       "      <td>NaN</td>\n",
       "      <td>NaN</td>\n",
       "      <td>NaN</td>\n",
       "      <td>1</td>\n",
       "      <td>0</td>\n",
       "      <td>1</td>\n",
       "    </tr>\n",
       "  </tbody>\n",
       "</table>\n",
       "</div>"
      ],
      "text/plain": [
       "            total_sales  wm_yr_wk    weekday  wday  month  year    d  \\\n",
       "date                                                                   \n",
       "2011-01-29      32631.0     11101   Saturday     1      1  2011  d_1   \n",
       "2011-01-30      31749.0     11101     Sunday     2      1  2011  d_2   \n",
       "2011-01-31      23783.0     11101     Monday     3      1  2011  d_3   \n",
       "2011-02-01      25412.0     11101    Tuesday     4      2  2011  d_4   \n",
       "2011-02-02      19146.0     11101  Wednesday     5      2  2011  d_5   \n",
       "\n",
       "           event_name_1 event_type_1 event_name_2 event_type_2  snap_CA  \\\n",
       "date                                                                      \n",
       "2011-01-29          NaN          NaN          NaN          NaN        0   \n",
       "2011-01-30          NaN          NaN          NaN          NaN        0   \n",
       "2011-01-31          NaN          NaN          NaN          NaN        0   \n",
       "2011-02-01          NaN          NaN          NaN          NaN        1   \n",
       "2011-02-02          NaN          NaN          NaN          NaN        1   \n",
       "\n",
       "            snap_TX  snap_WI  \n",
       "date                          \n",
       "2011-01-29        0        0  \n",
       "2011-01-30        0        0  \n",
       "2011-01-31        0        0  \n",
       "2011-02-01        1        0  \n",
       "2011-02-02        0        1  "
      ]
     },
     "execution_count": 5,
     "metadata": {},
     "output_type": "execute_result"
    }
   ],
   "source": [
    "sales=sales.merge(calendar,\n",
    "            left_on='date',\n",
    "            right_on='date',\n",
    "           #left_index=True,\n",
    "           #right_index=True,\n",
    "            validate='1:1') \\\n",
    "    .set_index('date')\n",
    "sales.head()"
   ]
  },
  {
   "cell_type": "code",
   "execution_count": 6,
   "metadata": {},
   "outputs": [
    {
     "data": {
      "text/plain": [
       "total_sales     float64\n",
       "wm_yr_wk          int64\n",
       "weekday          object\n",
       "wday              int64\n",
       "month             int64\n",
       "year              int64\n",
       "d                object\n",
       "event_name_1     object\n",
       "event_type_1     object\n",
       "event_name_2     object\n",
       "event_type_2     object\n",
       "snap_CA           int64\n",
       "snap_TX           int64\n",
       "snap_WI           int64\n",
       "dtype: object"
      ]
     },
     "execution_count": 6,
     "metadata": {},
     "output_type": "execute_result"
    }
   ],
   "source": [
    "sales.dtypes"
   ]
  },
  {
   "cell_type": "code",
   "execution_count": 7,
   "metadata": {
    "scrolled": true
   },
   "outputs": [
    {
     "data": {
      "image/svg+xml": [
       "<svg class=\"main-svg\" xmlns=\"http://www.w3.org/2000/svg\" xmlns:xlink=\"http://www.w3.org/1999/xlink\" width=\"700\" height=\"450\" style=\"\" viewBox=\"0 0 700 450\"><rect x=\"0\" y=\"0\" width=\"700\" height=\"450\" style=\"fill: rgb(255, 255, 255); fill-opacity: 1;\"/><defs id=\"defs-f53990\"><g class=\"clips\"><clipPath id=\"clipf53990xyplot\" class=\"plotclip\"><rect width=\"540\" height=\"310\"/></clipPath><clipPath class=\"axesclip\" id=\"clipf53990x\"><rect x=\"80\" y=\"0\" width=\"540\" height=\"450\"/></clipPath><clipPath class=\"axesclip\" id=\"clipf53990y\"><rect x=\"0\" y=\"60\" width=\"700\" height=\"310\"/></clipPath><clipPath class=\"axesclip\" id=\"clipf53990xy\"><rect x=\"80\" y=\"60\" width=\"540\" height=\"310\"/></clipPath></g><g class=\"gradients\"/></defs><g class=\"bglayer\"><rect class=\"bg\" x=\"80\" y=\"60\" width=\"540\" height=\"310\" style=\"fill: rgb(229, 236, 246); fill-opacity: 1; stroke-width: 0;\"/></g><g class=\"layer-below\"><g class=\"imagelayer\"/><g class=\"shapelayer\"/></g><g class=\"cartesianlayer\"><g class=\"subplot xy\"><g class=\"layer-subplot\"><g class=\"shapelayer\"/><g class=\"imagelayer\"/></g><g class=\"gridlayer\"><g class=\"x\"><path class=\"xgrid crisp\" transform=\"translate(173.8,0)\" d=\"M0,60v310\" style=\"stroke: rgb(255, 255, 255); stroke-opacity: 1; stroke-width: 1px;\"/><path class=\"xgrid crisp\" transform=\"translate(275.68,0)\" d=\"M0,60v310\" style=\"stroke: rgb(255, 255, 255); stroke-opacity: 1; stroke-width: 1px;\"/><path class=\"xgrid crisp\" transform=\"translate(377.28,0)\" d=\"M0,60v310\" style=\"stroke: rgb(255, 255, 255); stroke-opacity: 1; stroke-width: 1px;\"/><path class=\"xgrid crisp\" transform=\"translate(478.88,0)\" d=\"M0,60v310\" style=\"stroke: rgb(255, 255, 255); stroke-opacity: 1; stroke-width: 1px;\"/><path class=\"xgrid crisp\" transform=\"translate(580.47,0)\" d=\"M0,60v310\" style=\"stroke: rgb(255, 255, 255); stroke-opacity: 1; stroke-width: 1px;\"/></g><g class=\"y\"><path class=\"ygrid crisp\" transform=\"translate(0,307.98)\" d=\"M80,0h540\" style=\"stroke: rgb(255, 255, 255); stroke-opacity: 1; stroke-width: 1px;\"/><path class=\"ygrid crisp\" transform=\"translate(0,261.40999999999997)\" d=\"M80,0h540\" style=\"stroke: rgb(255, 255, 255); stroke-opacity: 1; stroke-width: 1px;\"/><path class=\"ygrid crisp\" transform=\"translate(0,214.84)\" d=\"M80,0h540\" style=\"stroke: rgb(255, 255, 255); stroke-opacity: 1; stroke-width: 1px;\"/><path class=\"ygrid crisp\" transform=\"translate(0,168.26999999999998)\" d=\"M80,0h540\" style=\"stroke: rgb(255, 255, 255); stroke-opacity: 1; stroke-width: 1px;\"/><path class=\"ygrid crisp\" transform=\"translate(0,121.7)\" d=\"M80,0h540\" style=\"stroke: rgb(255, 255, 255); stroke-opacity: 1; stroke-width: 1px;\"/><path class=\"ygrid crisp\" transform=\"translate(0,75.13)\" d=\"M80,0h540\" style=\"stroke: rgb(255, 255, 255); stroke-opacity: 1; stroke-width: 1px;\"/></g></g><g class=\"zerolinelayer\"><path class=\"yzl zl crisp\" transform=\"translate(0,354.55)\" d=\"M80,0h540\" style=\"stroke: rgb(255, 255, 255); stroke-opacity: 1; stroke-width: 2px;\"/></g><path class=\"xlines-below\"/><path class=\"ylines-below\"/><g class=\"overlines-below\"/><g class=\"xaxislayer-below\"/><g class=\"yaxislayer-below\"/><g class=\"overaxes-below\"/><g class=\"plot\" transform=\"translate(80,60)\" clip-path=\"url('#clipf53990xyplot')\"/><g class=\"overplot\"/><path class=\"xlines-above crisp\" d=\"M0,0\" style=\"fill: none;\"/><path class=\"ylines-above crisp\" d=\"M0,0\" style=\"fill: none;\"/><g class=\"overlines-above\"/><g class=\"xaxislayer-above\"><g class=\"xtick\"><text text-anchor=\"middle\" x=\"0\" y=\"383\" transform=\"translate(173.8,0)\" style=\"font-family: 'Open Sans', verdana, arial, sans-serif; font-size: 12px; fill: rgb(42, 63, 95); fill-opacity: 1; white-space: pre;\">2012</text></g><g class=\"xtick\"><text text-anchor=\"middle\" x=\"0\" y=\"383\" transform=\"translate(275.68,0)\" style=\"font-family: 'Open Sans', verdana, arial, sans-serif; font-size: 12px; fill: rgb(42, 63, 95); fill-opacity: 1; white-space: pre;\">2013</text></g><g class=\"xtick\"><text text-anchor=\"middle\" x=\"0\" y=\"383\" transform=\"translate(377.28,0)\" style=\"font-family: 'Open Sans', verdana, arial, sans-serif; font-size: 12px; fill: rgb(42, 63, 95); fill-opacity: 1; white-space: pre;\">2014</text></g><g class=\"xtick\"><text text-anchor=\"middle\" x=\"0\" y=\"383\" transform=\"translate(478.88,0)\" style=\"font-family: 'Open Sans', verdana, arial, sans-serif; font-size: 12px; fill: rgb(42, 63, 95); fill-opacity: 1; white-space: pre;\">2015</text></g><g class=\"xtick\"><text text-anchor=\"middle\" x=\"0\" y=\"383\" transform=\"translate(580.47,0)\" style=\"font-family: 'Open Sans', verdana, arial, sans-serif; font-size: 12px; fill: rgb(42, 63, 95); fill-opacity: 1; white-space: pre;\">2016</text></g></g><g class=\"yaxislayer-above\"><g class=\"ytick\"><text text-anchor=\"end\" x=\"79\" y=\"4.199999999999999\" transform=\"translate(0,354.55)\" style=\"font-family: 'Open Sans', verdana, arial, sans-serif; font-size: 12px; fill: rgb(42, 63, 95); fill-opacity: 1; white-space: pre;\">0</text></g><g class=\"ytick\"><text text-anchor=\"end\" x=\"79\" y=\"4.199999999999999\" transform=\"translate(0,307.98)\" style=\"font-family: 'Open Sans', verdana, arial, sans-serif; font-size: 12px; fill: rgb(42, 63, 95); fill-opacity: 1; white-space: pre;\">10k</text></g><g class=\"ytick\"><text text-anchor=\"end\" x=\"79\" y=\"4.199999999999999\" transform=\"translate(0,261.40999999999997)\" style=\"font-family: 'Open Sans', verdana, arial, sans-serif; font-size: 12px; fill: rgb(42, 63, 95); fill-opacity: 1; white-space: pre;\">20k</text></g><g class=\"ytick\"><text text-anchor=\"end\" x=\"79\" y=\"4.199999999999999\" transform=\"translate(0,214.84)\" style=\"font-family: 'Open Sans', verdana, arial, sans-serif; font-size: 12px; fill: rgb(42, 63, 95); fill-opacity: 1; white-space: pre;\">30k</text></g><g class=\"ytick\"><text text-anchor=\"end\" x=\"79\" y=\"4.199999999999999\" transform=\"translate(0,168.26999999999998)\" style=\"font-family: 'Open Sans', verdana, arial, sans-serif; font-size: 12px; fill: rgb(42, 63, 95); fill-opacity: 1; white-space: pre;\">40k</text></g><g class=\"ytick\"><text text-anchor=\"end\" x=\"79\" y=\"4.199999999999999\" transform=\"translate(0,121.7)\" style=\"font-family: 'Open Sans', verdana, arial, sans-serif; font-size: 12px; fill: rgb(42, 63, 95); fill-opacity: 1; white-space: pre;\">50k</text></g><g class=\"ytick\"><text text-anchor=\"end\" x=\"79\" y=\"4.199999999999999\" transform=\"translate(0,75.13)\" style=\"font-family: 'Open Sans', verdana, arial, sans-serif; font-size: 12px; fill: rgb(42, 63, 95); fill-opacity: 1; white-space: pre;\">60k</text></g></g><g class=\"overaxes-above\"/></g></g><g class=\"polarlayer\"/><g class=\"ternarylayer\"/><g class=\"geolayer\"/><g class=\"funnelarealayer\"/><g class=\"pielayer\"/><g class=\"treemaplayer\"/><g class=\"sunburstlayer\"/><g class=\"glimages\"><image xmlns=\"http://www.w3.org/2000/svg\" xlink:href=\"data:image/png;base64,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\" preserveAspectRatio=\"none\" x=\"0\" y=\"0\" width=\"700\" height=\"450\"/><image xmlns=\"http://www.w3.org/2000/svg\" xlink:href=\"data:image/png;base64,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\" preserveAspectRatio=\"none\" x=\"0\" y=\"0\" width=\"700\" height=\"450\"/></g><defs id=\"topdefs-f53990\"><g class=\"clips\"/></defs><g class=\"layer-above\"><g class=\"imagelayer\"/><g class=\"shapelayer\"/></g><g class=\"infolayer\"><g class=\"g-gtitle\"><text class=\"gtitle\" x=\"350\" y=\"30\" text-anchor=\"middle\" dy=\"0em\" style=\"font-family: 'Open Sans', verdana, arial, sans-serif; font-size: 17px; fill: rgb(42, 63, 95); opacity: 1; font-weight: normal; white-space: pre;\">Total Sales</text></g><g class=\"g-xtitle\"><text class=\"xtitle\" x=\"350\" y=\"410.8\" text-anchor=\"middle\" style=\"font-family: 'Open Sans', verdana, arial, sans-serif; font-size: 14px; fill: rgb(42, 63, 95); opacity: 1; font-weight: normal; white-space: pre;\">Years</text></g><g class=\"g-ytitle\"><text class=\"ytitle\" transform=\"rotate(-90,31.840625000000003,215)\" x=\"31.840625000000003\" y=\"215\" text-anchor=\"middle\" style=\"font-family: 'Open Sans', verdana, arial, sans-serif; font-size: 14px; fill: rgb(42, 63, 95); opacity: 1; font-weight: normal; white-space: pre;\">Sales</text></g></g></svg>"
      ]
     },
     "metadata": {},
     "output_type": "display_data"
    }
   ],
   "source": [
    "# https://plotly.com/python/time-series/\n",
    "# https://stackoverflow.com/a/27277074\n",
    "\n",
    "# Since the Sales CSV has data only for about 1941 days, we are picking the date for 1941 days from Cal CSV.\n",
    "date = sales.index\n",
    "\n",
    "# Before plotting the chart for total sales every day across all the states, we are creating a Data Frame making it convinent to plot\n",
    "temp = pd.DataFrame({'Years':date, \"Sales\":sales.total_sales})\n",
    "\n",
    "# Using plotly line plot to make it interactive\n",
    "fig = px.line(data_frame=temp, x=\"Years\", y=\"Sales\")\n",
    "\n",
    "# The tilte parameter sets the title for the chart and title_x = 0.5 brings it to center, the value ranges between 0 - 1.\n",
    "fig.update_layout(title='Total Sales', title_x=0.5)\n",
    "fig.show()\n",
    "#fig.show(\"svg\")"
   ]
  },
  {
   "cell_type": "markdown",
   "metadata": {},
   "source": [
    "Observation:\n",
    "\n",
    "There are 1941 days columns/features, which is around 5 years of data\n",
    "\n",
    "Every Year on Christmas the sales greatly fall less than 50.\n",
    "\n",
    "The demand is growing every year, not exponentially but smoothly."
   ]
  },
  {
   "cell_type": "code",
   "execution_count": 273,
   "metadata": {},
   "outputs": [],
   "source": [
    "# Filling the places of NaN values with No_Event\n",
    "#sales.fillna('No_Event', inplace=True)\n",
    "\n",
    "# Days contains the column names from d_1 to d_1941, we are picking only those columns from the sales csv\n",
    "#c = sales[days]\n",
    "\n",
    "# we are picking the features weekday and d from the cal csv till 1941 rows.\n",
    "temp = sales[['weekday','d', 'total_sales']][:1942]\n"
   ]
  },
  {
   "cell_type": "code",
   "execution_count": 274,
   "metadata": {},
   "outputs": [
    {
     "data": {
      "text/html": [
       "<div>\n",
       "<style scoped>\n",
       "    .dataframe tbody tr th:only-of-type {\n",
       "        vertical-align: middle;\n",
       "    }\n",
       "\n",
       "    .dataframe tbody tr th {\n",
       "        vertical-align: top;\n",
       "    }\n",
       "\n",
       "    .dataframe thead th {\n",
       "        text-align: right;\n",
       "    }\n",
       "</style>\n",
       "<table border=\"1\" class=\"dataframe\">\n",
       "  <thead>\n",
       "    <tr style=\"text-align: right;\">\n",
       "      <th></th>\n",
       "      <th>weekday</th>\n",
       "      <th>d</th>\n",
       "      <th>total_sales</th>\n",
       "    </tr>\n",
       "    <tr>\n",
       "      <th>date</th>\n",
       "      <th></th>\n",
       "      <th></th>\n",
       "      <th></th>\n",
       "    </tr>\n",
       "  </thead>\n",
       "  <tbody>\n",
       "    <tr>\n",
       "      <th>2011-01-29</th>\n",
       "      <td>Saturday</td>\n",
       "      <td>d_1</td>\n",
       "      <td>32631.0</td>\n",
       "    </tr>\n",
       "    <tr>\n",
       "      <th>2011-01-30</th>\n",
       "      <td>Sunday</td>\n",
       "      <td>d_2</td>\n",
       "      <td>31749.0</td>\n",
       "    </tr>\n",
       "    <tr>\n",
       "      <th>2011-01-31</th>\n",
       "      <td>Monday</td>\n",
       "      <td>d_3</td>\n",
       "      <td>23783.0</td>\n",
       "    </tr>\n",
       "    <tr>\n",
       "      <th>2011-02-01</th>\n",
       "      <td>Tuesday</td>\n",
       "      <td>d_4</td>\n",
       "      <td>25412.0</td>\n",
       "    </tr>\n",
       "    <tr>\n",
       "      <th>2011-02-02</th>\n",
       "      <td>Wednesday</td>\n",
       "      <td>d_5</td>\n",
       "      <td>19146.0</td>\n",
       "    </tr>\n",
       "    <tr>\n",
       "      <th>...</th>\n",
       "      <td>...</td>\n",
       "      <td>...</td>\n",
       "      <td>...</td>\n",
       "    </tr>\n",
       "    <tr>\n",
       "      <th>2016-05-18</th>\n",
       "      <td>Wednesday</td>\n",
       "      <td>d_1937</td>\n",
       "      <td>37096.0</td>\n",
       "    </tr>\n",
       "    <tr>\n",
       "      <th>2016-05-19</th>\n",
       "      <td>Thursday</td>\n",
       "      <td>d_1938</td>\n",
       "      <td>36963.0</td>\n",
       "    </tr>\n",
       "    <tr>\n",
       "      <th>2016-05-20</th>\n",
       "      <td>Friday</td>\n",
       "      <td>d_1939</td>\n",
       "      <td>42552.0</td>\n",
       "    </tr>\n",
       "    <tr>\n",
       "      <th>2016-05-21</th>\n",
       "      <td>Saturday</td>\n",
       "      <td>d_1940</td>\n",
       "      <td>51518.0</td>\n",
       "    </tr>\n",
       "    <tr>\n",
       "      <th>2016-05-22</th>\n",
       "      <td>Sunday</td>\n",
       "      <td>d_1941</td>\n",
       "      <td>54338.0</td>\n",
       "    </tr>\n",
       "  </tbody>\n",
       "</table>\n",
       "<p>1941 rows × 3 columns</p>\n",
       "</div>"
      ],
      "text/plain": [
       "              weekday       d  total_sales\n",
       "date                                      \n",
       "2011-01-29   Saturday     d_1      32631.0\n",
       "2011-01-30     Sunday     d_2      31749.0\n",
       "2011-01-31     Monday     d_3      23783.0\n",
       "2011-02-01    Tuesday     d_4      25412.0\n",
       "2011-02-02  Wednesday     d_5      19146.0\n",
       "...               ...     ...          ...\n",
       "2016-05-18  Wednesday  d_1937      37096.0\n",
       "2016-05-19   Thursday  d_1938      36963.0\n",
       "2016-05-20     Friday  d_1939      42552.0\n",
       "2016-05-21   Saturday  d_1940      51518.0\n",
       "2016-05-22     Sunday  d_1941      54338.0\n",
       "\n",
       "[1941 rows x 3 columns]"
      ]
     },
     "execution_count": 274,
     "metadata": {},
     "output_type": "execute_result"
    }
   ],
   "source": [
    "temp"
   ]
  },
  {
   "cell_type": "code",
   "execution_count": 275,
   "metadata": {
    "scrolled": true
   },
   "outputs": [],
   "source": [
    "\"\"\"We are merging the dataframe c and d and setting the index to be d and grouping it by weekdays and summing it which gives the sale of every product each, \n",
    "we are again summing it up, this gives the sale of total products on a weekday and then sorting by it's increasing order.\"\"\"\n",
    "\n",
    "#temp = c.merge(d,left_index=True, right_on='d')\n",
    "temp.set_index('d', inplace=True)\n",
    "#temp = temp.groupby('weekday').sum().sum(axis=0).sort_values()\n",
    "#temp = temp.groupby('weekday').sum(axis=1).sort_values()\n",
    "#y = [str(np.round(i/temp.sum()*100, 2))+'%' for i in temp.values]"
   ]
  },
  {
   "cell_type": "code",
   "execution_count": 352,
   "metadata": {},
   "outputs": [],
   "source": [
    "temp = temp.groupby('weekday').sum().sort_values(by='total_sales')"
   ]
  },
  {
   "cell_type": "code",
   "execution_count": 353,
   "metadata": {
    "scrolled": false
   },
   "outputs": [
    {
     "data": {
      "text/html": [
       "<div>\n",
       "<style scoped>\n",
       "    .dataframe tbody tr th:only-of-type {\n",
       "        vertical-align: middle;\n",
       "    }\n",
       "\n",
       "    .dataframe tbody tr th {\n",
       "        vertical-align: top;\n",
       "    }\n",
       "\n",
       "    .dataframe thead th {\n",
       "        text-align: right;\n",
       "    }\n",
       "</style>\n",
       "<table border=\"1\" class=\"dataframe\">\n",
       "  <thead>\n",
       "    <tr style=\"text-align: right;\">\n",
       "      <th></th>\n",
       "      <th>total_sales</th>\n",
       "    </tr>\n",
       "    <tr>\n",
       "      <th>weekday</th>\n",
       "      <th></th>\n",
       "    </tr>\n",
       "  </thead>\n",
       "  <tbody>\n",
       "    <tr>\n",
       "      <th>Wednesday</th>\n",
       "      <td>8346126.0</td>\n",
       "    </tr>\n",
       "    <tr>\n",
       "      <th>Thursday</th>\n",
       "      <td>8398928.0</td>\n",
       "    </tr>\n",
       "    <tr>\n",
       "      <th>Tuesday</th>\n",
       "      <td>8448634.0</td>\n",
       "    </tr>\n",
       "    <tr>\n",
       "      <th>Monday</th>\n",
       "      <td>9139596.0</td>\n",
       "    </tr>\n",
       "    <tr>\n",
       "      <th>Friday</th>\n",
       "      <td>9517020.0</td>\n",
       "    </tr>\n",
       "    <tr>\n",
       "      <th>Sunday</th>\n",
       "      <td>11482526.0</td>\n",
       "    </tr>\n",
       "    <tr>\n",
       "      <th>Saturday</th>\n",
       "      <td>11594343.0</td>\n",
       "    </tr>\n",
       "  </tbody>\n",
       "</table>\n",
       "</div>"
      ],
      "text/plain": [
       "           total_sales\n",
       "weekday               \n",
       "Wednesday    8346126.0\n",
       "Thursday     8398928.0\n",
       "Tuesday      8448634.0\n",
       "Monday       9139596.0\n",
       "Friday       9517020.0\n",
       "Sunday      11482526.0\n",
       "Saturday    11594343.0"
      ]
     },
     "execution_count": 353,
     "metadata": {},
     "output_type": "execute_result"
    }
   ],
   "source": [
    "temp"
   ]
  },
  {
   "cell_type": "code",
   "execution_count": 354,
   "metadata": {},
   "outputs": [
    {
     "data": {
      "text/plain": [
       "total_sales    66927173.0\n",
       "dtype: float64"
      ]
     },
     "execution_count": 354,
     "metadata": {},
     "output_type": "execute_result"
    }
   ],
   "source": [
    "temp.sum()"
   ]
  },
  {
   "cell_type": "code",
   "execution_count": 358,
   "metadata": {},
   "outputs": [
    {
     "data": {
      "text/plain": [
       "[12.47, 12.55, 12.62, 13.66, 14.22, 17.16, 17.32]"
      ]
     },
     "execution_count": 358,
     "metadata": {},
     "output_type": "execute_result"
    }
   ],
   "source": [
    "y=[(np.round(np.take(i,indices=0)/66927173*100,2)) for i in temp.values]\n",
    "y"
   ]
  },
  {
   "cell_type": "code",
   "execution_count": 362,
   "metadata": {
    "scrolled": true
   },
   "outputs": [
    {
     "data": {
      "application/vnd.plotly.v1+json": {
       "config": {
        "plotlyServerURL": "https://plot.ly"
       },
       "data": [
        {
         "alignmentgroup": "True",
         "hovertemplate": "Total Sales: %{y}",
         "legendgroup": "a",
         "marker": {
          "color": "#636efa"
         },
         "name": "a",
         "offsetgroup": "a",
         "orientation": "v",
         "showlegend": true,
         "text": [
          12.47
         ],
         "textposition": "outside",
         "type": "bar",
         "x": [
          "Wednesday"
         ],
         "xaxis": "x",
         "y": [
          12.47
         ],
         "yaxis": "y"
        },
        {
         "alignmentgroup": "True",
         "hovertemplate": "Total Sales: %{y}",
         "legendgroup": "b",
         "marker": {
          "color": "#EF553B"
         },
         "name": "b",
         "offsetgroup": "b",
         "orientation": "v",
         "showlegend": true,
         "text": [
          12.55
         ],
         "textposition": "outside",
         "type": "bar",
         "x": [
          "Thursday"
         ],
         "xaxis": "x",
         "y": [
          12.55
         ],
         "yaxis": "y"
        },
        {
         "alignmentgroup": "True",
         "hovertemplate": "Total Sales: %{y}",
         "legendgroup": "c",
         "marker": {
          "color": "#00cc96"
         },
         "name": "c",
         "offsetgroup": "c",
         "orientation": "v",
         "showlegend": true,
         "text": [
          12.62
         ],
         "textposition": "outside",
         "type": "bar",
         "x": [
          "Tuesday"
         ],
         "xaxis": "x",
         "y": [
          12.62
         ],
         "yaxis": "y"
        },
        {
         "alignmentgroup": "True",
         "hovertemplate": "Total Sales: %{y}",
         "legendgroup": "d",
         "marker": {
          "color": "#ab63fa"
         },
         "name": "d",
         "offsetgroup": "d",
         "orientation": "v",
         "showlegend": true,
         "text": [
          13.66
         ],
         "textposition": "outside",
         "type": "bar",
         "x": [
          "Monday"
         ],
         "xaxis": "x",
         "y": [
          13.66
         ],
         "yaxis": "y"
        },
        {
         "alignmentgroup": "True",
         "hovertemplate": "Total Sales: %{y}",
         "legendgroup": "e",
         "marker": {
          "color": "#FFA15A"
         },
         "name": "e",
         "offsetgroup": "e",
         "orientation": "v",
         "showlegend": true,
         "text": [
          14.22
         ],
         "textposition": "outside",
         "type": "bar",
         "x": [
          "Friday"
         ],
         "xaxis": "x",
         "y": [
          14.22
         ],
         "yaxis": "y"
        },
        {
         "alignmentgroup": "True",
         "hovertemplate": "Total Sales: %{y}",
         "legendgroup": "f",
         "marker": {
          "color": "#19d3f3"
         },
         "name": "f",
         "offsetgroup": "f",
         "orientation": "v",
         "showlegend": true,
         "text": [
          17.16
         ],
         "textposition": "outside",
         "type": "bar",
         "x": [
          "Sunday"
         ],
         "xaxis": "x",
         "y": [
          17.16
         ],
         "yaxis": "y"
        },
        {
         "alignmentgroup": "True",
         "hovertemplate": "Total Sales: %{y}",
         "legendgroup": "g",
         "marker": {
          "color": "#FF6692"
         },
         "name": "g",
         "offsetgroup": "g",
         "orientation": "v",
         "showlegend": true,
         "text": [
          17.32
         ],
         "textposition": "outside",
         "type": "bar",
         "x": [
          "Saturday"
         ],
         "xaxis": "x",
         "y": [
          17.32
         ],
         "yaxis": "y"
        }
       ],
       "layout": {
        "barmode": "relative",
        "height": 500,
        "legend": {
         "title": {
          "text": "color"
         },
         "tracegroupgap": 0
        },
        "margin": {
         "t": 60
        },
        "showlegend": false,
        "template": {
         "data": {
          "bar": [
           {
            "error_x": {
             "color": "#2a3f5f"
            },
            "error_y": {
             "color": "#2a3f5f"
            },
            "marker": {
             "line": {
              "color": "#E5ECF6",
              "width": 0.5
             }
            },
            "type": "bar"
           }
          ],
          "barpolar": [
           {
            "marker": {
             "line": {
              "color": "#E5ECF6",
              "width": 0.5
             }
            },
            "type": "barpolar"
           }
          ],
          "carpet": [
           {
            "aaxis": {
             "endlinecolor": "#2a3f5f",
             "gridcolor": "white",
             "linecolor": "white",
             "minorgridcolor": "white",
             "startlinecolor": "#2a3f5f"
            },
            "baxis": {
             "endlinecolor": "#2a3f5f",
             "gridcolor": "white",
             "linecolor": "white",
             "minorgridcolor": "white",
             "startlinecolor": "#2a3f5f"
            },
            "type": "carpet"
           }
          ],
          "choropleth": [
           {
            "colorbar": {
             "outlinewidth": 0,
             "ticks": ""
            },
            "type": "choropleth"
           }
          ],
          "contour": [
           {
            "colorbar": {
             "outlinewidth": 0,
             "ticks": ""
            },
            "colorscale": [
             [
              0,
              "#0d0887"
             ],
             [
              0.1111111111111111,
              "#46039f"
             ],
             [
              0.2222222222222222,
              "#7201a8"
             ],
             [
              0.3333333333333333,
              "#9c179e"
             ],
             [
              0.4444444444444444,
              "#bd3786"
             ],
             [
              0.5555555555555556,
              "#d8576b"
             ],
             [
              0.6666666666666666,
              "#ed7953"
             ],
             [
              0.7777777777777778,
              "#fb9f3a"
             ],
             [
              0.8888888888888888,
              "#fdca26"
             ],
             [
              1,
              "#f0f921"
             ]
            ],
            "type": "contour"
           }
          ],
          "contourcarpet": [
           {
            "colorbar": {
             "outlinewidth": 0,
             "ticks": ""
            },
            "type": "contourcarpet"
           }
          ],
          "heatmap": [
           {
            "colorbar": {
             "outlinewidth": 0,
             "ticks": ""
            },
            "colorscale": [
             [
              0,
              "#0d0887"
             ],
             [
              0.1111111111111111,
              "#46039f"
             ],
             [
              0.2222222222222222,
              "#7201a8"
             ],
             [
              0.3333333333333333,
              "#9c179e"
             ],
             [
              0.4444444444444444,
              "#bd3786"
             ],
             [
              0.5555555555555556,
              "#d8576b"
             ],
             [
              0.6666666666666666,
              "#ed7953"
             ],
             [
              0.7777777777777778,
              "#fb9f3a"
             ],
             [
              0.8888888888888888,
              "#fdca26"
             ],
             [
              1,
              "#f0f921"
             ]
            ],
            "type": "heatmap"
           }
          ],
          "heatmapgl": [
           {
            "colorbar": {
             "outlinewidth": 0,
             "ticks": ""
            },
            "colorscale": [
             [
              0,
              "#0d0887"
             ],
             [
              0.1111111111111111,
              "#46039f"
             ],
             [
              0.2222222222222222,
              "#7201a8"
             ],
             [
              0.3333333333333333,
              "#9c179e"
             ],
             [
              0.4444444444444444,
              "#bd3786"
             ],
             [
              0.5555555555555556,
              "#d8576b"
             ],
             [
              0.6666666666666666,
              "#ed7953"
             ],
             [
              0.7777777777777778,
              "#fb9f3a"
             ],
             [
              0.8888888888888888,
              "#fdca26"
             ],
             [
              1,
              "#f0f921"
             ]
            ],
            "type": "heatmapgl"
           }
          ],
          "histogram": [
           {
            "marker": {
             "colorbar": {
              "outlinewidth": 0,
              "ticks": ""
             }
            },
            "type": "histogram"
           }
          ],
          "histogram2d": [
           {
            "colorbar": {
             "outlinewidth": 0,
             "ticks": ""
            },
            "colorscale": [
             [
              0,
              "#0d0887"
             ],
             [
              0.1111111111111111,
              "#46039f"
             ],
             [
              0.2222222222222222,
              "#7201a8"
             ],
             [
              0.3333333333333333,
              "#9c179e"
             ],
             [
              0.4444444444444444,
              "#bd3786"
             ],
             [
              0.5555555555555556,
              "#d8576b"
             ],
             [
              0.6666666666666666,
              "#ed7953"
             ],
             [
              0.7777777777777778,
              "#fb9f3a"
             ],
             [
              0.8888888888888888,
              "#fdca26"
             ],
             [
              1,
              "#f0f921"
             ]
            ],
            "type": "histogram2d"
           }
          ],
          "histogram2dcontour": [
           {
            "colorbar": {
             "outlinewidth": 0,
             "ticks": ""
            },
            "colorscale": [
             [
              0,
              "#0d0887"
             ],
             [
              0.1111111111111111,
              "#46039f"
             ],
             [
              0.2222222222222222,
              "#7201a8"
             ],
             [
              0.3333333333333333,
              "#9c179e"
             ],
             [
              0.4444444444444444,
              "#bd3786"
             ],
             [
              0.5555555555555556,
              "#d8576b"
             ],
             [
              0.6666666666666666,
              "#ed7953"
             ],
             [
              0.7777777777777778,
              "#fb9f3a"
             ],
             [
              0.8888888888888888,
              "#fdca26"
             ],
             [
              1,
              "#f0f921"
             ]
            ],
            "type": "histogram2dcontour"
           }
          ],
          "mesh3d": [
           {
            "colorbar": {
             "outlinewidth": 0,
             "ticks": ""
            },
            "type": "mesh3d"
           }
          ],
          "parcoords": [
           {
            "line": {
             "colorbar": {
              "outlinewidth": 0,
              "ticks": ""
             }
            },
            "type": "parcoords"
           }
          ],
          "pie": [
           {
            "automargin": true,
            "type": "pie"
           }
          ],
          "scatter": [
           {
            "marker": {
             "colorbar": {
              "outlinewidth": 0,
              "ticks": ""
             }
            },
            "type": "scatter"
           }
          ],
          "scatter3d": [
           {
            "line": {
             "colorbar": {
              "outlinewidth": 0,
              "ticks": ""
             }
            },
            "marker": {
             "colorbar": {
              "outlinewidth": 0,
              "ticks": ""
             }
            },
            "type": "scatter3d"
           }
          ],
          "scattercarpet": [
           {
            "marker": {
             "colorbar": {
              "outlinewidth": 0,
              "ticks": ""
             }
            },
            "type": "scattercarpet"
           }
          ],
          "scattergeo": [
           {
            "marker": {
             "colorbar": {
              "outlinewidth": 0,
              "ticks": ""
             }
            },
            "type": "scattergeo"
           }
          ],
          "scattergl": [
           {
            "marker": {
             "colorbar": {
              "outlinewidth": 0,
              "ticks": ""
             }
            },
            "type": "scattergl"
           }
          ],
          "scattermapbox": [
           {
            "marker": {
             "colorbar": {
              "outlinewidth": 0,
              "ticks": ""
             }
            },
            "type": "scattermapbox"
           }
          ],
          "scatterpolar": [
           {
            "marker": {
             "colorbar": {
              "outlinewidth": 0,
              "ticks": ""
             }
            },
            "type": "scatterpolar"
           }
          ],
          "scatterpolargl": [
           {
            "marker": {
             "colorbar": {
              "outlinewidth": 0,
              "ticks": ""
             }
            },
            "type": "scatterpolargl"
           }
          ],
          "scatterternary": [
           {
            "marker": {
             "colorbar": {
              "outlinewidth": 0,
              "ticks": ""
             }
            },
            "type": "scatterternary"
           }
          ],
          "surface": [
           {
            "colorbar": {
             "outlinewidth": 0,
             "ticks": ""
            },
            "colorscale": [
             [
              0,
              "#0d0887"
             ],
             [
              0.1111111111111111,
              "#46039f"
             ],
             [
              0.2222222222222222,
              "#7201a8"
             ],
             [
              0.3333333333333333,
              "#9c179e"
             ],
             [
              0.4444444444444444,
              "#bd3786"
             ],
             [
              0.5555555555555556,
              "#d8576b"
             ],
             [
              0.6666666666666666,
              "#ed7953"
             ],
             [
              0.7777777777777778,
              "#fb9f3a"
             ],
             [
              0.8888888888888888,
              "#fdca26"
             ],
             [
              1,
              "#f0f921"
             ]
            ],
            "type": "surface"
           }
          ],
          "table": [
           {
            "cells": {
             "fill": {
              "color": "#EBF0F8"
             },
             "line": {
              "color": "white"
             }
            },
            "header": {
             "fill": {
              "color": "#C8D4E3"
             },
             "line": {
              "color": "white"
             }
            },
            "type": "table"
           }
          ]
         },
         "layout": {
          "annotationdefaults": {
           "arrowcolor": "#2a3f5f",
           "arrowhead": 0,
           "arrowwidth": 1
          },
          "autotypenumbers": "strict",
          "coloraxis": {
           "colorbar": {
            "outlinewidth": 0,
            "ticks": ""
           }
          },
          "colorscale": {
           "diverging": [
            [
             0,
             "#8e0152"
            ],
            [
             0.1,
             "#c51b7d"
            ],
            [
             0.2,
             "#de77ae"
            ],
            [
             0.3,
             "#f1b6da"
            ],
            [
             0.4,
             "#fde0ef"
            ],
            [
             0.5,
             "#f7f7f7"
            ],
            [
             0.6,
             "#e6f5d0"
            ],
            [
             0.7,
             "#b8e186"
            ],
            [
             0.8,
             "#7fbc41"
            ],
            [
             0.9,
             "#4d9221"
            ],
            [
             1,
             "#276419"
            ]
           ],
           "sequential": [
            [
             0,
             "#0d0887"
            ],
            [
             0.1111111111111111,
             "#46039f"
            ],
            [
             0.2222222222222222,
             "#7201a8"
            ],
            [
             0.3333333333333333,
             "#9c179e"
            ],
            [
             0.4444444444444444,
             "#bd3786"
            ],
            [
             0.5555555555555556,
             "#d8576b"
            ],
            [
             0.6666666666666666,
             "#ed7953"
            ],
            [
             0.7777777777777778,
             "#fb9f3a"
            ],
            [
             0.8888888888888888,
             "#fdca26"
            ],
            [
             1,
             "#f0f921"
            ]
           ],
           "sequentialminus": [
            [
             0,
             "#0d0887"
            ],
            [
             0.1111111111111111,
             "#46039f"
            ],
            [
             0.2222222222222222,
             "#7201a8"
            ],
            [
             0.3333333333333333,
             "#9c179e"
            ],
            [
             0.4444444444444444,
             "#bd3786"
            ],
            [
             0.5555555555555556,
             "#d8576b"
            ],
            [
             0.6666666666666666,
             "#ed7953"
            ],
            [
             0.7777777777777778,
             "#fb9f3a"
            ],
            [
             0.8888888888888888,
             "#fdca26"
            ],
            [
             1,
             "#f0f921"
            ]
           ]
          },
          "colorway": [
           "#636efa",
           "#EF553B",
           "#00cc96",
           "#ab63fa",
           "#FFA15A",
           "#19d3f3",
           "#FF6692",
           "#B6E880",
           "#FF97FF",
           "#FECB52"
          ],
          "font": {
           "color": "#2a3f5f"
          },
          "geo": {
           "bgcolor": "white",
           "lakecolor": "white",
           "landcolor": "#E5ECF6",
           "showlakes": true,
           "showland": true,
           "subunitcolor": "white"
          },
          "hoverlabel": {
           "align": "left"
          },
          "hovermode": "closest",
          "mapbox": {
           "style": "light"
          },
          "paper_bgcolor": "white",
          "plot_bgcolor": "#E5ECF6",
          "polar": {
           "angularaxis": {
            "gridcolor": "white",
            "linecolor": "white",
            "ticks": ""
           },
           "bgcolor": "#E5ECF6",
           "radialaxis": {
            "gridcolor": "white",
            "linecolor": "white",
            "ticks": ""
           }
          },
          "scene": {
           "xaxis": {
            "backgroundcolor": "#E5ECF6",
            "gridcolor": "white",
            "gridwidth": 2,
            "linecolor": "white",
            "showbackground": true,
            "ticks": "",
            "zerolinecolor": "white"
           },
           "yaxis": {
            "backgroundcolor": "#E5ECF6",
            "gridcolor": "white",
            "gridwidth": 2,
            "linecolor": "white",
            "showbackground": true,
            "ticks": "",
            "zerolinecolor": "white"
           },
           "zaxis": {
            "backgroundcolor": "#E5ECF6",
            "gridcolor": "white",
            "gridwidth": 2,
            "linecolor": "white",
            "showbackground": true,
            "ticks": "",
            "zerolinecolor": "white"
           }
          },
          "shapedefaults": {
           "line": {
            "color": "#2a3f5f"
           }
          },
          "ternary": {
           "aaxis": {
            "gridcolor": "white",
            "linecolor": "white",
            "ticks": ""
           },
           "baxis": {
            "gridcolor": "white",
            "linecolor": "white",
            "ticks": ""
           },
           "bgcolor": "#E5ECF6",
           "caxis": {
            "gridcolor": "white",
            "linecolor": "white",
            "ticks": ""
           }
          },
          "title": {
           "x": 0.05
          },
          "xaxis": {
           "automargin": true,
           "gridcolor": "white",
           "linecolor": "white",
           "ticks": "",
           "title": {
            "standoff": 15
           },
           "zerolinecolor": "white",
           "zerolinewidth": 2
          },
          "yaxis": {
           "automargin": true,
           "gridcolor": "white",
           "linecolor": "white",
           "ticks": "",
           "title": {
            "standoff": 15
           },
           "zerolinecolor": "white",
           "zerolinewidth": 2
          }
         }
        },
        "title": {
         "text": "Percent Sale on day basis",
         "x": 0.5
        },
        "width": 800,
        "xaxis": {
         "anchor": "y",
         "domain": [
          0,
          1
         ],
         "title": {
          "text": "Days"
         }
        },
        "yaxis": {
         "anchor": "x",
         "domain": [
          0,
          1
         ],
         "title": {
          "text": "Percent Sales"
         }
        }
       }
      },
      "text/html": [
       "<div>                            <div id=\"72991b8f-7350-416a-9919-6d584c2a5008\" class=\"plotly-graph-div\" style=\"height:500px; width:800px;\"></div>            <script type=\"text/javascript\">                require([\"plotly\"], function(Plotly) {                    window.PLOTLYENV=window.PLOTLYENV || {};                                    if (document.getElementById(\"72991b8f-7350-416a-9919-6d584c2a5008\")) {                    Plotly.newPlot(                        \"72991b8f-7350-416a-9919-6d584c2a5008\",                        [{\"alignmentgroup\": \"True\", \"hovertemplate\": \"Total Sales: %{y}\", \"legendgroup\": \"a\", \"marker\": {\"color\": \"#636efa\"}, \"name\": \"a\", \"offsetgroup\": \"a\", \"orientation\": \"v\", \"showlegend\": true, \"text\": [12.47], \"textposition\": \"outside\", \"type\": \"bar\", \"x\": [\"Wednesday\"], \"xaxis\": \"x\", \"y\": [12.47], \"yaxis\": \"y\"}, {\"alignmentgroup\": \"True\", \"hovertemplate\": \"Total Sales: %{y}\", \"legendgroup\": \"b\", \"marker\": {\"color\": \"#EF553B\"}, \"name\": \"b\", \"offsetgroup\": \"b\", \"orientation\": \"v\", \"showlegend\": true, \"text\": [12.55], \"textposition\": \"outside\", \"type\": \"bar\", \"x\": [\"Thursday\"], \"xaxis\": \"x\", \"y\": [12.55], \"yaxis\": \"y\"}, {\"alignmentgroup\": \"True\", \"hovertemplate\": \"Total Sales: %{y}\", \"legendgroup\": \"c\", \"marker\": {\"color\": \"#00cc96\"}, \"name\": \"c\", \"offsetgroup\": \"c\", \"orientation\": \"v\", \"showlegend\": true, \"text\": [12.62], \"textposition\": \"outside\", \"type\": \"bar\", \"x\": [\"Tuesday\"], \"xaxis\": \"x\", \"y\": [12.62], \"yaxis\": \"y\"}, {\"alignmentgroup\": \"True\", \"hovertemplate\": \"Total Sales: %{y}\", \"legendgroup\": \"d\", \"marker\": {\"color\": \"#ab63fa\"}, \"name\": \"d\", \"offsetgroup\": \"d\", \"orientation\": \"v\", \"showlegend\": true, \"text\": [13.66], \"textposition\": \"outside\", \"type\": \"bar\", \"x\": [\"Monday\"], \"xaxis\": \"x\", \"y\": [13.66], \"yaxis\": \"y\"}, {\"alignmentgroup\": \"True\", \"hovertemplate\": \"Total Sales: %{y}\", \"legendgroup\": \"e\", \"marker\": {\"color\": \"#FFA15A\"}, \"name\": \"e\", \"offsetgroup\": \"e\", \"orientation\": \"v\", \"showlegend\": true, \"text\": [14.22], \"textposition\": \"outside\", \"type\": \"bar\", \"x\": [\"Friday\"], \"xaxis\": \"x\", \"y\": [14.22], \"yaxis\": \"y\"}, {\"alignmentgroup\": \"True\", \"hovertemplate\": \"Total Sales: %{y}\", \"legendgroup\": \"f\", \"marker\": {\"color\": \"#19d3f3\"}, \"name\": \"f\", \"offsetgroup\": \"f\", \"orientation\": \"v\", \"showlegend\": true, \"text\": [17.16], \"textposition\": \"outside\", \"type\": \"bar\", \"x\": [\"Sunday\"], \"xaxis\": \"x\", \"y\": [17.16], \"yaxis\": \"y\"}, {\"alignmentgroup\": \"True\", \"hovertemplate\": \"Total Sales: %{y}\", \"legendgroup\": \"g\", \"marker\": {\"color\": \"#FF6692\"}, \"name\": \"g\", \"offsetgroup\": \"g\", \"orientation\": \"v\", \"showlegend\": true, \"text\": [17.32], \"textposition\": \"outside\", \"type\": \"bar\", \"x\": [\"Saturday\"], \"xaxis\": \"x\", \"y\": [17.32], \"yaxis\": \"y\"}],                        {\"barmode\": \"relative\", \"height\": 500, \"legend\": {\"title\": {\"text\": \"color\"}, \"tracegroupgap\": 0}, \"margin\": {\"t\": 60}, \"showlegend\": false, \"template\": {\"data\": {\"bar\": [{\"error_x\": {\"color\": \"#2a3f5f\"}, \"error_y\": {\"color\": \"#2a3f5f\"}, \"marker\": {\"line\": {\"color\": \"#E5ECF6\", \"width\": 0.5}}, \"type\": \"bar\"}], \"barpolar\": [{\"marker\": {\"line\": {\"color\": \"#E5ECF6\", \"width\": 0.5}}, \"type\": \"barpolar\"}], \"carpet\": [{\"aaxis\": {\"endlinecolor\": \"#2a3f5f\", \"gridcolor\": \"white\", \"linecolor\": \"white\", \"minorgridcolor\": \"white\", \"startlinecolor\": \"#2a3f5f\"}, \"baxis\": {\"endlinecolor\": \"#2a3f5f\", \"gridcolor\": \"white\", \"linecolor\": \"white\", \"minorgridcolor\": \"white\", \"startlinecolor\": \"#2a3f5f\"}, \"type\": \"carpet\"}], \"choropleth\": [{\"colorbar\": {\"outlinewidth\": 0, \"ticks\": \"\"}, \"type\": \"choropleth\"}], \"contour\": [{\"colorbar\": {\"outlinewidth\": 0, \"ticks\": \"\"}, \"colorscale\": [[0.0, \"#0d0887\"], [0.1111111111111111, \"#46039f\"], [0.2222222222222222, \"#7201a8\"], [0.3333333333333333, \"#9c179e\"], [0.4444444444444444, \"#bd3786\"], [0.5555555555555556, \"#d8576b\"], [0.6666666666666666, \"#ed7953\"], [0.7777777777777778, \"#fb9f3a\"], [0.8888888888888888, \"#fdca26\"], [1.0, \"#f0f921\"]], \"type\": \"contour\"}], \"contourcarpet\": [{\"colorbar\": {\"outlinewidth\": 0, \"ticks\": \"\"}, \"type\": \"contourcarpet\"}], \"heatmap\": [{\"colorbar\": {\"outlinewidth\": 0, \"ticks\": \"\"}, \"colorscale\": [[0.0, \"#0d0887\"], [0.1111111111111111, \"#46039f\"], [0.2222222222222222, \"#7201a8\"], [0.3333333333333333, \"#9c179e\"], [0.4444444444444444, \"#bd3786\"], [0.5555555555555556, \"#d8576b\"], [0.6666666666666666, \"#ed7953\"], [0.7777777777777778, \"#fb9f3a\"], [0.8888888888888888, \"#fdca26\"], [1.0, \"#f0f921\"]], \"type\": \"heatmap\"}], \"heatmapgl\": [{\"colorbar\": {\"outlinewidth\": 0, \"ticks\": \"\"}, \"colorscale\": [[0.0, \"#0d0887\"], [0.1111111111111111, \"#46039f\"], [0.2222222222222222, \"#7201a8\"], [0.3333333333333333, \"#9c179e\"], [0.4444444444444444, \"#bd3786\"], [0.5555555555555556, \"#d8576b\"], [0.6666666666666666, \"#ed7953\"], [0.7777777777777778, \"#fb9f3a\"], [0.8888888888888888, \"#fdca26\"], [1.0, \"#f0f921\"]], \"type\": \"heatmapgl\"}], \"histogram\": [{\"marker\": {\"colorbar\": {\"outlinewidth\": 0, \"ticks\": \"\"}}, \"type\": \"histogram\"}], \"histogram2d\": [{\"colorbar\": {\"outlinewidth\": 0, \"ticks\": \"\"}, \"colorscale\": [[0.0, \"#0d0887\"], [0.1111111111111111, \"#46039f\"], [0.2222222222222222, \"#7201a8\"], [0.3333333333333333, \"#9c179e\"], [0.4444444444444444, \"#bd3786\"], [0.5555555555555556, \"#d8576b\"], [0.6666666666666666, \"#ed7953\"], [0.7777777777777778, \"#fb9f3a\"], [0.8888888888888888, \"#fdca26\"], [1.0, \"#f0f921\"]], \"type\": \"histogram2d\"}], \"histogram2dcontour\": [{\"colorbar\": {\"outlinewidth\": 0, \"ticks\": \"\"}, \"colorscale\": [[0.0, \"#0d0887\"], [0.1111111111111111, \"#46039f\"], [0.2222222222222222, \"#7201a8\"], [0.3333333333333333, \"#9c179e\"], [0.4444444444444444, \"#bd3786\"], [0.5555555555555556, \"#d8576b\"], [0.6666666666666666, \"#ed7953\"], [0.7777777777777778, \"#fb9f3a\"], [0.8888888888888888, \"#fdca26\"], [1.0, \"#f0f921\"]], \"type\": \"histogram2dcontour\"}], \"mesh3d\": [{\"colorbar\": {\"outlinewidth\": 0, \"ticks\": \"\"}, \"type\": \"mesh3d\"}], \"parcoords\": [{\"line\": {\"colorbar\": {\"outlinewidth\": 0, \"ticks\": \"\"}}, \"type\": \"parcoords\"}], \"pie\": [{\"automargin\": true, \"type\": \"pie\"}], \"scatter\": [{\"marker\": {\"colorbar\": {\"outlinewidth\": 0, \"ticks\": \"\"}}, \"type\": \"scatter\"}], \"scatter3d\": [{\"line\": {\"colorbar\": {\"outlinewidth\": 0, \"ticks\": \"\"}}, \"marker\": {\"colorbar\": {\"outlinewidth\": 0, \"ticks\": \"\"}}, \"type\": \"scatter3d\"}], \"scattercarpet\": [{\"marker\": {\"colorbar\": {\"outlinewidth\": 0, \"ticks\": \"\"}}, \"type\": \"scattercarpet\"}], \"scattergeo\": [{\"marker\": {\"colorbar\": {\"outlinewidth\": 0, \"ticks\": \"\"}}, \"type\": \"scattergeo\"}], \"scattergl\": [{\"marker\": {\"colorbar\": {\"outlinewidth\": 0, \"ticks\": \"\"}}, \"type\": \"scattergl\"}], \"scattermapbox\": [{\"marker\": {\"colorbar\": {\"outlinewidth\": 0, \"ticks\": \"\"}}, \"type\": \"scattermapbox\"}], \"scatterpolar\": [{\"marker\": {\"colorbar\": {\"outlinewidth\": 0, \"ticks\": \"\"}}, \"type\": \"scatterpolar\"}], \"scatterpolargl\": [{\"marker\": {\"colorbar\": {\"outlinewidth\": 0, \"ticks\": \"\"}}, \"type\": \"scatterpolargl\"}], \"scatterternary\": [{\"marker\": {\"colorbar\": {\"outlinewidth\": 0, \"ticks\": \"\"}}, \"type\": \"scatterternary\"}], \"surface\": [{\"colorbar\": {\"outlinewidth\": 0, \"ticks\": \"\"}, \"colorscale\": [[0.0, \"#0d0887\"], [0.1111111111111111, \"#46039f\"], [0.2222222222222222, \"#7201a8\"], [0.3333333333333333, \"#9c179e\"], [0.4444444444444444, \"#bd3786\"], [0.5555555555555556, \"#d8576b\"], [0.6666666666666666, \"#ed7953\"], [0.7777777777777778, \"#fb9f3a\"], [0.8888888888888888, \"#fdca26\"], [1.0, \"#f0f921\"]], \"type\": \"surface\"}], \"table\": [{\"cells\": {\"fill\": {\"color\": \"#EBF0F8\"}, \"line\": {\"color\": \"white\"}}, \"header\": {\"fill\": {\"color\": \"#C8D4E3\"}, \"line\": {\"color\": \"white\"}}, \"type\": \"table\"}]}, \"layout\": {\"annotationdefaults\": {\"arrowcolor\": \"#2a3f5f\", \"arrowhead\": 0, \"arrowwidth\": 1}, \"autotypenumbers\": \"strict\", \"coloraxis\": {\"colorbar\": {\"outlinewidth\": 0, \"ticks\": \"\"}}, \"colorscale\": {\"diverging\": [[0, \"#8e0152\"], [0.1, \"#c51b7d\"], [0.2, \"#de77ae\"], [0.3, \"#f1b6da\"], [0.4, \"#fde0ef\"], [0.5, \"#f7f7f7\"], [0.6, \"#e6f5d0\"], [0.7, \"#b8e186\"], [0.8, \"#7fbc41\"], [0.9, \"#4d9221\"], [1, \"#276419\"]], \"sequential\": [[0.0, \"#0d0887\"], [0.1111111111111111, \"#46039f\"], [0.2222222222222222, \"#7201a8\"], [0.3333333333333333, \"#9c179e\"], [0.4444444444444444, \"#bd3786\"], [0.5555555555555556, \"#d8576b\"], [0.6666666666666666, \"#ed7953\"], [0.7777777777777778, \"#fb9f3a\"], [0.8888888888888888, \"#fdca26\"], [1.0, \"#f0f921\"]], \"sequentialminus\": [[0.0, \"#0d0887\"], [0.1111111111111111, \"#46039f\"], [0.2222222222222222, \"#7201a8\"], [0.3333333333333333, \"#9c179e\"], [0.4444444444444444, \"#bd3786\"], [0.5555555555555556, \"#d8576b\"], [0.6666666666666666, \"#ed7953\"], [0.7777777777777778, \"#fb9f3a\"], [0.8888888888888888, \"#fdca26\"], [1.0, \"#f0f921\"]]}, \"colorway\": [\"#636efa\", \"#EF553B\", \"#00cc96\", \"#ab63fa\", \"#FFA15A\", \"#19d3f3\", \"#FF6692\", \"#B6E880\", \"#FF97FF\", \"#FECB52\"], \"font\": {\"color\": \"#2a3f5f\"}, \"geo\": {\"bgcolor\": \"white\", \"lakecolor\": \"white\", \"landcolor\": \"#E5ECF6\", \"showlakes\": true, \"showland\": true, \"subunitcolor\": \"white\"}, \"hoverlabel\": {\"align\": \"left\"}, \"hovermode\": \"closest\", \"mapbox\": {\"style\": \"light\"}, \"paper_bgcolor\": \"white\", \"plot_bgcolor\": \"#E5ECF6\", \"polar\": {\"angularaxis\": {\"gridcolor\": \"white\", \"linecolor\": \"white\", \"ticks\": \"\"}, \"bgcolor\": \"#E5ECF6\", \"radialaxis\": {\"gridcolor\": \"white\", \"linecolor\": \"white\", \"ticks\": \"\"}}, \"scene\": {\"xaxis\": {\"backgroundcolor\": \"#E5ECF6\", \"gridcolor\": \"white\", \"gridwidth\": 2, \"linecolor\": \"white\", \"showbackground\": true, \"ticks\": \"\", \"zerolinecolor\": \"white\"}, \"yaxis\": {\"backgroundcolor\": \"#E5ECF6\", \"gridcolor\": \"white\", \"gridwidth\": 2, \"linecolor\": \"white\", \"showbackground\": true, \"ticks\": \"\", \"zerolinecolor\": \"white\"}, \"zaxis\": {\"backgroundcolor\": \"#E5ECF6\", \"gridcolor\": \"white\", \"gridwidth\": 2, \"linecolor\": \"white\", \"showbackground\": true, \"ticks\": \"\", \"zerolinecolor\": \"white\"}}, \"shapedefaults\": {\"line\": {\"color\": \"#2a3f5f\"}}, \"ternary\": {\"aaxis\": {\"gridcolor\": \"white\", \"linecolor\": \"white\", \"ticks\": \"\"}, \"baxis\": {\"gridcolor\": \"white\", \"linecolor\": \"white\", \"ticks\": \"\"}, \"bgcolor\": \"#E5ECF6\", \"caxis\": {\"gridcolor\": \"white\", \"linecolor\": \"white\", \"ticks\": \"\"}}, \"title\": {\"x\": 0.05}, \"xaxis\": {\"automargin\": true, \"gridcolor\": \"white\", \"linecolor\": \"white\", \"ticks\": \"\", \"title\": {\"standoff\": 15}, \"zerolinecolor\": \"white\", \"zerolinewidth\": 2}, \"yaxis\": {\"automargin\": true, \"gridcolor\": \"white\", \"linecolor\": \"white\", \"ticks\": \"\", \"title\": {\"standoff\": 15}, \"zerolinecolor\": \"white\", \"zerolinewidth\": 2}}}, \"title\": {\"text\": \"Percent Sale on day basis\", \"x\": 0.5}, \"width\": 800, \"xaxis\": {\"anchor\": \"y\", \"domain\": [0.0, 1.0], \"title\": {\"text\": \"Days\"}}, \"yaxis\": {\"anchor\": \"x\", \"domain\": [0.0, 1.0], \"title\": {\"text\": \"Percent Sales\"}}},                        {\"responsive\": true}                    ).then(function(){\n",
       "                            \n",
       "var gd = document.getElementById('72991b8f-7350-416a-9919-6d584c2a5008');\n",
       "var x = new MutationObserver(function (mutations, observer) {{\n",
       "        var display = window.getComputedStyle(gd).display;\n",
       "        if (!display || display === 'none') {{\n",
       "            console.log([gd, 'removed!']);\n",
       "            Plotly.purge(gd);\n",
       "            observer.disconnect();\n",
       "        }}\n",
       "}});\n",
       "\n",
       "// Listen for the removal of the full notebook cells\n",
       "var notebookContainer = gd.closest('#notebook-container');\n",
       "if (notebookContainer) {{\n",
       "    x.observe(notebookContainer, {childList: true});\n",
       "}}\n",
       "\n",
       "// Listen for the clearing of the current output cell\n",
       "var outputEl = gd.closest('.output');\n",
       "if (outputEl) {{\n",
       "    x.observe(outputEl, {childList: true});\n",
       "}}\n",
       "\n",
       "                        })                };                });            </script>        </div>"
      ]
     },
     "metadata": {},
     "output_type": "display_data"
    }
   ],
   "source": [
    "\n",
    "\"\"\"We are defining a variable colors for different colours, then plotting a bar graph\"\"\"\n",
    "\n",
    "colors = ['a','b','c','d','e','f','g']\n",
    "fig = px.bar(x=temp.index, y=y, labels={'x':\"Days\",\"y\":'Percent Sales'},color=colors, text=y)\n",
    "fig.update_traces(hovertemplate='Total Sales: %{y}', textposition='outside')\n",
    "fig.update_layout(showlegend=False, title=\"Percent Sale on day basis\", title_x=0.5,width=800, height=500)\n",
    "fig.show()"
   ]
  },
  {
   "cell_type": "markdown",
   "metadata": {},
   "source": [
    "Observation:\n",
    "\n",
    "There's a huge number of sales happening during the weekends.\n",
    "The sales rise and fall before and after weekends from Friday to Monday."
   ]
  },
  {
   "cell_type": "code",
   "execution_count": 390,
   "metadata": {},
   "outputs": [],
   "source": [
    "sales.fillna('No_Event', inplace=True)"
   ]
  },
  {
   "cell_type": "code",
   "execution_count": 391,
   "metadata": {},
   "outputs": [],
   "source": [
    "\n",
    "temp = sales[['event_type_1','d', 'total_sales']]\n",
    "temp.set_index('d', inplace=True)\n"
   ]
  },
  {
   "cell_type": "code",
   "execution_count": 392,
   "metadata": {},
   "outputs": [
    {
     "data": {
      "text/html": [
       "<div>\n",
       "<style scoped>\n",
       "    .dataframe tbody tr th:only-of-type {\n",
       "        vertical-align: middle;\n",
       "    }\n",
       "\n",
       "    .dataframe tbody tr th {\n",
       "        vertical-align: top;\n",
       "    }\n",
       "\n",
       "    .dataframe thead th {\n",
       "        text-align: right;\n",
       "    }\n",
       "</style>\n",
       "<table border=\"1\" class=\"dataframe\">\n",
       "  <thead>\n",
       "    <tr style=\"text-align: right;\">\n",
       "      <th></th>\n",
       "      <th>total_sales</th>\n",
       "    </tr>\n",
       "    <tr>\n",
       "      <th>event_type_1</th>\n",
       "      <th></th>\n",
       "    </tr>\n",
       "  </thead>\n",
       "  <tbody>\n",
       "    <tr>\n",
       "      <th>National</th>\n",
       "      <td>29458.509804</td>\n",
       "    </tr>\n",
       "    <tr>\n",
       "      <th>Religious</th>\n",
       "      <td>34426.240741</td>\n",
       "    </tr>\n",
       "    <tr>\n",
       "      <th>No_Event</th>\n",
       "      <td>34609.336511</td>\n",
       "    </tr>\n",
       "    <tr>\n",
       "      <th>Cultural</th>\n",
       "      <td>34718.594595</td>\n",
       "    </tr>\n",
       "    <tr>\n",
       "      <th>Sporting</th>\n",
       "      <td>35796.062500</td>\n",
       "    </tr>\n",
       "  </tbody>\n",
       "</table>\n",
       "</div>"
      ],
      "text/plain": [
       "               total_sales\n",
       "event_type_1              \n",
       "National      29458.509804\n",
       "Religious     34426.240741\n",
       "No_Event      34609.336511\n",
       "Cultural      34718.594595\n",
       "Sporting      35796.062500"
      ]
     },
     "execution_count": 392,
     "metadata": {},
     "output_type": "execute_result"
    }
   ],
   "source": [
    "temp = temp.groupby('event_type_1').mean().sort_values(by='total_sales')\n",
    "temp"
   ]
  },
  {
   "cell_type": "code",
   "execution_count": 393,
   "metadata": {},
   "outputs": [
    {
     "data": {
      "text/plain": [
       "total_sales    169008.744151\n",
       "dtype: float64"
      ]
     },
     "execution_count": 393,
     "metadata": {},
     "output_type": "execute_result"
    }
   ],
   "source": [
    "temp.sum()"
   ]
  },
  {
   "cell_type": "code",
   "execution_count": 394,
   "metadata": {},
   "outputs": [
    {
     "data": {
      "text/plain": [
       "[21.92, 25.61, 25.75, 25.83, 26.63]"
      ]
     },
     "execution_count": 394,
     "metadata": {},
     "output_type": "execute_result"
    }
   ],
   "source": [
    "#y=[(np.round(np.take(i,indices=0)/66927173*100,2)) for i in temp.values]\n",
    "y = [(np.round(np.take(i,indices=0)/134399.4*100, 2)) for i in temp.values]\n",
    "y"
   ]
  },
  {
   "cell_type": "code",
   "execution_count": 395,
   "metadata": {
    "scrolled": true
   },
   "outputs": [
    {
     "data": {
      "application/vnd.plotly.v1+json": {
       "config": {
        "plotlyServerURL": "https://plot.ly"
       },
       "data": [
        {
         "alignmentgroup": "True",
         "hovertemplate": "Total Sales: %{y}",
         "legendgroup": "a",
         "marker": {
          "color": "#636efa"
         },
         "name": "a",
         "offsetgroup": "a",
         "orientation": "v",
         "showlegend": true,
         "text": [
          21.92
         ],
         "textposition": "outside",
         "type": "bar",
         "x": [
          "National"
         ],
         "xaxis": "x",
         "y": [
          21.92
         ],
         "yaxis": "y"
        },
        {
         "alignmentgroup": "True",
         "hovertemplate": "Total Sales: %{y}",
         "legendgroup": "b",
         "marker": {
          "color": "#EF553B"
         },
         "name": "b",
         "offsetgroup": "b",
         "orientation": "v",
         "showlegend": true,
         "text": [
          25.61
         ],
         "textposition": "outside",
         "type": "bar",
         "x": [
          "Religious"
         ],
         "xaxis": "x",
         "y": [
          25.61
         ],
         "yaxis": "y"
        },
        {
         "alignmentgroup": "True",
         "hovertemplate": "Total Sales: %{y}",
         "legendgroup": "c",
         "marker": {
          "color": "#00cc96"
         },
         "name": "c",
         "offsetgroup": "c",
         "orientation": "v",
         "showlegend": true,
         "text": [
          25.75
         ],
         "textposition": "outside",
         "type": "bar",
         "x": [
          "No_Event"
         ],
         "xaxis": "x",
         "y": [
          25.75
         ],
         "yaxis": "y"
        },
        {
         "alignmentgroup": "True",
         "hovertemplate": "Total Sales: %{y}",
         "legendgroup": "d",
         "marker": {
          "color": "#ab63fa"
         },
         "name": "d",
         "offsetgroup": "d",
         "orientation": "v",
         "showlegend": true,
         "text": [
          25.83
         ],
         "textposition": "outside",
         "type": "bar",
         "x": [
          "Cultural"
         ],
         "xaxis": "x",
         "y": [
          25.83
         ],
         "yaxis": "y"
        },
        {
         "alignmentgroup": "True",
         "hovertemplate": "Total Sales: %{y}",
         "legendgroup": "e",
         "marker": {
          "color": "#FFA15A"
         },
         "name": "e",
         "offsetgroup": "e",
         "orientation": "v",
         "showlegend": true,
         "text": [
          26.63
         ],
         "textposition": "outside",
         "type": "bar",
         "x": [
          "Sporting"
         ],
         "xaxis": "x",
         "y": [
          26.63
         ],
         "yaxis": "y"
        }
       ],
       "layout": {
        "barmode": "relative",
        "height": 500,
        "legend": {
         "title": {
          "text": "color"
         },
         "tracegroupgap": 0
        },
        "margin": {
         "t": 60
        },
        "showlegend": false,
        "template": {
         "data": {
          "bar": [
           {
            "error_x": {
             "color": "#2a3f5f"
            },
            "error_y": {
             "color": "#2a3f5f"
            },
            "marker": {
             "line": {
              "color": "#E5ECF6",
              "width": 0.5
             }
            },
            "type": "bar"
           }
          ],
          "barpolar": [
           {
            "marker": {
             "line": {
              "color": "#E5ECF6",
              "width": 0.5
             }
            },
            "type": "barpolar"
           }
          ],
          "carpet": [
           {
            "aaxis": {
             "endlinecolor": "#2a3f5f",
             "gridcolor": "white",
             "linecolor": "white",
             "minorgridcolor": "white",
             "startlinecolor": "#2a3f5f"
            },
            "baxis": {
             "endlinecolor": "#2a3f5f",
             "gridcolor": "white",
             "linecolor": "white",
             "minorgridcolor": "white",
             "startlinecolor": "#2a3f5f"
            },
            "type": "carpet"
           }
          ],
          "choropleth": [
           {
            "colorbar": {
             "outlinewidth": 0,
             "ticks": ""
            },
            "type": "choropleth"
           }
          ],
          "contour": [
           {
            "colorbar": {
             "outlinewidth": 0,
             "ticks": ""
            },
            "colorscale": [
             [
              0,
              "#0d0887"
             ],
             [
              0.1111111111111111,
              "#46039f"
             ],
             [
              0.2222222222222222,
              "#7201a8"
             ],
             [
              0.3333333333333333,
              "#9c179e"
             ],
             [
              0.4444444444444444,
              "#bd3786"
             ],
             [
              0.5555555555555556,
              "#d8576b"
             ],
             [
              0.6666666666666666,
              "#ed7953"
             ],
             [
              0.7777777777777778,
              "#fb9f3a"
             ],
             [
              0.8888888888888888,
              "#fdca26"
             ],
             [
              1,
              "#f0f921"
             ]
            ],
            "type": "contour"
           }
          ],
          "contourcarpet": [
           {
            "colorbar": {
             "outlinewidth": 0,
             "ticks": ""
            },
            "type": "contourcarpet"
           }
          ],
          "heatmap": [
           {
            "colorbar": {
             "outlinewidth": 0,
             "ticks": ""
            },
            "colorscale": [
             [
              0,
              "#0d0887"
             ],
             [
              0.1111111111111111,
              "#46039f"
             ],
             [
              0.2222222222222222,
              "#7201a8"
             ],
             [
              0.3333333333333333,
              "#9c179e"
             ],
             [
              0.4444444444444444,
              "#bd3786"
             ],
             [
              0.5555555555555556,
              "#d8576b"
             ],
             [
              0.6666666666666666,
              "#ed7953"
             ],
             [
              0.7777777777777778,
              "#fb9f3a"
             ],
             [
              0.8888888888888888,
              "#fdca26"
             ],
             [
              1,
              "#f0f921"
             ]
            ],
            "type": "heatmap"
           }
          ],
          "heatmapgl": [
           {
            "colorbar": {
             "outlinewidth": 0,
             "ticks": ""
            },
            "colorscale": [
             [
              0,
              "#0d0887"
             ],
             [
              0.1111111111111111,
              "#46039f"
             ],
             [
              0.2222222222222222,
              "#7201a8"
             ],
             [
              0.3333333333333333,
              "#9c179e"
             ],
             [
              0.4444444444444444,
              "#bd3786"
             ],
             [
              0.5555555555555556,
              "#d8576b"
             ],
             [
              0.6666666666666666,
              "#ed7953"
             ],
             [
              0.7777777777777778,
              "#fb9f3a"
             ],
             [
              0.8888888888888888,
              "#fdca26"
             ],
             [
              1,
              "#f0f921"
             ]
            ],
            "type": "heatmapgl"
           }
          ],
          "histogram": [
           {
            "marker": {
             "colorbar": {
              "outlinewidth": 0,
              "ticks": ""
             }
            },
            "type": "histogram"
           }
          ],
          "histogram2d": [
           {
            "colorbar": {
             "outlinewidth": 0,
             "ticks": ""
            },
            "colorscale": [
             [
              0,
              "#0d0887"
             ],
             [
              0.1111111111111111,
              "#46039f"
             ],
             [
              0.2222222222222222,
              "#7201a8"
             ],
             [
              0.3333333333333333,
              "#9c179e"
             ],
             [
              0.4444444444444444,
              "#bd3786"
             ],
             [
              0.5555555555555556,
              "#d8576b"
             ],
             [
              0.6666666666666666,
              "#ed7953"
             ],
             [
              0.7777777777777778,
              "#fb9f3a"
             ],
             [
              0.8888888888888888,
              "#fdca26"
             ],
             [
              1,
              "#f0f921"
             ]
            ],
            "type": "histogram2d"
           }
          ],
          "histogram2dcontour": [
           {
            "colorbar": {
             "outlinewidth": 0,
             "ticks": ""
            },
            "colorscale": [
             [
              0,
              "#0d0887"
             ],
             [
              0.1111111111111111,
              "#46039f"
             ],
             [
              0.2222222222222222,
              "#7201a8"
             ],
             [
              0.3333333333333333,
              "#9c179e"
             ],
             [
              0.4444444444444444,
              "#bd3786"
             ],
             [
              0.5555555555555556,
              "#d8576b"
             ],
             [
              0.6666666666666666,
              "#ed7953"
             ],
             [
              0.7777777777777778,
              "#fb9f3a"
             ],
             [
              0.8888888888888888,
              "#fdca26"
             ],
             [
              1,
              "#f0f921"
             ]
            ],
            "type": "histogram2dcontour"
           }
          ],
          "mesh3d": [
           {
            "colorbar": {
             "outlinewidth": 0,
             "ticks": ""
            },
            "type": "mesh3d"
           }
          ],
          "parcoords": [
           {
            "line": {
             "colorbar": {
              "outlinewidth": 0,
              "ticks": ""
             }
            },
            "type": "parcoords"
           }
          ],
          "pie": [
           {
            "automargin": true,
            "type": "pie"
           }
          ],
          "scatter": [
           {
            "marker": {
             "colorbar": {
              "outlinewidth": 0,
              "ticks": ""
             }
            },
            "type": "scatter"
           }
          ],
          "scatter3d": [
           {
            "line": {
             "colorbar": {
              "outlinewidth": 0,
              "ticks": ""
             }
            },
            "marker": {
             "colorbar": {
              "outlinewidth": 0,
              "ticks": ""
             }
            },
            "type": "scatter3d"
           }
          ],
          "scattercarpet": [
           {
            "marker": {
             "colorbar": {
              "outlinewidth": 0,
              "ticks": ""
             }
            },
            "type": "scattercarpet"
           }
          ],
          "scattergeo": [
           {
            "marker": {
             "colorbar": {
              "outlinewidth": 0,
              "ticks": ""
             }
            },
            "type": "scattergeo"
           }
          ],
          "scattergl": [
           {
            "marker": {
             "colorbar": {
              "outlinewidth": 0,
              "ticks": ""
             }
            },
            "type": "scattergl"
           }
          ],
          "scattermapbox": [
           {
            "marker": {
             "colorbar": {
              "outlinewidth": 0,
              "ticks": ""
             }
            },
            "type": "scattermapbox"
           }
          ],
          "scatterpolar": [
           {
            "marker": {
             "colorbar": {
              "outlinewidth": 0,
              "ticks": ""
             }
            },
            "type": "scatterpolar"
           }
          ],
          "scatterpolargl": [
           {
            "marker": {
             "colorbar": {
              "outlinewidth": 0,
              "ticks": ""
             }
            },
            "type": "scatterpolargl"
           }
          ],
          "scatterternary": [
           {
            "marker": {
             "colorbar": {
              "outlinewidth": 0,
              "ticks": ""
             }
            },
            "type": "scatterternary"
           }
          ],
          "surface": [
           {
            "colorbar": {
             "outlinewidth": 0,
             "ticks": ""
            },
            "colorscale": [
             [
              0,
              "#0d0887"
             ],
             [
              0.1111111111111111,
              "#46039f"
             ],
             [
              0.2222222222222222,
              "#7201a8"
             ],
             [
              0.3333333333333333,
              "#9c179e"
             ],
             [
              0.4444444444444444,
              "#bd3786"
             ],
             [
              0.5555555555555556,
              "#d8576b"
             ],
             [
              0.6666666666666666,
              "#ed7953"
             ],
             [
              0.7777777777777778,
              "#fb9f3a"
             ],
             [
              0.8888888888888888,
              "#fdca26"
             ],
             [
              1,
              "#f0f921"
             ]
            ],
            "type": "surface"
           }
          ],
          "table": [
           {
            "cells": {
             "fill": {
              "color": "#EBF0F8"
             },
             "line": {
              "color": "white"
             }
            },
            "header": {
             "fill": {
              "color": "#C8D4E3"
             },
             "line": {
              "color": "white"
             }
            },
            "type": "table"
           }
          ]
         },
         "layout": {
          "annotationdefaults": {
           "arrowcolor": "#2a3f5f",
           "arrowhead": 0,
           "arrowwidth": 1
          },
          "autotypenumbers": "strict",
          "coloraxis": {
           "colorbar": {
            "outlinewidth": 0,
            "ticks": ""
           }
          },
          "colorscale": {
           "diverging": [
            [
             0,
             "#8e0152"
            ],
            [
             0.1,
             "#c51b7d"
            ],
            [
             0.2,
             "#de77ae"
            ],
            [
             0.3,
             "#f1b6da"
            ],
            [
             0.4,
             "#fde0ef"
            ],
            [
             0.5,
             "#f7f7f7"
            ],
            [
             0.6,
             "#e6f5d0"
            ],
            [
             0.7,
             "#b8e186"
            ],
            [
             0.8,
             "#7fbc41"
            ],
            [
             0.9,
             "#4d9221"
            ],
            [
             1,
             "#276419"
            ]
           ],
           "sequential": [
            [
             0,
             "#0d0887"
            ],
            [
             0.1111111111111111,
             "#46039f"
            ],
            [
             0.2222222222222222,
             "#7201a8"
            ],
            [
             0.3333333333333333,
             "#9c179e"
            ],
            [
             0.4444444444444444,
             "#bd3786"
            ],
            [
             0.5555555555555556,
             "#d8576b"
            ],
            [
             0.6666666666666666,
             "#ed7953"
            ],
            [
             0.7777777777777778,
             "#fb9f3a"
            ],
            [
             0.8888888888888888,
             "#fdca26"
            ],
            [
             1,
             "#f0f921"
            ]
           ],
           "sequentialminus": [
            [
             0,
             "#0d0887"
            ],
            [
             0.1111111111111111,
             "#46039f"
            ],
            [
             0.2222222222222222,
             "#7201a8"
            ],
            [
             0.3333333333333333,
             "#9c179e"
            ],
            [
             0.4444444444444444,
             "#bd3786"
            ],
            [
             0.5555555555555556,
             "#d8576b"
            ],
            [
             0.6666666666666666,
             "#ed7953"
            ],
            [
             0.7777777777777778,
             "#fb9f3a"
            ],
            [
             0.8888888888888888,
             "#fdca26"
            ],
            [
             1,
             "#f0f921"
            ]
           ]
          },
          "colorway": [
           "#636efa",
           "#EF553B",
           "#00cc96",
           "#ab63fa",
           "#FFA15A",
           "#19d3f3",
           "#FF6692",
           "#B6E880",
           "#FF97FF",
           "#FECB52"
          ],
          "font": {
           "color": "#2a3f5f"
          },
          "geo": {
           "bgcolor": "white",
           "lakecolor": "white",
           "landcolor": "#E5ECF6",
           "showlakes": true,
           "showland": true,
           "subunitcolor": "white"
          },
          "hoverlabel": {
           "align": "left"
          },
          "hovermode": "closest",
          "mapbox": {
           "style": "light"
          },
          "paper_bgcolor": "white",
          "plot_bgcolor": "#E5ECF6",
          "polar": {
           "angularaxis": {
            "gridcolor": "white",
            "linecolor": "white",
            "ticks": ""
           },
           "bgcolor": "#E5ECF6",
           "radialaxis": {
            "gridcolor": "white",
            "linecolor": "white",
            "ticks": ""
           }
          },
          "scene": {
           "xaxis": {
            "backgroundcolor": "#E5ECF6",
            "gridcolor": "white",
            "gridwidth": 2,
            "linecolor": "white",
            "showbackground": true,
            "ticks": "",
            "zerolinecolor": "white"
           },
           "yaxis": {
            "backgroundcolor": "#E5ECF6",
            "gridcolor": "white",
            "gridwidth": 2,
            "linecolor": "white",
            "showbackground": true,
            "ticks": "",
            "zerolinecolor": "white"
           },
           "zaxis": {
            "backgroundcolor": "#E5ECF6",
            "gridcolor": "white",
            "gridwidth": 2,
            "linecolor": "white",
            "showbackground": true,
            "ticks": "",
            "zerolinecolor": "white"
           }
          },
          "shapedefaults": {
           "line": {
            "color": "#2a3f5f"
           }
          },
          "ternary": {
           "aaxis": {
            "gridcolor": "white",
            "linecolor": "white",
            "ticks": ""
           },
           "baxis": {
            "gridcolor": "white",
            "linecolor": "white",
            "ticks": ""
           },
           "bgcolor": "#E5ECF6",
           "caxis": {
            "gridcolor": "white",
            "linecolor": "white",
            "ticks": ""
           }
          },
          "title": {
           "x": 0.05
          },
          "xaxis": {
           "automargin": true,
           "gridcolor": "white",
           "linecolor": "white",
           "ticks": "",
           "title": {
            "standoff": 15
           },
           "zerolinecolor": "white",
           "zerolinewidth": 2
          },
          "yaxis": {
           "automargin": true,
           "gridcolor": "white",
           "linecolor": "white",
           "ticks": "",
           "title": {
            "standoff": 15
           },
           "zerolinecolor": "white",
           "zerolinewidth": 2
          }
         }
        },
        "title": {
         "text": "Percent of Sales on event/no event days",
         "x": 0.5
        },
        "width": 800,
        "xaxis": {
         "anchor": "y",
         "domain": [
          0,
          1
         ],
         "title": {
          "text": "Events"
         }
        },
        "yaxis": {
         "anchor": "x",
         "domain": [
          0,
          1
         ],
         "title": {
          "text": "Percent Sales"
         }
        }
       }
      },
      "text/html": [
       "<div>                            <div id=\"b29704ff-fe78-4933-ad50-ef54e9dbd149\" class=\"plotly-graph-div\" style=\"height:500px; width:800px;\"></div>            <script type=\"text/javascript\">                require([\"plotly\"], function(Plotly) {                    window.PLOTLYENV=window.PLOTLYENV || {};                                    if (document.getElementById(\"b29704ff-fe78-4933-ad50-ef54e9dbd149\")) {                    Plotly.newPlot(                        \"b29704ff-fe78-4933-ad50-ef54e9dbd149\",                        [{\"alignmentgroup\": \"True\", \"hovertemplate\": \"Total Sales: %{y}\", \"legendgroup\": \"a\", \"marker\": {\"color\": \"#636efa\"}, \"name\": \"a\", \"offsetgroup\": \"a\", \"orientation\": \"v\", \"showlegend\": true, \"text\": [21.92], \"textposition\": \"outside\", \"type\": \"bar\", \"x\": [\"National\"], \"xaxis\": \"x\", \"y\": [21.92], \"yaxis\": \"y\"}, {\"alignmentgroup\": \"True\", \"hovertemplate\": \"Total Sales: %{y}\", \"legendgroup\": \"b\", \"marker\": {\"color\": \"#EF553B\"}, \"name\": \"b\", \"offsetgroup\": \"b\", \"orientation\": \"v\", \"showlegend\": true, \"text\": [25.61], \"textposition\": \"outside\", \"type\": \"bar\", \"x\": [\"Religious\"], \"xaxis\": \"x\", \"y\": [25.61], \"yaxis\": \"y\"}, {\"alignmentgroup\": \"True\", \"hovertemplate\": \"Total Sales: %{y}\", \"legendgroup\": \"c\", \"marker\": {\"color\": \"#00cc96\"}, \"name\": \"c\", \"offsetgroup\": \"c\", \"orientation\": \"v\", \"showlegend\": true, \"text\": [25.75], \"textposition\": \"outside\", \"type\": \"bar\", \"x\": [\"No_Event\"], \"xaxis\": \"x\", \"y\": [25.75], \"yaxis\": \"y\"}, {\"alignmentgroup\": \"True\", \"hovertemplate\": \"Total Sales: %{y}\", \"legendgroup\": \"d\", \"marker\": {\"color\": \"#ab63fa\"}, \"name\": \"d\", \"offsetgroup\": \"d\", \"orientation\": \"v\", \"showlegend\": true, \"text\": [25.83], \"textposition\": \"outside\", \"type\": \"bar\", \"x\": [\"Cultural\"], \"xaxis\": \"x\", \"y\": [25.83], \"yaxis\": \"y\"}, {\"alignmentgroup\": \"True\", \"hovertemplate\": \"Total Sales: %{y}\", \"legendgroup\": \"e\", \"marker\": {\"color\": \"#FFA15A\"}, \"name\": \"e\", \"offsetgroup\": \"e\", \"orientation\": \"v\", \"showlegend\": true, \"text\": [26.63], \"textposition\": \"outside\", \"type\": \"bar\", \"x\": [\"Sporting\"], \"xaxis\": \"x\", \"y\": [26.63], \"yaxis\": \"y\"}],                        {\"barmode\": \"relative\", \"height\": 500, \"legend\": {\"title\": {\"text\": \"color\"}, \"tracegroupgap\": 0}, \"margin\": {\"t\": 60}, \"showlegend\": false, \"template\": {\"data\": {\"bar\": [{\"error_x\": {\"color\": \"#2a3f5f\"}, \"error_y\": {\"color\": \"#2a3f5f\"}, \"marker\": {\"line\": {\"color\": \"#E5ECF6\", \"width\": 0.5}}, \"type\": \"bar\"}], \"barpolar\": [{\"marker\": {\"line\": {\"color\": \"#E5ECF6\", \"width\": 0.5}}, \"type\": \"barpolar\"}], \"carpet\": [{\"aaxis\": {\"endlinecolor\": \"#2a3f5f\", \"gridcolor\": \"white\", \"linecolor\": \"white\", \"minorgridcolor\": \"white\", \"startlinecolor\": \"#2a3f5f\"}, \"baxis\": {\"endlinecolor\": \"#2a3f5f\", \"gridcolor\": \"white\", \"linecolor\": \"white\", \"minorgridcolor\": \"white\", \"startlinecolor\": \"#2a3f5f\"}, \"type\": \"carpet\"}], \"choropleth\": [{\"colorbar\": {\"outlinewidth\": 0, \"ticks\": \"\"}, \"type\": \"choropleth\"}], \"contour\": [{\"colorbar\": {\"outlinewidth\": 0, \"ticks\": \"\"}, \"colorscale\": [[0.0, \"#0d0887\"], [0.1111111111111111, \"#46039f\"], [0.2222222222222222, \"#7201a8\"], [0.3333333333333333, \"#9c179e\"], [0.4444444444444444, \"#bd3786\"], [0.5555555555555556, \"#d8576b\"], [0.6666666666666666, \"#ed7953\"], [0.7777777777777778, \"#fb9f3a\"], [0.8888888888888888, \"#fdca26\"], [1.0, \"#f0f921\"]], \"type\": \"contour\"}], \"contourcarpet\": [{\"colorbar\": {\"outlinewidth\": 0, \"ticks\": \"\"}, \"type\": \"contourcarpet\"}], \"heatmap\": [{\"colorbar\": {\"outlinewidth\": 0, \"ticks\": \"\"}, \"colorscale\": [[0.0, \"#0d0887\"], [0.1111111111111111, \"#46039f\"], [0.2222222222222222, \"#7201a8\"], [0.3333333333333333, \"#9c179e\"], [0.4444444444444444, \"#bd3786\"], [0.5555555555555556, \"#d8576b\"], [0.6666666666666666, \"#ed7953\"], [0.7777777777777778, \"#fb9f3a\"], [0.8888888888888888, \"#fdca26\"], [1.0, \"#f0f921\"]], \"type\": \"heatmap\"}], \"heatmapgl\": [{\"colorbar\": {\"outlinewidth\": 0, \"ticks\": \"\"}, \"colorscale\": [[0.0, \"#0d0887\"], [0.1111111111111111, \"#46039f\"], [0.2222222222222222, \"#7201a8\"], [0.3333333333333333, \"#9c179e\"], [0.4444444444444444, \"#bd3786\"], [0.5555555555555556, \"#d8576b\"], [0.6666666666666666, \"#ed7953\"], [0.7777777777777778, \"#fb9f3a\"], [0.8888888888888888, \"#fdca26\"], [1.0, \"#f0f921\"]], \"type\": \"heatmapgl\"}], \"histogram\": [{\"marker\": {\"colorbar\": {\"outlinewidth\": 0, \"ticks\": \"\"}}, \"type\": \"histogram\"}], \"histogram2d\": [{\"colorbar\": {\"outlinewidth\": 0, \"ticks\": \"\"}, \"colorscale\": [[0.0, \"#0d0887\"], [0.1111111111111111, \"#46039f\"], [0.2222222222222222, \"#7201a8\"], [0.3333333333333333, \"#9c179e\"], [0.4444444444444444, \"#bd3786\"], [0.5555555555555556, \"#d8576b\"], [0.6666666666666666, \"#ed7953\"], [0.7777777777777778, \"#fb9f3a\"], [0.8888888888888888, \"#fdca26\"], [1.0, \"#f0f921\"]], \"type\": \"histogram2d\"}], \"histogram2dcontour\": [{\"colorbar\": {\"outlinewidth\": 0, \"ticks\": \"\"}, \"colorscale\": [[0.0, \"#0d0887\"], [0.1111111111111111, \"#46039f\"], [0.2222222222222222, \"#7201a8\"], [0.3333333333333333, \"#9c179e\"], [0.4444444444444444, \"#bd3786\"], [0.5555555555555556, \"#d8576b\"], [0.6666666666666666, \"#ed7953\"], [0.7777777777777778, \"#fb9f3a\"], [0.8888888888888888, \"#fdca26\"], [1.0, \"#f0f921\"]], \"type\": \"histogram2dcontour\"}], \"mesh3d\": [{\"colorbar\": {\"outlinewidth\": 0, \"ticks\": \"\"}, \"type\": \"mesh3d\"}], \"parcoords\": [{\"line\": {\"colorbar\": {\"outlinewidth\": 0, \"ticks\": \"\"}}, \"type\": \"parcoords\"}], \"pie\": [{\"automargin\": true, \"type\": \"pie\"}], \"scatter\": [{\"marker\": {\"colorbar\": {\"outlinewidth\": 0, \"ticks\": \"\"}}, \"type\": \"scatter\"}], \"scatter3d\": [{\"line\": {\"colorbar\": {\"outlinewidth\": 0, \"ticks\": \"\"}}, \"marker\": {\"colorbar\": {\"outlinewidth\": 0, \"ticks\": \"\"}}, \"type\": \"scatter3d\"}], \"scattercarpet\": [{\"marker\": {\"colorbar\": {\"outlinewidth\": 0, \"ticks\": \"\"}}, \"type\": \"scattercarpet\"}], \"scattergeo\": [{\"marker\": {\"colorbar\": {\"outlinewidth\": 0, \"ticks\": \"\"}}, \"type\": \"scattergeo\"}], \"scattergl\": [{\"marker\": {\"colorbar\": {\"outlinewidth\": 0, \"ticks\": \"\"}}, \"type\": \"scattergl\"}], \"scattermapbox\": [{\"marker\": {\"colorbar\": {\"outlinewidth\": 0, \"ticks\": \"\"}}, \"type\": \"scattermapbox\"}], \"scatterpolar\": [{\"marker\": {\"colorbar\": {\"outlinewidth\": 0, \"ticks\": \"\"}}, \"type\": \"scatterpolar\"}], \"scatterpolargl\": [{\"marker\": {\"colorbar\": {\"outlinewidth\": 0, \"ticks\": \"\"}}, \"type\": \"scatterpolargl\"}], \"scatterternary\": [{\"marker\": {\"colorbar\": {\"outlinewidth\": 0, \"ticks\": \"\"}}, \"type\": \"scatterternary\"}], \"surface\": [{\"colorbar\": {\"outlinewidth\": 0, \"ticks\": \"\"}, \"colorscale\": [[0.0, \"#0d0887\"], [0.1111111111111111, \"#46039f\"], [0.2222222222222222, \"#7201a8\"], [0.3333333333333333, \"#9c179e\"], [0.4444444444444444, \"#bd3786\"], [0.5555555555555556, \"#d8576b\"], [0.6666666666666666, \"#ed7953\"], [0.7777777777777778, \"#fb9f3a\"], [0.8888888888888888, \"#fdca26\"], [1.0, \"#f0f921\"]], \"type\": \"surface\"}], \"table\": [{\"cells\": {\"fill\": {\"color\": \"#EBF0F8\"}, \"line\": {\"color\": \"white\"}}, \"header\": {\"fill\": {\"color\": \"#C8D4E3\"}, \"line\": {\"color\": \"white\"}}, \"type\": \"table\"}]}, \"layout\": {\"annotationdefaults\": {\"arrowcolor\": \"#2a3f5f\", \"arrowhead\": 0, \"arrowwidth\": 1}, \"autotypenumbers\": \"strict\", \"coloraxis\": {\"colorbar\": {\"outlinewidth\": 0, \"ticks\": \"\"}}, \"colorscale\": {\"diverging\": [[0, \"#8e0152\"], [0.1, \"#c51b7d\"], [0.2, \"#de77ae\"], [0.3, \"#f1b6da\"], [0.4, \"#fde0ef\"], [0.5, \"#f7f7f7\"], [0.6, \"#e6f5d0\"], [0.7, \"#b8e186\"], [0.8, \"#7fbc41\"], [0.9, \"#4d9221\"], [1, \"#276419\"]], \"sequential\": [[0.0, \"#0d0887\"], [0.1111111111111111, \"#46039f\"], [0.2222222222222222, \"#7201a8\"], [0.3333333333333333, \"#9c179e\"], [0.4444444444444444, \"#bd3786\"], [0.5555555555555556, \"#d8576b\"], [0.6666666666666666, \"#ed7953\"], [0.7777777777777778, \"#fb9f3a\"], [0.8888888888888888, \"#fdca26\"], [1.0, \"#f0f921\"]], \"sequentialminus\": [[0.0, \"#0d0887\"], [0.1111111111111111, \"#46039f\"], [0.2222222222222222, \"#7201a8\"], [0.3333333333333333, \"#9c179e\"], [0.4444444444444444, \"#bd3786\"], [0.5555555555555556, \"#d8576b\"], [0.6666666666666666, \"#ed7953\"], [0.7777777777777778, \"#fb9f3a\"], [0.8888888888888888, \"#fdca26\"], [1.0, \"#f0f921\"]]}, \"colorway\": [\"#636efa\", \"#EF553B\", \"#00cc96\", \"#ab63fa\", \"#FFA15A\", \"#19d3f3\", \"#FF6692\", \"#B6E880\", \"#FF97FF\", \"#FECB52\"], \"font\": {\"color\": \"#2a3f5f\"}, \"geo\": {\"bgcolor\": \"white\", \"lakecolor\": \"white\", \"landcolor\": \"#E5ECF6\", \"showlakes\": true, \"showland\": true, \"subunitcolor\": \"white\"}, \"hoverlabel\": {\"align\": \"left\"}, \"hovermode\": \"closest\", \"mapbox\": {\"style\": \"light\"}, \"paper_bgcolor\": \"white\", \"plot_bgcolor\": \"#E5ECF6\", \"polar\": {\"angularaxis\": {\"gridcolor\": \"white\", \"linecolor\": \"white\", \"ticks\": \"\"}, \"bgcolor\": \"#E5ECF6\", \"radialaxis\": {\"gridcolor\": \"white\", \"linecolor\": \"white\", \"ticks\": \"\"}}, \"scene\": {\"xaxis\": {\"backgroundcolor\": \"#E5ECF6\", \"gridcolor\": \"white\", \"gridwidth\": 2, \"linecolor\": \"white\", \"showbackground\": true, \"ticks\": \"\", \"zerolinecolor\": \"white\"}, \"yaxis\": {\"backgroundcolor\": \"#E5ECF6\", \"gridcolor\": \"white\", \"gridwidth\": 2, \"linecolor\": \"white\", \"showbackground\": true, \"ticks\": \"\", \"zerolinecolor\": \"white\"}, \"zaxis\": {\"backgroundcolor\": \"#E5ECF6\", \"gridcolor\": \"white\", \"gridwidth\": 2, \"linecolor\": \"white\", \"showbackground\": true, \"ticks\": \"\", \"zerolinecolor\": \"white\"}}, \"shapedefaults\": {\"line\": {\"color\": \"#2a3f5f\"}}, \"ternary\": {\"aaxis\": {\"gridcolor\": \"white\", \"linecolor\": \"white\", \"ticks\": \"\"}, \"baxis\": {\"gridcolor\": \"white\", \"linecolor\": \"white\", \"ticks\": \"\"}, \"bgcolor\": \"#E5ECF6\", \"caxis\": {\"gridcolor\": \"white\", \"linecolor\": \"white\", \"ticks\": \"\"}}, \"title\": {\"x\": 0.05}, \"xaxis\": {\"automargin\": true, \"gridcolor\": \"white\", \"linecolor\": \"white\", \"ticks\": \"\", \"title\": {\"standoff\": 15}, \"zerolinecolor\": \"white\", \"zerolinewidth\": 2}, \"yaxis\": {\"automargin\": true, \"gridcolor\": \"white\", \"linecolor\": \"white\", \"ticks\": \"\", \"title\": {\"standoff\": 15}, \"zerolinecolor\": \"white\", \"zerolinewidth\": 2}}}, \"title\": {\"text\": \"Percent of Sales on event/no event days\", \"x\": 0.5}, \"width\": 800, \"xaxis\": {\"anchor\": \"y\", \"domain\": [0.0, 1.0], \"title\": {\"text\": \"Events\"}}, \"yaxis\": {\"anchor\": \"x\", \"domain\": [0.0, 1.0], \"title\": {\"text\": \"Percent Sales\"}}},                        {\"responsive\": true}                    ).then(function(){\n",
       "                            \n",
       "var gd = document.getElementById('b29704ff-fe78-4933-ad50-ef54e9dbd149');\n",
       "var x = new MutationObserver(function (mutations, observer) {{\n",
       "        var display = window.getComputedStyle(gd).display;\n",
       "        if (!display || display === 'none') {{\n",
       "            console.log([gd, 'removed!']);\n",
       "            Plotly.purge(gd);\n",
       "            observer.disconnect();\n",
       "        }}\n",
       "}});\n",
       "\n",
       "// Listen for the removal of the full notebook cells\n",
       "var notebookContainer = gd.closest('#notebook-container');\n",
       "if (notebookContainer) {{\n",
       "    x.observe(notebookContainer, {childList: true});\n",
       "}}\n",
       "\n",
       "// Listen for the clearing of the current output cell\n",
       "var outputEl = gd.closest('.output');\n",
       "if (outputEl) {{\n",
       "    x.observe(outputEl, {childList: true});\n",
       "}}\n",
       "\n",
       "                        })                };                });            </script>        </div>"
      ]
     },
     "metadata": {},
     "output_type": "display_data"
    }
   ],
   "source": [
    "\n",
    "colors = ['a','b','c','d','e']\n",
    "fig = px.bar(x=temp.index, y=y, labels={'x':\"Events\",\"y\":'Percent Sales'},color=colors, text=y)\n",
    "fig.update_traces(hovertemplate='Total Sales: %{y}', textposition='outside')\n",
    "fig.update_layout(showlegend=False, title=\"Percent of Sales on event/no event days\", title_x=0.5, width=800, height=500)\n",
    "fig.show()"
   ]
  },
  {
   "cell_type": "markdown",
   "metadata": {},
   "source": [
    "\n",
    "Observation:\n",
    "\n",
    "The sales happened during sporting event times are slightly more than sales happened around no events and other events.\n",
    "The sales happened on National event days are little lower, but we can conlude it's the cause of low sales."
   ]
  },
  {
   "cell_type": "code",
   "execution_count": 403,
   "metadata": {},
   "outputs": [],
   "source": [
    "\"\"\"We are creating a new feature No. of events in cal csv, by counting how many time 'No_Event' comes in a row.\n",
    "If there are 4 No_Events in a row it means there were no events on that day, if there was 2 \"No Events\" on a row then it means there was 1 event on that day\n",
    "and if there 0 \"No_Events\" on a row, then it means there were 2 events on that day.\"\"\"\n",
    "\n",
    "g = []\n",
    "for i in np.sum(sales == 'No_Event', axis=1):\n",
    "    if i == 0:\n",
    "        g.append('Two')\n",
    "    elif i == 2:\n",
    "        g.append('One')\n",
    "    else:\n",
    "        g.append('Zero')\n",
    "\n",
    "sales['No_of_events'] = g"
   ]
  },
  {
   "cell_type": "code",
   "execution_count": 404,
   "metadata": {},
   "outputs": [],
   "source": [
    "\n",
    "\"\"\"Now we are grouping them, calculating the mean and then plotting them\"\"\"\n",
    "\n",
    "#d = cal[['No_of_events','d']]\n",
    "temp = sales[['No_of_events','d', 'total_sales']]\n",
    "#temp.set_index('d', inplace=True)\n",
    "temp = temp.groupby('No_of_events').mean().sort_values(by='total_sales')\n"
   ]
  },
  {
   "cell_type": "code",
   "execution_count": 405,
   "metadata": {},
   "outputs": [
    {
     "data": {
      "text/plain": [
       "total_sales    104694.164434\n",
       "dtype: float64"
      ]
     },
     "execution_count": 405,
     "metadata": {},
     "output_type": "execute_result"
    }
   ],
   "source": [
    "temp.sum()"
   ]
  },
  {
   "cell_type": "code",
   "execution_count": 406,
   "metadata": {},
   "outputs": [
    {
     "data": {
      "text/plain": [
       "[31.45, 33.06, 35.5]"
      ]
     },
     "execution_count": 406,
     "metadata": {},
     "output_type": "execute_result"
    }
   ],
   "source": [
    "#y = [(np.round(np.take(i,indices=0)/134399.4*100, 2)) for i in temp.values]\n",
    "y = [(np.round(np.take(i,indices=0)/104694.2*100, 2)) for i in temp.values]\n",
    "y"
   ]
  },
  {
   "cell_type": "code",
   "execution_count": 407,
   "metadata": {},
   "outputs": [
    {
     "data": {
      "application/vnd.plotly.v1+json": {
       "config": {
        "plotlyServerURL": "https://plot.ly"
       },
       "data": [
        {
         "alignmentgroup": "True",
         "hovertemplate": "Total Sales: %{y}",
         "legendgroup": "a",
         "marker": {
          "color": "#636efa"
         },
         "name": "a",
         "offsetgroup": "a",
         "orientation": "v",
         "showlegend": true,
         "text": [
          31.45
         ],
         "textposition": "outside",
         "type": "bar",
         "x": [
          "One"
         ],
         "xaxis": "x",
         "y": [
          31.45
         ],
         "yaxis": "y"
        },
        {
         "alignmentgroup": "True",
         "hovertemplate": "Total Sales: %{y}",
         "legendgroup": "b",
         "marker": {
          "color": "#EF553B"
         },
         "name": "b",
         "offsetgroup": "b",
         "orientation": "v",
         "showlegend": true,
         "text": [
          33.06
         ],
         "textposition": "outside",
         "type": "bar",
         "x": [
          "Zero"
         ],
         "xaxis": "x",
         "y": [
          33.06
         ],
         "yaxis": "y"
        },
        {
         "alignmentgroup": "True",
         "hovertemplate": "Total Sales: %{y}",
         "legendgroup": "c",
         "marker": {
          "color": "#00cc96"
         },
         "name": "c",
         "offsetgroup": "c",
         "orientation": "v",
         "showlegend": true,
         "text": [
          35.5
         ],
         "textposition": "outside",
         "type": "bar",
         "x": [
          "Two"
         ],
         "xaxis": "x",
         "y": [
          35.5
         ],
         "yaxis": "y"
        }
       ],
       "layout": {
        "barmode": "relative",
        "height": 500,
        "legend": {
         "title": {
          "text": "color"
         },
         "tracegroupgap": 0
        },
        "margin": {
         "t": 60
        },
        "showlegend": false,
        "template": {
         "data": {
          "bar": [
           {
            "error_x": {
             "color": "#2a3f5f"
            },
            "error_y": {
             "color": "#2a3f5f"
            },
            "marker": {
             "line": {
              "color": "#E5ECF6",
              "width": 0.5
             }
            },
            "type": "bar"
           }
          ],
          "barpolar": [
           {
            "marker": {
             "line": {
              "color": "#E5ECF6",
              "width": 0.5
             }
            },
            "type": "barpolar"
           }
          ],
          "carpet": [
           {
            "aaxis": {
             "endlinecolor": "#2a3f5f",
             "gridcolor": "white",
             "linecolor": "white",
             "minorgridcolor": "white",
             "startlinecolor": "#2a3f5f"
            },
            "baxis": {
             "endlinecolor": "#2a3f5f",
             "gridcolor": "white",
             "linecolor": "white",
             "minorgridcolor": "white",
             "startlinecolor": "#2a3f5f"
            },
            "type": "carpet"
           }
          ],
          "choropleth": [
           {
            "colorbar": {
             "outlinewidth": 0,
             "ticks": ""
            },
            "type": "choropleth"
           }
          ],
          "contour": [
           {
            "colorbar": {
             "outlinewidth": 0,
             "ticks": ""
            },
            "colorscale": [
             [
              0,
              "#0d0887"
             ],
             [
              0.1111111111111111,
              "#46039f"
             ],
             [
              0.2222222222222222,
              "#7201a8"
             ],
             [
              0.3333333333333333,
              "#9c179e"
             ],
             [
              0.4444444444444444,
              "#bd3786"
             ],
             [
              0.5555555555555556,
              "#d8576b"
             ],
             [
              0.6666666666666666,
              "#ed7953"
             ],
             [
              0.7777777777777778,
              "#fb9f3a"
             ],
             [
              0.8888888888888888,
              "#fdca26"
             ],
             [
              1,
              "#f0f921"
             ]
            ],
            "type": "contour"
           }
          ],
          "contourcarpet": [
           {
            "colorbar": {
             "outlinewidth": 0,
             "ticks": ""
            },
            "type": "contourcarpet"
           }
          ],
          "heatmap": [
           {
            "colorbar": {
             "outlinewidth": 0,
             "ticks": ""
            },
            "colorscale": [
             [
              0,
              "#0d0887"
             ],
             [
              0.1111111111111111,
              "#46039f"
             ],
             [
              0.2222222222222222,
              "#7201a8"
             ],
             [
              0.3333333333333333,
              "#9c179e"
             ],
             [
              0.4444444444444444,
              "#bd3786"
             ],
             [
              0.5555555555555556,
              "#d8576b"
             ],
             [
              0.6666666666666666,
              "#ed7953"
             ],
             [
              0.7777777777777778,
              "#fb9f3a"
             ],
             [
              0.8888888888888888,
              "#fdca26"
             ],
             [
              1,
              "#f0f921"
             ]
            ],
            "type": "heatmap"
           }
          ],
          "heatmapgl": [
           {
            "colorbar": {
             "outlinewidth": 0,
             "ticks": ""
            },
            "colorscale": [
             [
              0,
              "#0d0887"
             ],
             [
              0.1111111111111111,
              "#46039f"
             ],
             [
              0.2222222222222222,
              "#7201a8"
             ],
             [
              0.3333333333333333,
              "#9c179e"
             ],
             [
              0.4444444444444444,
              "#bd3786"
             ],
             [
              0.5555555555555556,
              "#d8576b"
             ],
             [
              0.6666666666666666,
              "#ed7953"
             ],
             [
              0.7777777777777778,
              "#fb9f3a"
             ],
             [
              0.8888888888888888,
              "#fdca26"
             ],
             [
              1,
              "#f0f921"
             ]
            ],
            "type": "heatmapgl"
           }
          ],
          "histogram": [
           {
            "marker": {
             "colorbar": {
              "outlinewidth": 0,
              "ticks": ""
             }
            },
            "type": "histogram"
           }
          ],
          "histogram2d": [
           {
            "colorbar": {
             "outlinewidth": 0,
             "ticks": ""
            },
            "colorscale": [
             [
              0,
              "#0d0887"
             ],
             [
              0.1111111111111111,
              "#46039f"
             ],
             [
              0.2222222222222222,
              "#7201a8"
             ],
             [
              0.3333333333333333,
              "#9c179e"
             ],
             [
              0.4444444444444444,
              "#bd3786"
             ],
             [
              0.5555555555555556,
              "#d8576b"
             ],
             [
              0.6666666666666666,
              "#ed7953"
             ],
             [
              0.7777777777777778,
              "#fb9f3a"
             ],
             [
              0.8888888888888888,
              "#fdca26"
             ],
             [
              1,
              "#f0f921"
             ]
            ],
            "type": "histogram2d"
           }
          ],
          "histogram2dcontour": [
           {
            "colorbar": {
             "outlinewidth": 0,
             "ticks": ""
            },
            "colorscale": [
             [
              0,
              "#0d0887"
             ],
             [
              0.1111111111111111,
              "#46039f"
             ],
             [
              0.2222222222222222,
              "#7201a8"
             ],
             [
              0.3333333333333333,
              "#9c179e"
             ],
             [
              0.4444444444444444,
              "#bd3786"
             ],
             [
              0.5555555555555556,
              "#d8576b"
             ],
             [
              0.6666666666666666,
              "#ed7953"
             ],
             [
              0.7777777777777778,
              "#fb9f3a"
             ],
             [
              0.8888888888888888,
              "#fdca26"
             ],
             [
              1,
              "#f0f921"
             ]
            ],
            "type": "histogram2dcontour"
           }
          ],
          "mesh3d": [
           {
            "colorbar": {
             "outlinewidth": 0,
             "ticks": ""
            },
            "type": "mesh3d"
           }
          ],
          "parcoords": [
           {
            "line": {
             "colorbar": {
              "outlinewidth": 0,
              "ticks": ""
             }
            },
            "type": "parcoords"
           }
          ],
          "pie": [
           {
            "automargin": true,
            "type": "pie"
           }
          ],
          "scatter": [
           {
            "marker": {
             "colorbar": {
              "outlinewidth": 0,
              "ticks": ""
             }
            },
            "type": "scatter"
           }
          ],
          "scatter3d": [
           {
            "line": {
             "colorbar": {
              "outlinewidth": 0,
              "ticks": ""
             }
            },
            "marker": {
             "colorbar": {
              "outlinewidth": 0,
              "ticks": ""
             }
            },
            "type": "scatter3d"
           }
          ],
          "scattercarpet": [
           {
            "marker": {
             "colorbar": {
              "outlinewidth": 0,
              "ticks": ""
             }
            },
            "type": "scattercarpet"
           }
          ],
          "scattergeo": [
           {
            "marker": {
             "colorbar": {
              "outlinewidth": 0,
              "ticks": ""
             }
            },
            "type": "scattergeo"
           }
          ],
          "scattergl": [
           {
            "marker": {
             "colorbar": {
              "outlinewidth": 0,
              "ticks": ""
             }
            },
            "type": "scattergl"
           }
          ],
          "scattermapbox": [
           {
            "marker": {
             "colorbar": {
              "outlinewidth": 0,
              "ticks": ""
             }
            },
            "type": "scattermapbox"
           }
          ],
          "scatterpolar": [
           {
            "marker": {
             "colorbar": {
              "outlinewidth": 0,
              "ticks": ""
             }
            },
            "type": "scatterpolar"
           }
          ],
          "scatterpolargl": [
           {
            "marker": {
             "colorbar": {
              "outlinewidth": 0,
              "ticks": ""
             }
            },
            "type": "scatterpolargl"
           }
          ],
          "scatterternary": [
           {
            "marker": {
             "colorbar": {
              "outlinewidth": 0,
              "ticks": ""
             }
            },
            "type": "scatterternary"
           }
          ],
          "surface": [
           {
            "colorbar": {
             "outlinewidth": 0,
             "ticks": ""
            },
            "colorscale": [
             [
              0,
              "#0d0887"
             ],
             [
              0.1111111111111111,
              "#46039f"
             ],
             [
              0.2222222222222222,
              "#7201a8"
             ],
             [
              0.3333333333333333,
              "#9c179e"
             ],
             [
              0.4444444444444444,
              "#bd3786"
             ],
             [
              0.5555555555555556,
              "#d8576b"
             ],
             [
              0.6666666666666666,
              "#ed7953"
             ],
             [
              0.7777777777777778,
              "#fb9f3a"
             ],
             [
              0.8888888888888888,
              "#fdca26"
             ],
             [
              1,
              "#f0f921"
             ]
            ],
            "type": "surface"
           }
          ],
          "table": [
           {
            "cells": {
             "fill": {
              "color": "#EBF0F8"
             },
             "line": {
              "color": "white"
             }
            },
            "header": {
             "fill": {
              "color": "#C8D4E3"
             },
             "line": {
              "color": "white"
             }
            },
            "type": "table"
           }
          ]
         },
         "layout": {
          "annotationdefaults": {
           "arrowcolor": "#2a3f5f",
           "arrowhead": 0,
           "arrowwidth": 1
          },
          "autotypenumbers": "strict",
          "coloraxis": {
           "colorbar": {
            "outlinewidth": 0,
            "ticks": ""
           }
          },
          "colorscale": {
           "diverging": [
            [
             0,
             "#8e0152"
            ],
            [
             0.1,
             "#c51b7d"
            ],
            [
             0.2,
             "#de77ae"
            ],
            [
             0.3,
             "#f1b6da"
            ],
            [
             0.4,
             "#fde0ef"
            ],
            [
             0.5,
             "#f7f7f7"
            ],
            [
             0.6,
             "#e6f5d0"
            ],
            [
             0.7,
             "#b8e186"
            ],
            [
             0.8,
             "#7fbc41"
            ],
            [
             0.9,
             "#4d9221"
            ],
            [
             1,
             "#276419"
            ]
           ],
           "sequential": [
            [
             0,
             "#0d0887"
            ],
            [
             0.1111111111111111,
             "#46039f"
            ],
            [
             0.2222222222222222,
             "#7201a8"
            ],
            [
             0.3333333333333333,
             "#9c179e"
            ],
            [
             0.4444444444444444,
             "#bd3786"
            ],
            [
             0.5555555555555556,
             "#d8576b"
            ],
            [
             0.6666666666666666,
             "#ed7953"
            ],
            [
             0.7777777777777778,
             "#fb9f3a"
            ],
            [
             0.8888888888888888,
             "#fdca26"
            ],
            [
             1,
             "#f0f921"
            ]
           ],
           "sequentialminus": [
            [
             0,
             "#0d0887"
            ],
            [
             0.1111111111111111,
             "#46039f"
            ],
            [
             0.2222222222222222,
             "#7201a8"
            ],
            [
             0.3333333333333333,
             "#9c179e"
            ],
            [
             0.4444444444444444,
             "#bd3786"
            ],
            [
             0.5555555555555556,
             "#d8576b"
            ],
            [
             0.6666666666666666,
             "#ed7953"
            ],
            [
             0.7777777777777778,
             "#fb9f3a"
            ],
            [
             0.8888888888888888,
             "#fdca26"
            ],
            [
             1,
             "#f0f921"
            ]
           ]
          },
          "colorway": [
           "#636efa",
           "#EF553B",
           "#00cc96",
           "#ab63fa",
           "#FFA15A",
           "#19d3f3",
           "#FF6692",
           "#B6E880",
           "#FF97FF",
           "#FECB52"
          ],
          "font": {
           "color": "#2a3f5f"
          },
          "geo": {
           "bgcolor": "white",
           "lakecolor": "white",
           "landcolor": "#E5ECF6",
           "showlakes": true,
           "showland": true,
           "subunitcolor": "white"
          },
          "hoverlabel": {
           "align": "left"
          },
          "hovermode": "closest",
          "mapbox": {
           "style": "light"
          },
          "paper_bgcolor": "white",
          "plot_bgcolor": "#E5ECF6",
          "polar": {
           "angularaxis": {
            "gridcolor": "white",
            "linecolor": "white",
            "ticks": ""
           },
           "bgcolor": "#E5ECF6",
           "radialaxis": {
            "gridcolor": "white",
            "linecolor": "white",
            "ticks": ""
           }
          },
          "scene": {
           "xaxis": {
            "backgroundcolor": "#E5ECF6",
            "gridcolor": "white",
            "gridwidth": 2,
            "linecolor": "white",
            "showbackground": true,
            "ticks": "",
            "zerolinecolor": "white"
           },
           "yaxis": {
            "backgroundcolor": "#E5ECF6",
            "gridcolor": "white",
            "gridwidth": 2,
            "linecolor": "white",
            "showbackground": true,
            "ticks": "",
            "zerolinecolor": "white"
           },
           "zaxis": {
            "backgroundcolor": "#E5ECF6",
            "gridcolor": "white",
            "gridwidth": 2,
            "linecolor": "white",
            "showbackground": true,
            "ticks": "",
            "zerolinecolor": "white"
           }
          },
          "shapedefaults": {
           "line": {
            "color": "#2a3f5f"
           }
          },
          "ternary": {
           "aaxis": {
            "gridcolor": "white",
            "linecolor": "white",
            "ticks": ""
           },
           "baxis": {
            "gridcolor": "white",
            "linecolor": "white",
            "ticks": ""
           },
           "bgcolor": "#E5ECF6",
           "caxis": {
            "gridcolor": "white",
            "linecolor": "white",
            "ticks": ""
           }
          },
          "title": {
           "x": 0.05
          },
          "xaxis": {
           "automargin": true,
           "gridcolor": "white",
           "linecolor": "white",
           "ticks": "",
           "title": {
            "standoff": 15
           },
           "zerolinecolor": "white",
           "zerolinewidth": 2
          },
          "yaxis": {
           "automargin": true,
           "gridcolor": "white",
           "linecolor": "white",
           "ticks": "",
           "title": {
            "standoff": 15
           },
           "zerolinecolor": "white",
           "zerolinewidth": 2
          }
         }
        },
        "title": {
         "text": "Percent of sales w/ No. of Events",
         "x": 0.5
        },
        "width": 800,
        "xaxis": {
         "anchor": "y",
         "domain": [
          0,
          1
         ],
         "title": {
          "text": "No. of Events"
         }
        },
        "yaxis": {
         "anchor": "x",
         "domain": [
          0,
          1
         ],
         "title": {
          "text": "Percent Sales"
         }
        }
       }
      },
      "text/html": [
       "<div>                            <div id=\"9b70873a-07eb-4691-a934-91b23b18f179\" class=\"plotly-graph-div\" style=\"height:500px; width:800px;\"></div>            <script type=\"text/javascript\">                require([\"plotly\"], function(Plotly) {                    window.PLOTLYENV=window.PLOTLYENV || {};                                    if (document.getElementById(\"9b70873a-07eb-4691-a934-91b23b18f179\")) {                    Plotly.newPlot(                        \"9b70873a-07eb-4691-a934-91b23b18f179\",                        [{\"alignmentgroup\": \"True\", \"hovertemplate\": \"Total Sales: %{y}\", \"legendgroup\": \"a\", \"marker\": {\"color\": \"#636efa\"}, \"name\": \"a\", \"offsetgroup\": \"a\", \"orientation\": \"v\", \"showlegend\": true, \"text\": [31.45], \"textposition\": \"outside\", \"type\": \"bar\", \"x\": [\"One\"], \"xaxis\": \"x\", \"y\": [31.45], \"yaxis\": \"y\"}, {\"alignmentgroup\": \"True\", \"hovertemplate\": \"Total Sales: %{y}\", \"legendgroup\": \"b\", \"marker\": {\"color\": \"#EF553B\"}, \"name\": \"b\", \"offsetgroup\": \"b\", \"orientation\": \"v\", \"showlegend\": true, \"text\": [33.06], \"textposition\": \"outside\", \"type\": \"bar\", \"x\": [\"Zero\"], \"xaxis\": \"x\", \"y\": [33.06], \"yaxis\": \"y\"}, {\"alignmentgroup\": \"True\", \"hovertemplate\": \"Total Sales: %{y}\", \"legendgroup\": \"c\", \"marker\": {\"color\": \"#00cc96\"}, \"name\": \"c\", \"offsetgroup\": \"c\", \"orientation\": \"v\", \"showlegend\": true, \"text\": [35.5], \"textposition\": \"outside\", \"type\": \"bar\", \"x\": [\"Two\"], \"xaxis\": \"x\", \"y\": [35.5], \"yaxis\": \"y\"}],                        {\"barmode\": \"relative\", \"height\": 500, \"legend\": {\"title\": {\"text\": \"color\"}, \"tracegroupgap\": 0}, \"margin\": {\"t\": 60}, \"showlegend\": false, \"template\": {\"data\": {\"bar\": [{\"error_x\": {\"color\": \"#2a3f5f\"}, \"error_y\": {\"color\": \"#2a3f5f\"}, \"marker\": {\"line\": {\"color\": \"#E5ECF6\", \"width\": 0.5}}, \"type\": \"bar\"}], \"barpolar\": [{\"marker\": {\"line\": {\"color\": \"#E5ECF6\", \"width\": 0.5}}, \"type\": \"barpolar\"}], \"carpet\": [{\"aaxis\": {\"endlinecolor\": \"#2a3f5f\", \"gridcolor\": \"white\", \"linecolor\": \"white\", \"minorgridcolor\": \"white\", \"startlinecolor\": \"#2a3f5f\"}, \"baxis\": {\"endlinecolor\": \"#2a3f5f\", \"gridcolor\": \"white\", \"linecolor\": \"white\", \"minorgridcolor\": \"white\", \"startlinecolor\": \"#2a3f5f\"}, \"type\": \"carpet\"}], \"choropleth\": [{\"colorbar\": {\"outlinewidth\": 0, \"ticks\": \"\"}, \"type\": \"choropleth\"}], \"contour\": [{\"colorbar\": {\"outlinewidth\": 0, \"ticks\": \"\"}, \"colorscale\": [[0.0, \"#0d0887\"], [0.1111111111111111, \"#46039f\"], [0.2222222222222222, \"#7201a8\"], [0.3333333333333333, \"#9c179e\"], [0.4444444444444444, \"#bd3786\"], [0.5555555555555556, \"#d8576b\"], [0.6666666666666666, \"#ed7953\"], [0.7777777777777778, \"#fb9f3a\"], [0.8888888888888888, \"#fdca26\"], [1.0, \"#f0f921\"]], \"type\": \"contour\"}], \"contourcarpet\": [{\"colorbar\": {\"outlinewidth\": 0, \"ticks\": \"\"}, \"type\": \"contourcarpet\"}], \"heatmap\": [{\"colorbar\": {\"outlinewidth\": 0, \"ticks\": \"\"}, \"colorscale\": [[0.0, \"#0d0887\"], [0.1111111111111111, \"#46039f\"], [0.2222222222222222, \"#7201a8\"], [0.3333333333333333, \"#9c179e\"], [0.4444444444444444, \"#bd3786\"], [0.5555555555555556, \"#d8576b\"], [0.6666666666666666, \"#ed7953\"], [0.7777777777777778, \"#fb9f3a\"], [0.8888888888888888, \"#fdca26\"], [1.0, \"#f0f921\"]], \"type\": \"heatmap\"}], \"heatmapgl\": [{\"colorbar\": {\"outlinewidth\": 0, \"ticks\": \"\"}, \"colorscale\": [[0.0, \"#0d0887\"], [0.1111111111111111, \"#46039f\"], [0.2222222222222222, \"#7201a8\"], [0.3333333333333333, \"#9c179e\"], [0.4444444444444444, \"#bd3786\"], [0.5555555555555556, \"#d8576b\"], [0.6666666666666666, \"#ed7953\"], [0.7777777777777778, \"#fb9f3a\"], [0.8888888888888888, \"#fdca26\"], [1.0, \"#f0f921\"]], \"type\": \"heatmapgl\"}], \"histogram\": [{\"marker\": {\"colorbar\": {\"outlinewidth\": 0, \"ticks\": \"\"}}, \"type\": \"histogram\"}], \"histogram2d\": [{\"colorbar\": {\"outlinewidth\": 0, \"ticks\": \"\"}, \"colorscale\": [[0.0, \"#0d0887\"], [0.1111111111111111, \"#46039f\"], [0.2222222222222222, \"#7201a8\"], [0.3333333333333333, \"#9c179e\"], [0.4444444444444444, \"#bd3786\"], [0.5555555555555556, \"#d8576b\"], [0.6666666666666666, \"#ed7953\"], [0.7777777777777778, \"#fb9f3a\"], [0.8888888888888888, \"#fdca26\"], [1.0, \"#f0f921\"]], \"type\": \"histogram2d\"}], \"histogram2dcontour\": [{\"colorbar\": {\"outlinewidth\": 0, \"ticks\": \"\"}, \"colorscale\": [[0.0, \"#0d0887\"], [0.1111111111111111, \"#46039f\"], [0.2222222222222222, \"#7201a8\"], [0.3333333333333333, \"#9c179e\"], [0.4444444444444444, \"#bd3786\"], [0.5555555555555556, \"#d8576b\"], [0.6666666666666666, \"#ed7953\"], [0.7777777777777778, \"#fb9f3a\"], [0.8888888888888888, \"#fdca26\"], [1.0, \"#f0f921\"]], \"type\": \"histogram2dcontour\"}], \"mesh3d\": [{\"colorbar\": {\"outlinewidth\": 0, \"ticks\": \"\"}, \"type\": \"mesh3d\"}], \"parcoords\": [{\"line\": {\"colorbar\": {\"outlinewidth\": 0, \"ticks\": \"\"}}, \"type\": \"parcoords\"}], \"pie\": [{\"automargin\": true, \"type\": \"pie\"}], \"scatter\": [{\"marker\": {\"colorbar\": {\"outlinewidth\": 0, \"ticks\": \"\"}}, \"type\": \"scatter\"}], \"scatter3d\": [{\"line\": {\"colorbar\": {\"outlinewidth\": 0, \"ticks\": \"\"}}, \"marker\": {\"colorbar\": {\"outlinewidth\": 0, \"ticks\": \"\"}}, \"type\": \"scatter3d\"}], \"scattercarpet\": [{\"marker\": {\"colorbar\": {\"outlinewidth\": 0, \"ticks\": \"\"}}, \"type\": \"scattercarpet\"}], \"scattergeo\": [{\"marker\": {\"colorbar\": {\"outlinewidth\": 0, \"ticks\": \"\"}}, \"type\": \"scattergeo\"}], \"scattergl\": [{\"marker\": {\"colorbar\": {\"outlinewidth\": 0, \"ticks\": \"\"}}, \"type\": \"scattergl\"}], \"scattermapbox\": [{\"marker\": {\"colorbar\": {\"outlinewidth\": 0, \"ticks\": \"\"}}, \"type\": \"scattermapbox\"}], \"scatterpolar\": [{\"marker\": {\"colorbar\": {\"outlinewidth\": 0, \"ticks\": \"\"}}, \"type\": \"scatterpolar\"}], \"scatterpolargl\": [{\"marker\": {\"colorbar\": {\"outlinewidth\": 0, \"ticks\": \"\"}}, \"type\": \"scatterpolargl\"}], \"scatterternary\": [{\"marker\": {\"colorbar\": {\"outlinewidth\": 0, \"ticks\": \"\"}}, \"type\": \"scatterternary\"}], \"surface\": [{\"colorbar\": {\"outlinewidth\": 0, \"ticks\": \"\"}, \"colorscale\": [[0.0, \"#0d0887\"], [0.1111111111111111, \"#46039f\"], [0.2222222222222222, \"#7201a8\"], [0.3333333333333333, \"#9c179e\"], [0.4444444444444444, \"#bd3786\"], [0.5555555555555556, \"#d8576b\"], [0.6666666666666666, \"#ed7953\"], [0.7777777777777778, \"#fb9f3a\"], [0.8888888888888888, \"#fdca26\"], [1.0, \"#f0f921\"]], \"type\": \"surface\"}], \"table\": [{\"cells\": {\"fill\": {\"color\": \"#EBF0F8\"}, \"line\": {\"color\": \"white\"}}, \"header\": {\"fill\": {\"color\": \"#C8D4E3\"}, \"line\": {\"color\": \"white\"}}, \"type\": \"table\"}]}, \"layout\": {\"annotationdefaults\": {\"arrowcolor\": \"#2a3f5f\", \"arrowhead\": 0, \"arrowwidth\": 1}, \"autotypenumbers\": \"strict\", \"coloraxis\": {\"colorbar\": {\"outlinewidth\": 0, \"ticks\": \"\"}}, \"colorscale\": {\"diverging\": [[0, \"#8e0152\"], [0.1, \"#c51b7d\"], [0.2, \"#de77ae\"], [0.3, \"#f1b6da\"], [0.4, \"#fde0ef\"], [0.5, \"#f7f7f7\"], [0.6, \"#e6f5d0\"], [0.7, \"#b8e186\"], [0.8, \"#7fbc41\"], [0.9, \"#4d9221\"], [1, \"#276419\"]], \"sequential\": [[0.0, \"#0d0887\"], [0.1111111111111111, \"#46039f\"], [0.2222222222222222, \"#7201a8\"], [0.3333333333333333, \"#9c179e\"], [0.4444444444444444, \"#bd3786\"], [0.5555555555555556, \"#d8576b\"], [0.6666666666666666, \"#ed7953\"], [0.7777777777777778, \"#fb9f3a\"], [0.8888888888888888, \"#fdca26\"], [1.0, \"#f0f921\"]], \"sequentialminus\": [[0.0, \"#0d0887\"], [0.1111111111111111, \"#46039f\"], [0.2222222222222222, \"#7201a8\"], [0.3333333333333333, \"#9c179e\"], [0.4444444444444444, \"#bd3786\"], [0.5555555555555556, \"#d8576b\"], [0.6666666666666666, \"#ed7953\"], [0.7777777777777778, \"#fb9f3a\"], [0.8888888888888888, \"#fdca26\"], [1.0, \"#f0f921\"]]}, \"colorway\": [\"#636efa\", \"#EF553B\", \"#00cc96\", \"#ab63fa\", \"#FFA15A\", \"#19d3f3\", \"#FF6692\", \"#B6E880\", \"#FF97FF\", \"#FECB52\"], \"font\": {\"color\": \"#2a3f5f\"}, \"geo\": {\"bgcolor\": \"white\", \"lakecolor\": \"white\", \"landcolor\": \"#E5ECF6\", \"showlakes\": true, \"showland\": true, \"subunitcolor\": \"white\"}, \"hoverlabel\": {\"align\": \"left\"}, \"hovermode\": \"closest\", \"mapbox\": {\"style\": \"light\"}, \"paper_bgcolor\": \"white\", \"plot_bgcolor\": \"#E5ECF6\", \"polar\": {\"angularaxis\": {\"gridcolor\": \"white\", \"linecolor\": \"white\", \"ticks\": \"\"}, \"bgcolor\": \"#E5ECF6\", \"radialaxis\": {\"gridcolor\": \"white\", \"linecolor\": \"white\", \"ticks\": \"\"}}, \"scene\": {\"xaxis\": {\"backgroundcolor\": \"#E5ECF6\", \"gridcolor\": \"white\", \"gridwidth\": 2, \"linecolor\": \"white\", \"showbackground\": true, \"ticks\": \"\", \"zerolinecolor\": \"white\"}, \"yaxis\": {\"backgroundcolor\": \"#E5ECF6\", \"gridcolor\": \"white\", \"gridwidth\": 2, \"linecolor\": \"white\", \"showbackground\": true, \"ticks\": \"\", \"zerolinecolor\": \"white\"}, \"zaxis\": {\"backgroundcolor\": \"#E5ECF6\", \"gridcolor\": \"white\", \"gridwidth\": 2, \"linecolor\": \"white\", \"showbackground\": true, \"ticks\": \"\", \"zerolinecolor\": \"white\"}}, \"shapedefaults\": {\"line\": {\"color\": \"#2a3f5f\"}}, \"ternary\": {\"aaxis\": {\"gridcolor\": \"white\", \"linecolor\": \"white\", \"ticks\": \"\"}, \"baxis\": {\"gridcolor\": \"white\", \"linecolor\": \"white\", \"ticks\": \"\"}, \"bgcolor\": \"#E5ECF6\", \"caxis\": {\"gridcolor\": \"white\", \"linecolor\": \"white\", \"ticks\": \"\"}}, \"title\": {\"x\": 0.05}, \"xaxis\": {\"automargin\": true, \"gridcolor\": \"white\", \"linecolor\": \"white\", \"ticks\": \"\", \"title\": {\"standoff\": 15}, \"zerolinecolor\": \"white\", \"zerolinewidth\": 2}, \"yaxis\": {\"automargin\": true, \"gridcolor\": \"white\", \"linecolor\": \"white\", \"ticks\": \"\", \"title\": {\"standoff\": 15}, \"zerolinecolor\": \"white\", \"zerolinewidth\": 2}}}, \"title\": {\"text\": \"Percent of sales w/ No. of Events\", \"x\": 0.5}, \"width\": 800, \"xaxis\": {\"anchor\": \"y\", \"domain\": [0.0, 1.0], \"title\": {\"text\": \"No. of Events\"}}, \"yaxis\": {\"anchor\": \"x\", \"domain\": [0.0, 1.0], \"title\": {\"text\": \"Percent Sales\"}}},                        {\"responsive\": true}                    ).then(function(){\n",
       "                            \n",
       "var gd = document.getElementById('9b70873a-07eb-4691-a934-91b23b18f179');\n",
       "var x = new MutationObserver(function (mutations, observer) {{\n",
       "        var display = window.getComputedStyle(gd).display;\n",
       "        if (!display || display === 'none') {{\n",
       "            console.log([gd, 'removed!']);\n",
       "            Plotly.purge(gd);\n",
       "            observer.disconnect();\n",
       "        }}\n",
       "}});\n",
       "\n",
       "// Listen for the removal of the full notebook cells\n",
       "var notebookContainer = gd.closest('#notebook-container');\n",
       "if (notebookContainer) {{\n",
       "    x.observe(notebookContainer, {childList: true});\n",
       "}}\n",
       "\n",
       "// Listen for the clearing of the current output cell\n",
       "var outputEl = gd.closest('.output');\n",
       "if (outputEl) {{\n",
       "    x.observe(outputEl, {childList: true});\n",
       "}}\n",
       "\n",
       "                        })                };                });            </script>        </div>"
      ]
     },
     "metadata": {},
     "output_type": "display_data"
    }
   ],
   "source": [
    "colors = ['a','b','c']\n",
    "fig = px.bar(x=temp.index, y=y, labels={'x':\"No. of Events\",\"y\":'Percent Sales'},color=colors, text=y)\n",
    "fig.update_traces(hovertemplate='Total Sales: %{y}', textposition='outside')\n",
    "fig.update_layout(showlegend=False, title=\"Percent of sales w/ No. of Events\", title_x=0.5, width=800, height=500)\n",
    "fig.show()"
   ]
  },
  {
   "cell_type": "markdown",
   "metadata": {},
   "source": [
    "\n",
    "Observation:\n",
    "\n",
    "When there were 2 events on a day the sales happened are little high than days when there were no events.\n",
    "But on the contrary, when there were 1 event, the sales happened were little less than days when there were no events."
   ]
  },
  {
   "cell_type": "code",
   "execution_count": 444,
   "metadata": {
    "scrolled": true
   },
   "outputs": [
    {
     "name": "stderr",
     "output_type": "stream",
     "text": [
      "<ipython-input-444-b5f4d349c27f>:9: SettingWithCopyWarning:\n",
      "\n",
      "\n",
      "A value is trying to be set on a copy of a slice from a DataFrame.\n",
      "Try using .loc[row_indexer,col_indexer] = value instead\n",
      "\n",
      "See the caveats in the documentation: https://pandas.pydata.org/pandas-docs/stable/user_guide/indexing.html#returning-a-view-versus-a-copy\n",
      "\n",
      "<ipython-input-444-b5f4d349c27f>:10: SettingWithCopyWarning:\n",
      "\n",
      "\n",
      "A value is trying to be set on a copy of a slice from a DataFrame.\n",
      "Try using .loc[row_indexer,col_indexer] = value instead\n",
      "\n",
      "See the caveats in the documentation: https://pandas.pydata.org/pandas-docs/stable/user_guide/indexing.html#returning-a-view-versus-a-copy\n",
      "\n",
      "<ipython-input-444-b5f4d349c27f>:11: SettingWithCopyWarning:\n",
      "\n",
      "\n",
      "A value is trying to be set on a copy of a slice from a DataFrame.\n",
      "Try using .loc[row_indexer,col_indexer] = value instead\n",
      "\n",
      "See the caveats in the documentation: https://pandas.pydata.org/pandas-docs/stable/user_guide/indexing.html#returning-a-view-versus-a-copy\n",
      "\n"
     ]
    },
    {
     "data": {
      "application/vnd.plotly.v1+json": {
       "config": {
        "plotlyServerURL": "https://plot.ly"
       },
       "data": [
        {
         "hovertemplate": "Total Sales: %{y}",
         "marker": {
          "color": [
           1,
           2
          ]
         },
         "name": "",
         "text": [
          "47.97",
          "52.03"
         ],
         "textposition": "outside",
         "type": "bar",
         "x": [
          "No Snap",
          "Snap"
         ],
         "y": [
          47.97,
          52.03
         ]
        },
        {
         "hovertemplate": "Total Sales: %{y}",
         "marker": {
          "color": [
           "red",
           "green"
          ]
         },
         "name": "",
         "text": [
          "47.64",
          "52.36"
         ],
         "textposition": "outside",
         "type": "bar",
         "x": [
          "No Snap",
          "Snap"
         ],
         "xaxis": "x2",
         "y": [
          47.64,
          52.36
         ],
         "yaxis": "y2"
        },
        {
         "hovertemplate": "Total Sales: %{y}",
         "marker": {
          "color": [
           "gold",
           "silver"
          ]
         },
         "name": "",
         "text": [
          "47.6",
          "52.4"
         ],
         "textposition": "outside",
         "type": "bar",
         "x": [
          "No Snap",
          "Snap"
         ],
         "xaxis": "x3",
         "y": [
          47.6,
          52.4
         ],
         "yaxis": "y3"
        }
       ],
       "layout": {
        "annotations": [
         {
          "font": {
           "size": 16
          },
          "showarrow": false,
          "text": "Average Sales on Snap VS Non-Snap days in CA",
          "x": 0.14444444444444446,
          "xanchor": "center",
          "xref": "paper",
          "y": 1,
          "yanchor": "bottom",
          "yref": "paper"
         },
         {
          "font": {
           "size": 16
          },
          "showarrow": false,
          "text": "Average Sales on Snap VS Non-Snap days in TX",
          "x": 0.5,
          "xanchor": "center",
          "xref": "paper",
          "y": 1,
          "yanchor": "bottom",
          "yref": "paper"
         },
         {
          "font": {
           "size": 16
          },
          "showarrow": false,
          "text": "Average Sales on Snap VS Non-Snap days in WI",
          "x": 0.8555555555555556,
          "xanchor": "center",
          "xref": "paper",
          "y": 1,
          "yanchor": "bottom",
          "yref": "paper"
         }
        ],
        "showlegend": false,
        "template": {
         "data": {
          "bar": [
           {
            "error_x": {
             "color": "#2a3f5f"
            },
            "error_y": {
             "color": "#2a3f5f"
            },
            "marker": {
             "line": {
              "color": "#E5ECF6",
              "width": 0.5
             }
            },
            "type": "bar"
           }
          ],
          "barpolar": [
           {
            "marker": {
             "line": {
              "color": "#E5ECF6",
              "width": 0.5
             }
            },
            "type": "barpolar"
           }
          ],
          "carpet": [
           {
            "aaxis": {
             "endlinecolor": "#2a3f5f",
             "gridcolor": "white",
             "linecolor": "white",
             "minorgridcolor": "white",
             "startlinecolor": "#2a3f5f"
            },
            "baxis": {
             "endlinecolor": "#2a3f5f",
             "gridcolor": "white",
             "linecolor": "white",
             "minorgridcolor": "white",
             "startlinecolor": "#2a3f5f"
            },
            "type": "carpet"
           }
          ],
          "choropleth": [
           {
            "colorbar": {
             "outlinewidth": 0,
             "ticks": ""
            },
            "type": "choropleth"
           }
          ],
          "contour": [
           {
            "colorbar": {
             "outlinewidth": 0,
             "ticks": ""
            },
            "colorscale": [
             [
              0,
              "#0d0887"
             ],
             [
              0.1111111111111111,
              "#46039f"
             ],
             [
              0.2222222222222222,
              "#7201a8"
             ],
             [
              0.3333333333333333,
              "#9c179e"
             ],
             [
              0.4444444444444444,
              "#bd3786"
             ],
             [
              0.5555555555555556,
              "#d8576b"
             ],
             [
              0.6666666666666666,
              "#ed7953"
             ],
             [
              0.7777777777777778,
              "#fb9f3a"
             ],
             [
              0.8888888888888888,
              "#fdca26"
             ],
             [
              1,
              "#f0f921"
             ]
            ],
            "type": "contour"
           }
          ],
          "contourcarpet": [
           {
            "colorbar": {
             "outlinewidth": 0,
             "ticks": ""
            },
            "type": "contourcarpet"
           }
          ],
          "heatmap": [
           {
            "colorbar": {
             "outlinewidth": 0,
             "ticks": ""
            },
            "colorscale": [
             [
              0,
              "#0d0887"
             ],
             [
              0.1111111111111111,
              "#46039f"
             ],
             [
              0.2222222222222222,
              "#7201a8"
             ],
             [
              0.3333333333333333,
              "#9c179e"
             ],
             [
              0.4444444444444444,
              "#bd3786"
             ],
             [
              0.5555555555555556,
              "#d8576b"
             ],
             [
              0.6666666666666666,
              "#ed7953"
             ],
             [
              0.7777777777777778,
              "#fb9f3a"
             ],
             [
              0.8888888888888888,
              "#fdca26"
             ],
             [
              1,
              "#f0f921"
             ]
            ],
            "type": "heatmap"
           }
          ],
          "heatmapgl": [
           {
            "colorbar": {
             "outlinewidth": 0,
             "ticks": ""
            },
            "colorscale": [
             [
              0,
              "#0d0887"
             ],
             [
              0.1111111111111111,
              "#46039f"
             ],
             [
              0.2222222222222222,
              "#7201a8"
             ],
             [
              0.3333333333333333,
              "#9c179e"
             ],
             [
              0.4444444444444444,
              "#bd3786"
             ],
             [
              0.5555555555555556,
              "#d8576b"
             ],
             [
              0.6666666666666666,
              "#ed7953"
             ],
             [
              0.7777777777777778,
              "#fb9f3a"
             ],
             [
              0.8888888888888888,
              "#fdca26"
             ],
             [
              1,
              "#f0f921"
             ]
            ],
            "type": "heatmapgl"
           }
          ],
          "histogram": [
           {
            "marker": {
             "colorbar": {
              "outlinewidth": 0,
              "ticks": ""
             }
            },
            "type": "histogram"
           }
          ],
          "histogram2d": [
           {
            "colorbar": {
             "outlinewidth": 0,
             "ticks": ""
            },
            "colorscale": [
             [
              0,
              "#0d0887"
             ],
             [
              0.1111111111111111,
              "#46039f"
             ],
             [
              0.2222222222222222,
              "#7201a8"
             ],
             [
              0.3333333333333333,
              "#9c179e"
             ],
             [
              0.4444444444444444,
              "#bd3786"
             ],
             [
              0.5555555555555556,
              "#d8576b"
             ],
             [
              0.6666666666666666,
              "#ed7953"
             ],
             [
              0.7777777777777778,
              "#fb9f3a"
             ],
             [
              0.8888888888888888,
              "#fdca26"
             ],
             [
              1,
              "#f0f921"
             ]
            ],
            "type": "histogram2d"
           }
          ],
          "histogram2dcontour": [
           {
            "colorbar": {
             "outlinewidth": 0,
             "ticks": ""
            },
            "colorscale": [
             [
              0,
              "#0d0887"
             ],
             [
              0.1111111111111111,
              "#46039f"
             ],
             [
              0.2222222222222222,
              "#7201a8"
             ],
             [
              0.3333333333333333,
              "#9c179e"
             ],
             [
              0.4444444444444444,
              "#bd3786"
             ],
             [
              0.5555555555555556,
              "#d8576b"
             ],
             [
              0.6666666666666666,
              "#ed7953"
             ],
             [
              0.7777777777777778,
              "#fb9f3a"
             ],
             [
              0.8888888888888888,
              "#fdca26"
             ],
             [
              1,
              "#f0f921"
             ]
            ],
            "type": "histogram2dcontour"
           }
          ],
          "mesh3d": [
           {
            "colorbar": {
             "outlinewidth": 0,
             "ticks": ""
            },
            "type": "mesh3d"
           }
          ],
          "parcoords": [
           {
            "line": {
             "colorbar": {
              "outlinewidth": 0,
              "ticks": ""
             }
            },
            "type": "parcoords"
           }
          ],
          "pie": [
           {
            "automargin": true,
            "type": "pie"
           }
          ],
          "scatter": [
           {
            "marker": {
             "colorbar": {
              "outlinewidth": 0,
              "ticks": ""
             }
            },
            "type": "scatter"
           }
          ],
          "scatter3d": [
           {
            "line": {
             "colorbar": {
              "outlinewidth": 0,
              "ticks": ""
             }
            },
            "marker": {
             "colorbar": {
              "outlinewidth": 0,
              "ticks": ""
             }
            },
            "type": "scatter3d"
           }
          ],
          "scattercarpet": [
           {
            "marker": {
             "colorbar": {
              "outlinewidth": 0,
              "ticks": ""
             }
            },
            "type": "scattercarpet"
           }
          ],
          "scattergeo": [
           {
            "marker": {
             "colorbar": {
              "outlinewidth": 0,
              "ticks": ""
             }
            },
            "type": "scattergeo"
           }
          ],
          "scattergl": [
           {
            "marker": {
             "colorbar": {
              "outlinewidth": 0,
              "ticks": ""
             }
            },
            "type": "scattergl"
           }
          ],
          "scattermapbox": [
           {
            "marker": {
             "colorbar": {
              "outlinewidth": 0,
              "ticks": ""
             }
            },
            "type": "scattermapbox"
           }
          ],
          "scatterpolar": [
           {
            "marker": {
             "colorbar": {
              "outlinewidth": 0,
              "ticks": ""
             }
            },
            "type": "scatterpolar"
           }
          ],
          "scatterpolargl": [
           {
            "marker": {
             "colorbar": {
              "outlinewidth": 0,
              "ticks": ""
             }
            },
            "type": "scatterpolargl"
           }
          ],
          "scatterternary": [
           {
            "marker": {
             "colorbar": {
              "outlinewidth": 0,
              "ticks": ""
             }
            },
            "type": "scatterternary"
           }
          ],
          "surface": [
           {
            "colorbar": {
             "outlinewidth": 0,
             "ticks": ""
            },
            "colorscale": [
             [
              0,
              "#0d0887"
             ],
             [
              0.1111111111111111,
              "#46039f"
             ],
             [
              0.2222222222222222,
              "#7201a8"
             ],
             [
              0.3333333333333333,
              "#9c179e"
             ],
             [
              0.4444444444444444,
              "#bd3786"
             ],
             [
              0.5555555555555556,
              "#d8576b"
             ],
             [
              0.6666666666666666,
              "#ed7953"
             ],
             [
              0.7777777777777778,
              "#fb9f3a"
             ],
             [
              0.8888888888888888,
              "#fdca26"
             ],
             [
              1,
              "#f0f921"
             ]
            ],
            "type": "surface"
           }
          ],
          "table": [
           {
            "cells": {
             "fill": {
              "color": "#EBF0F8"
             },
             "line": {
              "color": "white"
             }
            },
            "header": {
             "fill": {
              "color": "#C8D4E3"
             },
             "line": {
              "color": "white"
             }
            },
            "type": "table"
           }
          ]
         },
         "layout": {
          "annotationdefaults": {
           "arrowcolor": "#2a3f5f",
           "arrowhead": 0,
           "arrowwidth": 1
          },
          "autotypenumbers": "strict",
          "coloraxis": {
           "colorbar": {
            "outlinewidth": 0,
            "ticks": ""
           }
          },
          "colorscale": {
           "diverging": [
            [
             0,
             "#8e0152"
            ],
            [
             0.1,
             "#c51b7d"
            ],
            [
             0.2,
             "#de77ae"
            ],
            [
             0.3,
             "#f1b6da"
            ],
            [
             0.4,
             "#fde0ef"
            ],
            [
             0.5,
             "#f7f7f7"
            ],
            [
             0.6,
             "#e6f5d0"
            ],
            [
             0.7,
             "#b8e186"
            ],
            [
             0.8,
             "#7fbc41"
            ],
            [
             0.9,
             "#4d9221"
            ],
            [
             1,
             "#276419"
            ]
           ],
           "sequential": [
            [
             0,
             "#0d0887"
            ],
            [
             0.1111111111111111,
             "#46039f"
            ],
            [
             0.2222222222222222,
             "#7201a8"
            ],
            [
             0.3333333333333333,
             "#9c179e"
            ],
            [
             0.4444444444444444,
             "#bd3786"
            ],
            [
             0.5555555555555556,
             "#d8576b"
            ],
            [
             0.6666666666666666,
             "#ed7953"
            ],
            [
             0.7777777777777778,
             "#fb9f3a"
            ],
            [
             0.8888888888888888,
             "#fdca26"
            ],
            [
             1,
             "#f0f921"
            ]
           ],
           "sequentialminus": [
            [
             0,
             "#0d0887"
            ],
            [
             0.1111111111111111,
             "#46039f"
            ],
            [
             0.2222222222222222,
             "#7201a8"
            ],
            [
             0.3333333333333333,
             "#9c179e"
            ],
            [
             0.4444444444444444,
             "#bd3786"
            ],
            [
             0.5555555555555556,
             "#d8576b"
            ],
            [
             0.6666666666666666,
             "#ed7953"
            ],
            [
             0.7777777777777778,
             "#fb9f3a"
            ],
            [
             0.8888888888888888,
             "#fdca26"
            ],
            [
             1,
             "#f0f921"
            ]
           ]
          },
          "colorway": [
           "#636efa",
           "#EF553B",
           "#00cc96",
           "#ab63fa",
           "#FFA15A",
           "#19d3f3",
           "#FF6692",
           "#B6E880",
           "#FF97FF",
           "#FECB52"
          ],
          "font": {
           "color": "#2a3f5f"
          },
          "geo": {
           "bgcolor": "white",
           "lakecolor": "white",
           "landcolor": "#E5ECF6",
           "showlakes": true,
           "showland": true,
           "subunitcolor": "white"
          },
          "hoverlabel": {
           "align": "left"
          },
          "hovermode": "closest",
          "mapbox": {
           "style": "light"
          },
          "paper_bgcolor": "white",
          "plot_bgcolor": "#E5ECF6",
          "polar": {
           "angularaxis": {
            "gridcolor": "white",
            "linecolor": "white",
            "ticks": ""
           },
           "bgcolor": "#E5ECF6",
           "radialaxis": {
            "gridcolor": "white",
            "linecolor": "white",
            "ticks": ""
           }
          },
          "scene": {
           "xaxis": {
            "backgroundcolor": "#E5ECF6",
            "gridcolor": "white",
            "gridwidth": 2,
            "linecolor": "white",
            "showbackground": true,
            "ticks": "",
            "zerolinecolor": "white"
           },
           "yaxis": {
            "backgroundcolor": "#E5ECF6",
            "gridcolor": "white",
            "gridwidth": 2,
            "linecolor": "white",
            "showbackground": true,
            "ticks": "",
            "zerolinecolor": "white"
           },
           "zaxis": {
            "backgroundcolor": "#E5ECF6",
            "gridcolor": "white",
            "gridwidth": 2,
            "linecolor": "white",
            "showbackground": true,
            "ticks": "",
            "zerolinecolor": "white"
           }
          },
          "shapedefaults": {
           "line": {
            "color": "#2a3f5f"
           }
          },
          "ternary": {
           "aaxis": {
            "gridcolor": "white",
            "linecolor": "white",
            "ticks": ""
           },
           "baxis": {
            "gridcolor": "white",
            "linecolor": "white",
            "ticks": ""
           },
           "bgcolor": "#E5ECF6",
           "caxis": {
            "gridcolor": "white",
            "linecolor": "white",
            "ticks": ""
           }
          },
          "title": {
           "x": 0.05
          },
          "xaxis": {
           "automargin": true,
           "gridcolor": "white",
           "linecolor": "white",
           "ticks": "",
           "title": {
            "standoff": 15
           },
           "zerolinecolor": "white",
           "zerolinewidth": 2
          },
          "yaxis": {
           "automargin": true,
           "gridcolor": "white",
           "linecolor": "white",
           "ticks": "",
           "title": {
            "standoff": 15
           },
           "zerolinecolor": "white",
           "zerolinewidth": 2
          }
         }
        },
        "title": {
         "text": "Sales comparison on Snap VS Non-Snap Days",
         "x": 0.5
        },
        "width": 1300,
        "xaxis": {
         "anchor": "y",
         "domain": [
          0,
          0.2888888888888889
         ]
        },
        "xaxis2": {
         "anchor": "y2",
         "domain": [
          0.35555555555555557,
          0.6444444444444445
         ]
        },
        "xaxis3": {
         "anchor": "y3",
         "domain": [
          0.7111111111111111,
          1
         ]
        },
        "yaxis": {
         "anchor": "x",
         "domain": [
          0,
          1
         ]
        },
        "yaxis2": {
         "anchor": "x2",
         "domain": [
          0,
          1
         ]
        },
        "yaxis3": {
         "anchor": "x3",
         "domain": [
          0,
          1
         ]
        }
       }
      },
      "text/html": [
       "<div>                            <div id=\"9d0e4173-d4de-4ce5-b23b-223e0781deda\" class=\"plotly-graph-div\" style=\"height:525px; width:1300px;\"></div>            <script type=\"text/javascript\">                require([\"plotly\"], function(Plotly) {                    window.PLOTLYENV=window.PLOTLYENV || {};                                    if (document.getElementById(\"9d0e4173-d4de-4ce5-b23b-223e0781deda\")) {                    Plotly.newPlot(                        \"9d0e4173-d4de-4ce5-b23b-223e0781deda\",                        [{\"hovertemplate\": \"Total Sales: %{y}\", \"marker\": {\"color\": [1, 2]}, \"name\": \"\", \"text\": [\"47.97\", \"52.03\"], \"textposition\": \"outside\", \"type\": \"bar\", \"x\": [\"No Snap\", \"Snap\"], \"y\": [47.97, 52.03]}, {\"hovertemplate\": \"Total Sales: %{y}\", \"marker\": {\"color\": [\"red\", \"green\"]}, \"name\": \"\", \"text\": [\"47.64\", \"52.36\"], \"textposition\": \"outside\", \"type\": \"bar\", \"x\": [\"No Snap\", \"Snap\"], \"xaxis\": \"x2\", \"y\": [47.64, 52.36], \"yaxis\": \"y2\"}, {\"hovertemplate\": \"Total Sales: %{y}\", \"marker\": {\"color\": [\"gold\", \"silver\"]}, \"name\": \"\", \"text\": [\"47.6\", \"52.4\"], \"textposition\": \"outside\", \"type\": \"bar\", \"x\": [\"No Snap\", \"Snap\"], \"xaxis\": \"x3\", \"y\": [47.6, 52.4], \"yaxis\": \"y3\"}],                        {\"annotations\": [{\"font\": {\"size\": 16}, \"showarrow\": false, \"text\": \"Average Sales on Snap VS Non-Snap days in CA\", \"x\": 0.14444444444444446, \"xanchor\": \"center\", \"xref\": \"paper\", \"y\": 1.0, \"yanchor\": \"bottom\", \"yref\": \"paper\"}, {\"font\": {\"size\": 16}, \"showarrow\": false, \"text\": \"Average Sales on Snap VS Non-Snap days in TX\", \"x\": 0.5, \"xanchor\": \"center\", \"xref\": \"paper\", \"y\": 1.0, \"yanchor\": \"bottom\", \"yref\": \"paper\"}, {\"font\": {\"size\": 16}, \"showarrow\": false, \"text\": \"Average Sales on Snap VS Non-Snap days in WI\", \"x\": 0.8555555555555556, \"xanchor\": \"center\", \"xref\": \"paper\", \"y\": 1.0, \"yanchor\": \"bottom\", \"yref\": \"paper\"}], \"showlegend\": false, \"template\": {\"data\": {\"bar\": [{\"error_x\": {\"color\": \"#2a3f5f\"}, \"error_y\": {\"color\": \"#2a3f5f\"}, \"marker\": {\"line\": {\"color\": \"#E5ECF6\", \"width\": 0.5}}, \"type\": \"bar\"}], \"barpolar\": [{\"marker\": {\"line\": {\"color\": \"#E5ECF6\", \"width\": 0.5}}, \"type\": \"barpolar\"}], \"carpet\": [{\"aaxis\": {\"endlinecolor\": \"#2a3f5f\", \"gridcolor\": \"white\", \"linecolor\": \"white\", \"minorgridcolor\": \"white\", \"startlinecolor\": \"#2a3f5f\"}, \"baxis\": {\"endlinecolor\": \"#2a3f5f\", \"gridcolor\": \"white\", \"linecolor\": \"white\", \"minorgridcolor\": \"white\", \"startlinecolor\": \"#2a3f5f\"}, \"type\": \"carpet\"}], \"choropleth\": [{\"colorbar\": {\"outlinewidth\": 0, \"ticks\": \"\"}, \"type\": \"choropleth\"}], \"contour\": [{\"colorbar\": {\"outlinewidth\": 0, \"ticks\": \"\"}, \"colorscale\": [[0.0, \"#0d0887\"], [0.1111111111111111, \"#46039f\"], [0.2222222222222222, \"#7201a8\"], [0.3333333333333333, \"#9c179e\"], [0.4444444444444444, \"#bd3786\"], [0.5555555555555556, \"#d8576b\"], [0.6666666666666666, \"#ed7953\"], [0.7777777777777778, \"#fb9f3a\"], [0.8888888888888888, \"#fdca26\"], [1.0, \"#f0f921\"]], \"type\": \"contour\"}], \"contourcarpet\": [{\"colorbar\": {\"outlinewidth\": 0, \"ticks\": \"\"}, \"type\": \"contourcarpet\"}], \"heatmap\": [{\"colorbar\": {\"outlinewidth\": 0, \"ticks\": \"\"}, \"colorscale\": [[0.0, \"#0d0887\"], [0.1111111111111111, \"#46039f\"], [0.2222222222222222, \"#7201a8\"], [0.3333333333333333, \"#9c179e\"], [0.4444444444444444, \"#bd3786\"], [0.5555555555555556, \"#d8576b\"], [0.6666666666666666, \"#ed7953\"], [0.7777777777777778, \"#fb9f3a\"], [0.8888888888888888, \"#fdca26\"], [1.0, \"#f0f921\"]], \"type\": \"heatmap\"}], \"heatmapgl\": [{\"colorbar\": {\"outlinewidth\": 0, \"ticks\": \"\"}, \"colorscale\": [[0.0, \"#0d0887\"], [0.1111111111111111, \"#46039f\"], [0.2222222222222222, \"#7201a8\"], [0.3333333333333333, \"#9c179e\"], [0.4444444444444444, \"#bd3786\"], [0.5555555555555556, \"#d8576b\"], [0.6666666666666666, \"#ed7953\"], [0.7777777777777778, \"#fb9f3a\"], [0.8888888888888888, \"#fdca26\"], [1.0, \"#f0f921\"]], \"type\": \"heatmapgl\"}], \"histogram\": [{\"marker\": {\"colorbar\": {\"outlinewidth\": 0, \"ticks\": \"\"}}, \"type\": \"histogram\"}], \"histogram2d\": [{\"colorbar\": {\"outlinewidth\": 0, \"ticks\": \"\"}, \"colorscale\": [[0.0, \"#0d0887\"], [0.1111111111111111, \"#46039f\"], [0.2222222222222222, \"#7201a8\"], [0.3333333333333333, \"#9c179e\"], [0.4444444444444444, \"#bd3786\"], [0.5555555555555556, \"#d8576b\"], [0.6666666666666666, \"#ed7953\"], [0.7777777777777778, \"#fb9f3a\"], [0.8888888888888888, \"#fdca26\"], [1.0, \"#f0f921\"]], \"type\": \"histogram2d\"}], \"histogram2dcontour\": [{\"colorbar\": {\"outlinewidth\": 0, \"ticks\": \"\"}, \"colorscale\": [[0.0, \"#0d0887\"], [0.1111111111111111, \"#46039f\"], [0.2222222222222222, \"#7201a8\"], [0.3333333333333333, \"#9c179e\"], [0.4444444444444444, \"#bd3786\"], [0.5555555555555556, \"#d8576b\"], [0.6666666666666666, \"#ed7953\"], [0.7777777777777778, \"#fb9f3a\"], [0.8888888888888888, \"#fdca26\"], [1.0, \"#f0f921\"]], \"type\": \"histogram2dcontour\"}], \"mesh3d\": [{\"colorbar\": {\"outlinewidth\": 0, \"ticks\": \"\"}, \"type\": \"mesh3d\"}], \"parcoords\": [{\"line\": {\"colorbar\": {\"outlinewidth\": 0, \"ticks\": \"\"}}, \"type\": \"parcoords\"}], \"pie\": [{\"automargin\": true, \"type\": \"pie\"}], \"scatter\": [{\"marker\": {\"colorbar\": {\"outlinewidth\": 0, \"ticks\": \"\"}}, \"type\": \"scatter\"}], \"scatter3d\": [{\"line\": {\"colorbar\": {\"outlinewidth\": 0, \"ticks\": \"\"}}, \"marker\": {\"colorbar\": {\"outlinewidth\": 0, \"ticks\": \"\"}}, \"type\": \"scatter3d\"}], \"scattercarpet\": [{\"marker\": {\"colorbar\": {\"outlinewidth\": 0, \"ticks\": \"\"}}, \"type\": \"scattercarpet\"}], \"scattergeo\": [{\"marker\": {\"colorbar\": {\"outlinewidth\": 0, \"ticks\": \"\"}}, \"type\": \"scattergeo\"}], \"scattergl\": [{\"marker\": {\"colorbar\": {\"outlinewidth\": 0, \"ticks\": \"\"}}, \"type\": \"scattergl\"}], \"scattermapbox\": [{\"marker\": {\"colorbar\": {\"outlinewidth\": 0, \"ticks\": \"\"}}, \"type\": \"scattermapbox\"}], \"scatterpolar\": [{\"marker\": {\"colorbar\": {\"outlinewidth\": 0, \"ticks\": \"\"}}, \"type\": \"scatterpolar\"}], \"scatterpolargl\": [{\"marker\": {\"colorbar\": {\"outlinewidth\": 0, \"ticks\": \"\"}}, \"type\": \"scatterpolargl\"}], \"scatterternary\": [{\"marker\": {\"colorbar\": {\"outlinewidth\": 0, \"ticks\": \"\"}}, \"type\": \"scatterternary\"}], \"surface\": [{\"colorbar\": {\"outlinewidth\": 0, \"ticks\": \"\"}, \"colorscale\": [[0.0, \"#0d0887\"], [0.1111111111111111, \"#46039f\"], [0.2222222222222222, \"#7201a8\"], [0.3333333333333333, \"#9c179e\"], [0.4444444444444444, \"#bd3786\"], [0.5555555555555556, \"#d8576b\"], [0.6666666666666666, \"#ed7953\"], [0.7777777777777778, \"#fb9f3a\"], [0.8888888888888888, \"#fdca26\"], [1.0, \"#f0f921\"]], \"type\": \"surface\"}], \"table\": [{\"cells\": {\"fill\": {\"color\": \"#EBF0F8\"}, \"line\": {\"color\": \"white\"}}, \"header\": {\"fill\": {\"color\": \"#C8D4E3\"}, \"line\": {\"color\": \"white\"}}, \"type\": \"table\"}]}, \"layout\": {\"annotationdefaults\": {\"arrowcolor\": \"#2a3f5f\", \"arrowhead\": 0, \"arrowwidth\": 1}, \"autotypenumbers\": \"strict\", \"coloraxis\": {\"colorbar\": {\"outlinewidth\": 0, \"ticks\": \"\"}}, \"colorscale\": {\"diverging\": [[0, \"#8e0152\"], [0.1, \"#c51b7d\"], [0.2, \"#de77ae\"], [0.3, \"#f1b6da\"], [0.4, \"#fde0ef\"], [0.5, \"#f7f7f7\"], [0.6, \"#e6f5d0\"], [0.7, \"#b8e186\"], [0.8, \"#7fbc41\"], [0.9, \"#4d9221\"], [1, \"#276419\"]], \"sequential\": [[0.0, \"#0d0887\"], [0.1111111111111111, \"#46039f\"], [0.2222222222222222, \"#7201a8\"], [0.3333333333333333, \"#9c179e\"], [0.4444444444444444, \"#bd3786\"], [0.5555555555555556, \"#d8576b\"], [0.6666666666666666, \"#ed7953\"], [0.7777777777777778, \"#fb9f3a\"], [0.8888888888888888, \"#fdca26\"], [1.0, \"#f0f921\"]], \"sequentialminus\": [[0.0, \"#0d0887\"], [0.1111111111111111, \"#46039f\"], [0.2222222222222222, \"#7201a8\"], [0.3333333333333333, \"#9c179e\"], [0.4444444444444444, \"#bd3786\"], [0.5555555555555556, \"#d8576b\"], [0.6666666666666666, \"#ed7953\"], [0.7777777777777778, \"#fb9f3a\"], [0.8888888888888888, \"#fdca26\"], [1.0, \"#f0f921\"]]}, \"colorway\": [\"#636efa\", \"#EF553B\", \"#00cc96\", \"#ab63fa\", \"#FFA15A\", \"#19d3f3\", \"#FF6692\", \"#B6E880\", \"#FF97FF\", \"#FECB52\"], \"font\": {\"color\": \"#2a3f5f\"}, \"geo\": {\"bgcolor\": \"white\", \"lakecolor\": \"white\", \"landcolor\": \"#E5ECF6\", \"showlakes\": true, \"showland\": true, \"subunitcolor\": \"white\"}, \"hoverlabel\": {\"align\": \"left\"}, \"hovermode\": \"closest\", \"mapbox\": {\"style\": \"light\"}, \"paper_bgcolor\": \"white\", \"plot_bgcolor\": \"#E5ECF6\", \"polar\": {\"angularaxis\": {\"gridcolor\": \"white\", \"linecolor\": \"white\", \"ticks\": \"\"}, \"bgcolor\": \"#E5ECF6\", \"radialaxis\": {\"gridcolor\": \"white\", \"linecolor\": \"white\", \"ticks\": \"\"}}, \"scene\": {\"xaxis\": {\"backgroundcolor\": \"#E5ECF6\", \"gridcolor\": \"white\", \"gridwidth\": 2, \"linecolor\": \"white\", \"showbackground\": true, \"ticks\": \"\", \"zerolinecolor\": \"white\"}, \"yaxis\": {\"backgroundcolor\": \"#E5ECF6\", \"gridcolor\": \"white\", \"gridwidth\": 2, \"linecolor\": \"white\", \"showbackground\": true, \"ticks\": \"\", \"zerolinecolor\": \"white\"}, \"zaxis\": {\"backgroundcolor\": \"#E5ECF6\", \"gridcolor\": \"white\", \"gridwidth\": 2, \"linecolor\": \"white\", \"showbackground\": true, \"ticks\": \"\", \"zerolinecolor\": \"white\"}}, \"shapedefaults\": {\"line\": {\"color\": \"#2a3f5f\"}}, \"ternary\": {\"aaxis\": {\"gridcolor\": \"white\", \"linecolor\": \"white\", \"ticks\": \"\"}, \"baxis\": {\"gridcolor\": \"white\", \"linecolor\": \"white\", \"ticks\": \"\"}, \"bgcolor\": \"#E5ECF6\", \"caxis\": {\"gridcolor\": \"white\", \"linecolor\": \"white\", \"ticks\": \"\"}}, \"title\": {\"x\": 0.05}, \"xaxis\": {\"automargin\": true, \"gridcolor\": \"white\", \"linecolor\": \"white\", \"ticks\": \"\", \"title\": {\"standoff\": 15}, \"zerolinecolor\": \"white\", \"zerolinewidth\": 2}, \"yaxis\": {\"automargin\": true, \"gridcolor\": \"white\", \"linecolor\": \"white\", \"ticks\": \"\", \"title\": {\"standoff\": 15}, \"zerolinecolor\": \"white\", \"zerolinewidth\": 2}}}, \"title\": {\"text\": \"Sales comparison on Snap VS Non-Snap Days\", \"x\": 0.5}, \"width\": 1300, \"xaxis\": {\"anchor\": \"y\", \"domain\": [0.0, 0.2888888888888889]}, \"xaxis2\": {\"anchor\": \"y2\", \"domain\": [0.35555555555555557, 0.6444444444444445]}, \"xaxis3\": {\"anchor\": \"y3\", \"domain\": [0.7111111111111111, 1.0]}, \"yaxis\": {\"anchor\": \"x\", \"domain\": [0.0, 1.0]}, \"yaxis2\": {\"anchor\": \"x2\", \"domain\": [0.0, 1.0]}, \"yaxis3\": {\"anchor\": \"x3\", \"domain\": [0.0, 1.0]}},                        {\"responsive\": true}                    ).then(function(){\n",
       "                            \n",
       "var gd = document.getElementById('9d0e4173-d4de-4ce5-b23b-223e0781deda');\n",
       "var x = new MutationObserver(function (mutations, observer) {{\n",
       "        var display = window.getComputedStyle(gd).display;\n",
       "        if (!display || display === 'none') {{\n",
       "            console.log([gd, 'removed!']);\n",
       "            Plotly.purge(gd);\n",
       "            observer.disconnect();\n",
       "        }}\n",
       "}});\n",
       "\n",
       "// Listen for the removal of the full notebook cells\n",
       "var notebookContainer = gd.closest('#notebook-container');\n",
       "if (notebookContainer) {{\n",
       "    x.observe(notebookContainer, {childList: true});\n",
       "}}\n",
       "\n",
       "// Listen for the clearing of the current output cell\n",
       "var outputEl = gd.closest('.output');\n",
       "if (outputEl) {{\n",
       "    x.observe(outputEl, {childList: true});\n",
       "}}\n",
       "\n",
       "                        })                };                });            </script>        </div>"
      ]
     },
     "metadata": {},
     "output_type": "display_data"
    }
   ],
   "source": [
    "# https://stackoverflow.com/a/28238656\n",
    "\n",
    "# We are picking only the snap features from the cal csv and d for merging with sales csv\n",
    "#d = cal[['snap_CA','snap_TX','snap_WI','d']]\n",
    "temp = sales[['snap_CA','snap_TX','snap_WI','total_sales']]\n",
    "#temp.set_index('d', inplace=True)\n",
    "\n",
    "# We are then replacing 0s and 1s with No snap and Snap on all the 3 snap columns.\n",
    "temp['snap_CA'] = temp['snap_CA'].apply(lambda x: \"No Snap\" if x==0 else \"Snap\")\n",
    "temp['snap_TX'] = temp['snap_TX'].apply(lambda x: \"No Snap\" if x==0 else \"Snap\")\n",
    "temp['snap_WI'] = temp['snap_WI'].apply(lambda x: \"No Snap\" if x==0 else \"Snap\")\n",
    "\n",
    "# We are then creating a subplot with 1 row and 3 columns, and giving a title for each subplot.\n",
    "fig = make_subplots(rows=1, cols=3, subplot_titles=('Average Sales on Snap VS Non-Snap days in CA', \\\n",
    "                                                    'Average Sales on Snap VS Non-Snap days in TX', \\\n",
    "                                                    'Average Sales on Snap VS Non-Snap days in WI'))\n",
    "\n",
    "\"\"\"We are then grouping with snap feature for every state and taking it's mean to give avg. sale of every product for snap and no snap days, \n",
    "hence taking mean again to get the avg. sales on total during the snap and non-snap days. Then from the mean value we are computing it's percent of sales.\n",
    "Then we are creating a bar plot and adding it to the fig for all the states.\"\"\"\n",
    "\n",
    "temp1 = temp.groupby('snap_CA').mean().mean(axis=1).sort_values()\n",
    "y = [np.round(i/temp1.sum()*100, 2) for i in temp1.values]\n",
    "\n",
    "# We are passing name parameter with empty string to remove hover which says the trance number.\n",
    "fig.add_trace(go.Bar(x=temp1.index, y=y, text=y, name = \"\", marker=dict(color=[1,2])))\n",
    "\n",
    "temp1 = temp.groupby('snap_TX').mean().mean(axis=1).sort_values()\n",
    "y = [np.round(i/temp1.sum()*100, 2) for i in temp1.values]\n",
    "\n",
    "fig.add_trace(go.Bar(x=temp1.index, y=y, text=y,name = \"\", marker=dict(color=['red', 'green'])), 1,2)\n",
    "\n",
    "temp1 = temp.groupby('snap_WI').mean().mean(axis=1).sort_values()\n",
    "y = [np.round(i/temp1.sum()*100, 2) for i in temp1.values]\n",
    "\n",
    "fig.add_trace(go.Bar(x=temp1.index, y=y, text=y, name = \"\", marker=dict(color=['gold','silver'])),1,3)\n",
    "\n",
    "fig.update_traces(hovertemplate='Total Sales: %{y}',textposition='outside')\n",
    "fig.update_layout(showlegend=False, title_text=\"Sales comparison on Snap VS Non-Snap Days\", title_x=0.5, width =1300)\n",
    "\n"
   ]
  },
  {
   "cell_type": "markdown",
   "metadata": {},
   "source": [
    "Observation:\n",
    "\n",
    "Clearly the sales on all the states during the Snap days are high than Non-Snap days, but the difference is not bit.\n",
    "All the states have almost same amount of sales when on Snap or Non-Snap days."
   ]
  },
  {
   "cell_type": "code",
   "execution_count": 459,
   "metadata": {},
   "outputs": [],
   "source": [
    "temp= sales[['month','year','total_sales']]"
   ]
  },
  {
   "cell_type": "code",
   "execution_count": 463,
   "metadata": {},
   "outputs": [
    {
     "data": {
      "text/plain": [
       "Index(['2011-01-29', '2011-01-30', '2011-01-31', '2011-02-01', '2011-02-02',\n",
       "       '2011-02-03', '2011-02-04', '2011-02-05', '2011-02-06', '2011-02-07',\n",
       "       ...\n",
       "       '2016-05-13', '2016-05-14', '2016-05-15', '2016-05-16', '2016-05-17',\n",
       "       '2016-05-18', '2016-05-19', '2016-05-20', '2016-05-21', '2016-05-22'],\n",
       "      dtype='object', name='date', length=1941)"
      ]
     },
     "execution_count": 463,
     "metadata": {},
     "output_type": "execute_result"
    }
   ],
   "source": [
    "sales.index"
   ]
  },
  {
   "cell_type": "code",
   "execution_count": 469,
   "metadata": {
    "scrolled": true
   },
   "outputs": [],
   "source": [
    "import calendar"
   ]
  },
  {
   "cell_type": "code",
   "execution_count": 472,
   "metadata": {},
   "outputs": [
    {
     "data": {
      "text/plain": [
       "date\n",
       "2011-01-29    1\n",
       "2011-01-30    1\n",
       "2011-01-31    1\n",
       "2011-02-01    2\n",
       "2011-02-02    2\n",
       "             ..\n",
       "2016-05-18    5\n",
       "2016-05-19    5\n",
       "2016-05-20    5\n",
       "2016-05-21    5\n",
       "2016-05-22    5\n",
       "Name: month, Length: 1941, dtype: int64"
      ]
     },
     "execution_count": 472,
     "metadata": {},
     "output_type": "execute_result"
    }
   ],
   "source": [
    "sales.month"
   ]
  },
  {
   "cell_type": "code",
   "execution_count": 471,
   "metadata": {},
   "outputs": [
    {
     "ename": "TypeError",
     "evalue": "list indices must be integers or slices, not Series",
     "output_type": "error",
     "traceback": [
      "\u001b[1;31m---------------------------------------------------------------------------\u001b[0m",
      "\u001b[1;31mTypeError\u001b[0m                                 Traceback (most recent call last)",
      "\u001b[1;32m<ipython-input-471-0699a2056cc4>\u001b[0m in \u001b[0;36m<module>\u001b[1;34m\u001b[0m\n\u001b[1;32m----> 1\u001b[1;33m \u001b[0mcalendar\u001b[0m\u001b[1;33m.\u001b[0m\u001b[0mmonth_name\u001b[0m\u001b[1;33m[\u001b[0m\u001b[0msales\u001b[0m\u001b[1;33m.\u001b[0m\u001b[0mmonth\u001b[0m\u001b[1;33m]\u001b[0m\u001b[1;33m\u001b[0m\u001b[1;33m\u001b[0m\u001b[0m\n\u001b[0m",
      "\u001b[1;32m~\\anaconda3\\lib\\calendar.py\u001b[0m in \u001b[0;36m__getitem__\u001b[1;34m(self, i)\u001b[0m\n\u001b[0;32m     57\u001b[0m \u001b[1;33m\u001b[0m\u001b[0m\n\u001b[0;32m     58\u001b[0m     \u001b[1;32mdef\u001b[0m \u001b[0m__getitem__\u001b[0m\u001b[1;33m(\u001b[0m\u001b[0mself\u001b[0m\u001b[1;33m,\u001b[0m \u001b[0mi\u001b[0m\u001b[1;33m)\u001b[0m\u001b[1;33m:\u001b[0m\u001b[1;33m\u001b[0m\u001b[1;33m\u001b[0m\u001b[0m\n\u001b[1;32m---> 59\u001b[1;33m         \u001b[0mfuncs\u001b[0m \u001b[1;33m=\u001b[0m \u001b[0mself\u001b[0m\u001b[1;33m.\u001b[0m\u001b[0m_months\u001b[0m\u001b[1;33m[\u001b[0m\u001b[0mi\u001b[0m\u001b[1;33m]\u001b[0m\u001b[1;33m\u001b[0m\u001b[1;33m\u001b[0m\u001b[0m\n\u001b[0m\u001b[0;32m     60\u001b[0m         \u001b[1;32mif\u001b[0m \u001b[0misinstance\u001b[0m\u001b[1;33m(\u001b[0m\u001b[0mi\u001b[0m\u001b[1;33m,\u001b[0m \u001b[0mslice\u001b[0m\u001b[1;33m)\u001b[0m\u001b[1;33m:\u001b[0m\u001b[1;33m\u001b[0m\u001b[1;33m\u001b[0m\u001b[0m\n\u001b[0;32m     61\u001b[0m             \u001b[1;32mreturn\u001b[0m \u001b[1;33m[\u001b[0m\u001b[0mf\u001b[0m\u001b[1;33m(\u001b[0m\u001b[0mself\u001b[0m\u001b[1;33m.\u001b[0m\u001b[0mformat\u001b[0m\u001b[1;33m)\u001b[0m \u001b[1;32mfor\u001b[0m \u001b[0mf\u001b[0m \u001b[1;32min\u001b[0m \u001b[0mfuncs\u001b[0m\u001b[1;33m]\u001b[0m\u001b[1;33m\u001b[0m\u001b[1;33m\u001b[0m\u001b[0m\n",
      "\u001b[1;31mTypeError\u001b[0m: list indices must be integers or slices, not Series"
     ]
    }
   ],
   "source": [
    "calendar.month_name[sales.month]"
   ]
  },
  {
   "cell_type": "code",
   "execution_count": 468,
   "metadata": {},
   "outputs": [
    {
     "data": {
      "text/plain": [
       "month            int64\n",
       "year             int64\n",
       "total_sales    float64\n",
       "Month           object\n",
       "dtype: object"
      ]
     },
     "execution_count": 468,
     "metadata": {},
     "output_type": "execute_result"
    }
   ],
   "source": [
    "temp.dtypes"
   ]
  },
  {
   "cell_type": "code",
   "execution_count": 447,
   "metadata": {},
   "outputs": [
    {
     "ename": "AttributeError",
     "evalue": "'Index' object has no attribute 'dt'",
     "output_type": "error",
     "traceback": [
      "\u001b[1;31m---------------------------------------------------------------------------\u001b[0m",
      "\u001b[1;31mAttributeError\u001b[0m                            Traceback (most recent call last)",
      "\u001b[1;32m<ipython-input-447-d017261d6850>\u001b[0m in \u001b[0;36m<module>\u001b[1;34m\u001b[0m\n\u001b[0;32m      1\u001b[0m \u001b[1;31m# We are generating month names based on the date provided\u001b[0m\u001b[1;33m\u001b[0m\u001b[1;33m\u001b[0m\u001b[1;33m\u001b[0m\u001b[0m\n\u001b[1;32m----> 2\u001b[1;33m \u001b[0msales\u001b[0m\u001b[1;33m[\u001b[0m\u001b[1;34m'Month'\u001b[0m\u001b[1;33m]\u001b[0m \u001b[1;33m=\u001b[0m \u001b[0msales\u001b[0m\u001b[1;33m.\u001b[0m\u001b[0mindex\u001b[0m\u001b[1;33m.\u001b[0m\u001b[0mdt\u001b[0m\u001b[1;33m.\u001b[0m\u001b[0mstrftime\u001b[0m\u001b[1;33m(\u001b[0m\u001b[1;34m'%B'\u001b[0m\u001b[1;33m)\u001b[0m\u001b[1;33m\u001b[0m\u001b[1;33m\u001b[0m\u001b[0m\n\u001b[0m\u001b[0;32m      3\u001b[0m \u001b[1;33m\u001b[0m\u001b[0m\n\u001b[0;32m      4\u001b[0m \u001b[1;31m# We are picking only the days column from sales csv, transposing it then summing it up, such that now total sales on a day is produced.\u001b[0m\u001b[1;33m\u001b[0m\u001b[1;33m\u001b[0m\u001b[1;33m\u001b[0m\u001b[0m\n\u001b[0;32m      5\u001b[0m \u001b[1;31m#c = sales[days].T.sum(axis=1)\u001b[0m\u001b[1;33m\u001b[0m\u001b[1;33m\u001b[0m\u001b[1;33m\u001b[0m\u001b[0m\n",
      "\u001b[1;31mAttributeError\u001b[0m: 'Index' object has no attribute 'dt'"
     ]
    }
   ],
   "source": [
    "# We are generating month names based on the date provided\n",
    "sales['Month'] = sales.index.dt.strftime('%B')\n",
    "\n",
    "# We are picking only the days column from sales csv, transposing it then summing it up, such that now total sales on a day is produced.\n",
    "#c = sales[days].T.sum(axis=1)\n",
    "# We are then converting it into a DataFrame, so that we can merge it with other DataFrames later\n",
    "#c = sales['total_sales']\n",
    "\n",
    "# we are picking the features Month,d and year from the cal csv till 1941 rows.\n",
    "#d = cal[['Month','d','year']][:1942]\n",
    "\n",
    "# We are then merging both c and d for our analysis\n",
    "temp = sales[['Month','year','total_sales']]\n",
    "\n",
    "# Now before summing up the sales on every month we are grouping those with their year and month and then summing it up.\n",
    "temp = temp.groupby(['year','Month']).sum().unstack()\n",
    "\n",
    "# As we have multiple levels of columns, we are dropping column names at level 1\n",
    "temp.columns = temp.columns.droplevel(level=0)\n",
    "\n",
    "# We are then generating date between 2 periods on Yearly start dates.\n",
    "a = pd.date_range(start='2011-01', end=\"2016-06\", freq = 'YS')"
   ]
  },
  {
   "cell_type": "code",
   "execution_count": 363,
   "metadata": {},
   "outputs": [
    {
     "ename": "KeyError",
     "evalue": "\"None of ['d'] are in the columns\"",
     "output_type": "error",
     "traceback": [
      "\u001b[1;31m---------------------------------------------------------------------------\u001b[0m",
      "\u001b[1;31mKeyError\u001b[0m                                  Traceback (most recent call last)",
      "\u001b[1;32m<ipython-input-363-9844c290fba3>\u001b[0m in \u001b[0;36m<module>\u001b[1;34m\u001b[0m\n\u001b[0;32m      6\u001b[0m \u001b[0md\u001b[0m \u001b[1;33m=\u001b[0m \u001b[0msales\u001b[0m\u001b[1;33m[\u001b[0m\u001b[1;33m[\u001b[0m\u001b[1;34m'event_type_1'\u001b[0m\u001b[1;33m,\u001b[0m\u001b[1;34m'd'\u001b[0m\u001b[1;33m,\u001b[0m \u001b[1;34m'total_sales'\u001b[0m\u001b[1;33m]\u001b[0m\u001b[1;33m]\u001b[0m\u001b[1;33m\u001b[0m\u001b[1;33m\u001b[0m\u001b[0m\n\u001b[0;32m      7\u001b[0m \u001b[1;31m#temp = c.merge(d,left_index=True, right_on='d')\u001b[0m\u001b[1;33m\u001b[0m\u001b[1;33m\u001b[0m\u001b[1;33m\u001b[0m\u001b[0m\n\u001b[1;32m----> 8\u001b[1;33m \u001b[0mtemp\u001b[0m\u001b[1;33m.\u001b[0m\u001b[0mset_index\u001b[0m\u001b[1;33m(\u001b[0m\u001b[1;34m'd'\u001b[0m\u001b[1;33m,\u001b[0m \u001b[0minplace\u001b[0m\u001b[1;33m=\u001b[0m\u001b[1;32mTrue\u001b[0m\u001b[1;33m)\u001b[0m\u001b[1;33m\u001b[0m\u001b[1;33m\u001b[0m\u001b[0m\n\u001b[0m\u001b[0;32m      9\u001b[0m \u001b[0mtemp\u001b[0m \u001b[1;33m=\u001b[0m \u001b[0mtemp\u001b[0m\u001b[1;33m.\u001b[0m\u001b[0mgroupby\u001b[0m\u001b[1;33m(\u001b[0m\u001b[1;34m'event_type_1'\u001b[0m\u001b[1;33m)\u001b[0m\u001b[1;33m.\u001b[0m\u001b[0mmean\u001b[0m\u001b[1;33m(\u001b[0m\u001b[1;33m)\u001b[0m\u001b[1;33m.\u001b[0m\u001b[0mmean\u001b[0m\u001b[1;33m(\u001b[0m\u001b[0maxis\u001b[0m\u001b[1;33m=\u001b[0m\u001b[1;36m1\u001b[0m\u001b[1;33m)\u001b[0m\u001b[1;33m.\u001b[0m\u001b[0msort_values\u001b[0m\u001b[1;33m(\u001b[0m\u001b[1;33m)\u001b[0m\u001b[1;33m\u001b[0m\u001b[1;33m\u001b[0m\u001b[0m\n\u001b[0;32m     10\u001b[0m \u001b[0my\u001b[0m \u001b[1;33m=\u001b[0m \u001b[1;33m[\u001b[0m\u001b[0mstr\u001b[0m\u001b[1;33m(\u001b[0m\u001b[0mnp\u001b[0m\u001b[1;33m.\u001b[0m\u001b[0mround\u001b[0m\u001b[1;33m(\u001b[0m\u001b[0mi\u001b[0m\u001b[1;33m/\u001b[0m\u001b[0mtemp\u001b[0m\u001b[1;33m.\u001b[0m\u001b[0msum\u001b[0m\u001b[1;33m(\u001b[0m\u001b[1;33m)\u001b[0m\u001b[1;33m*\u001b[0m\u001b[1;36m100\u001b[0m\u001b[1;33m,\u001b[0m \u001b[1;36m2\u001b[0m\u001b[1;33m)\u001b[0m\u001b[1;33m)\u001b[0m\u001b[1;33m+\u001b[0m\u001b[1;34m'%'\u001b[0m \u001b[1;32mfor\u001b[0m \u001b[0mi\u001b[0m \u001b[1;32min\u001b[0m \u001b[0mtemp\u001b[0m\u001b[1;33m.\u001b[0m\u001b[0mvalues\u001b[0m\u001b[1;33m]\u001b[0m\u001b[1;33m\u001b[0m\u001b[1;33m\u001b[0m\u001b[0m\n",
      "\u001b[1;32m~\\anaconda3\\lib\\site-packages\\pandas\\core\\frame.py\u001b[0m in \u001b[0;36mset_index\u001b[1;34m(self, keys, drop, append, inplace, verify_integrity)\u001b[0m\n\u001b[0;32m   4722\u001b[0m \u001b[1;33m\u001b[0m\u001b[0m\n\u001b[0;32m   4723\u001b[0m         \u001b[1;32mif\u001b[0m \u001b[0mmissing\u001b[0m\u001b[1;33m:\u001b[0m\u001b[1;33m\u001b[0m\u001b[1;33m\u001b[0m\u001b[0m\n\u001b[1;32m-> 4724\u001b[1;33m             \u001b[1;32mraise\u001b[0m \u001b[0mKeyError\u001b[0m\u001b[1;33m(\u001b[0m\u001b[1;34mf\"None of {missing} are in the columns\"\u001b[0m\u001b[1;33m)\u001b[0m\u001b[1;33m\u001b[0m\u001b[1;33m\u001b[0m\u001b[0m\n\u001b[0m\u001b[0;32m   4725\u001b[0m \u001b[1;33m\u001b[0m\u001b[0m\n\u001b[0;32m   4726\u001b[0m         \u001b[1;32mif\u001b[0m \u001b[0minplace\u001b[0m\u001b[1;33m:\u001b[0m\u001b[1;33m\u001b[0m\u001b[1;33m\u001b[0m\u001b[0m\n",
      "\u001b[1;31mKeyError\u001b[0m: \"None of ['d'] are in the columns\""
     ]
    }
   ],
   "source": [
    "\"\"\"We are picking the features event_type_1 and d from the cal csv then merging it with c and setting the index to be d and grouping it by event_type_1 \n",
    "and taking a mean of it which gives the avg. sale of every product, we are again taking mean, this gives the avg. sale of total products on a weekday \n",
    "and then sorting by it's increasing order. We are taking average here because the days with no events are very high than days with events, hence summing \n",
    "those values will be improper.\"\"\"\n",
    "\n",
    "d = sales[['event_type_1','d', 'total_sales']]\n",
    "#temp = c.merge(d,left_index=True, right_on='d')\n",
    "temp.set_index('d', inplace=True)\n",
    "temp = temp.groupby('event_type_1').mean().mean(axis=1).sort_values()\n",
    "y = [str(np.round(i/temp.sum()*100, 2))+'%' for i in temp.values]"
   ]
  },
  {
   "cell_type": "code",
   "execution_count": 364,
   "metadata": {},
   "outputs": [
    {
     "data": {
      "text/html": [
       "<div>\n",
       "<style scoped>\n",
       "    .dataframe tbody tr th:only-of-type {\n",
       "        vertical-align: middle;\n",
       "    }\n",
       "\n",
       "    .dataframe tbody tr th {\n",
       "        vertical-align: top;\n",
       "    }\n",
       "\n",
       "    .dataframe thead th {\n",
       "        text-align: right;\n",
       "    }\n",
       "</style>\n",
       "<table border=\"1\" class=\"dataframe\">\n",
       "  <thead>\n",
       "    <tr style=\"text-align: right;\">\n",
       "      <th></th>\n",
       "      <th>event_type_1</th>\n",
       "      <th>d</th>\n",
       "      <th>total_sales</th>\n",
       "    </tr>\n",
       "    <tr>\n",
       "      <th>date</th>\n",
       "      <th></th>\n",
       "      <th></th>\n",
       "      <th></th>\n",
       "    </tr>\n",
       "  </thead>\n",
       "  <tbody>\n",
       "    <tr>\n",
       "      <th>2011-01-29</th>\n",
       "      <td>NaN</td>\n",
       "      <td>d_1</td>\n",
       "      <td>32631.0</td>\n",
       "    </tr>\n",
       "    <tr>\n",
       "      <th>2011-01-30</th>\n",
       "      <td>NaN</td>\n",
       "      <td>d_2</td>\n",
       "      <td>31749.0</td>\n",
       "    </tr>\n",
       "    <tr>\n",
       "      <th>2011-01-31</th>\n",
       "      <td>NaN</td>\n",
       "      <td>d_3</td>\n",
       "      <td>23783.0</td>\n",
       "    </tr>\n",
       "    <tr>\n",
       "      <th>2011-02-01</th>\n",
       "      <td>NaN</td>\n",
       "      <td>d_4</td>\n",
       "      <td>25412.0</td>\n",
       "    </tr>\n",
       "    <tr>\n",
       "      <th>2011-02-02</th>\n",
       "      <td>NaN</td>\n",
       "      <td>d_5</td>\n",
       "      <td>19146.0</td>\n",
       "    </tr>\n",
       "    <tr>\n",
       "      <th>...</th>\n",
       "      <td>...</td>\n",
       "      <td>...</td>\n",
       "      <td>...</td>\n",
       "    </tr>\n",
       "    <tr>\n",
       "      <th>2016-05-18</th>\n",
       "      <td>NaN</td>\n",
       "      <td>d_1937</td>\n",
       "      <td>37096.0</td>\n",
       "    </tr>\n",
       "    <tr>\n",
       "      <th>2016-05-19</th>\n",
       "      <td>NaN</td>\n",
       "      <td>d_1938</td>\n",
       "      <td>36963.0</td>\n",
       "    </tr>\n",
       "    <tr>\n",
       "      <th>2016-05-20</th>\n",
       "      <td>NaN</td>\n",
       "      <td>d_1939</td>\n",
       "      <td>42552.0</td>\n",
       "    </tr>\n",
       "    <tr>\n",
       "      <th>2016-05-21</th>\n",
       "      <td>NaN</td>\n",
       "      <td>d_1940</td>\n",
       "      <td>51518.0</td>\n",
       "    </tr>\n",
       "    <tr>\n",
       "      <th>2016-05-22</th>\n",
       "      <td>NaN</td>\n",
       "      <td>d_1941</td>\n",
       "      <td>54338.0</td>\n",
       "    </tr>\n",
       "  </tbody>\n",
       "</table>\n",
       "<p>1941 rows × 3 columns</p>\n",
       "</div>"
      ],
      "text/plain": [
       "           event_type_1       d  total_sales\n",
       "date                                        \n",
       "2011-01-29          NaN     d_1      32631.0\n",
       "2011-01-30          NaN     d_2      31749.0\n",
       "2011-01-31          NaN     d_3      23783.0\n",
       "2011-02-01          NaN     d_4      25412.0\n",
       "2011-02-02          NaN     d_5      19146.0\n",
       "...                 ...     ...          ...\n",
       "2016-05-18          NaN  d_1937      37096.0\n",
       "2016-05-19          NaN  d_1938      36963.0\n",
       "2016-05-20          NaN  d_1939      42552.0\n",
       "2016-05-21          NaN  d_1940      51518.0\n",
       "2016-05-22          NaN  d_1941      54338.0\n",
       "\n",
       "[1941 rows x 3 columns]"
      ]
     },
     "execution_count": 364,
     "metadata": {},
     "output_type": "execute_result"
    }
   ],
   "source": [
    "d"
   ]
  },
  {
   "cell_type": "code",
   "execution_count": 115,
   "metadata": {
    "scrolled": true
   },
   "outputs": [
    {
     "name": "stderr",
     "output_type": "stream",
     "text": [
      "<ipython-input-115-05212b080b7c>:6: SettingWithCopyWarning: \n",
      "A value is trying to be set on a copy of a slice from a DataFrame.\n",
      "Try using .loc[row_indexer,col_indexer] = value instead\n",
      "\n",
      "See the caveats in the documentation: https://pandas.pydata.org/pandas-docs/stable/user_guide/indexing.html#returning-a-view-versus-a-copy\n",
      "  total_daily_sales_date['total_units_sold_rolling_mean'] = total_daily_sales_date['total_units_sold'] \\\n"
     ]
    },
    {
     "data": {
      "text/html": [
       "<div>\n",
       "<style scoped>\n",
       "    .dataframe tbody tr th:only-of-type {\n",
       "        vertical-align: middle;\n",
       "    }\n",
       "\n",
       "    .dataframe tbody tr th {\n",
       "        vertical-align: top;\n",
       "    }\n",
       "\n",
       "    .dataframe thead th {\n",
       "        text-align: right;\n",
       "    }\n",
       "</style>\n",
       "<table border=\"1\" class=\"dataframe\">\n",
       "  <thead>\n",
       "    <tr style=\"text-align: right;\">\n",
       "      <th></th>\n",
       "      <th>total_units_sold</th>\n",
       "      <th>total_units_sold_rolling_mean</th>\n",
       "    </tr>\n",
       "    <tr>\n",
       "      <th>date</th>\n",
       "      <th></th>\n",
       "      <th></th>\n",
       "    </tr>\n",
       "  </thead>\n",
       "  <tbody>\n",
       "    <tr>\n",
       "      <th>2011-01-29</th>\n",
       "      <td>32631.0</td>\n",
       "      <td>32631.000000</td>\n",
       "    </tr>\n",
       "    <tr>\n",
       "      <th>2011-01-30</th>\n",
       "      <td>31749.0</td>\n",
       "      <td>32190.000000</td>\n",
       "    </tr>\n",
       "    <tr>\n",
       "      <th>2011-01-31</th>\n",
       "      <td>23783.0</td>\n",
       "      <td>29387.666667</td>\n",
       "    </tr>\n",
       "    <tr>\n",
       "      <th>2011-02-01</th>\n",
       "      <td>25412.0</td>\n",
       "      <td>28393.750000</td>\n",
       "    </tr>\n",
       "    <tr>\n",
       "      <th>2011-02-02</th>\n",
       "      <td>19146.0</td>\n",
       "      <td>26544.200000</td>\n",
       "    </tr>\n",
       "    <tr>\n",
       "      <th>...</th>\n",
       "      <td>...</td>\n",
       "      <td>...</td>\n",
       "    </tr>\n",
       "    <tr>\n",
       "      <th>2016-05-18</th>\n",
       "      <td>37096.0</td>\n",
       "      <td>43202.420000</td>\n",
       "    </tr>\n",
       "    <tr>\n",
       "      <th>2016-05-19</th>\n",
       "      <td>36963.0</td>\n",
       "      <td>43294.500000</td>\n",
       "    </tr>\n",
       "    <tr>\n",
       "      <th>2016-05-20</th>\n",
       "      <td>42552.0</td>\n",
       "      <td>43451.920000</td>\n",
       "    </tr>\n",
       "    <tr>\n",
       "      <th>2016-05-21</th>\n",
       "      <td>51518.0</td>\n",
       "      <td>43571.560000</td>\n",
       "    </tr>\n",
       "    <tr>\n",
       "      <th>2016-05-22</th>\n",
       "      <td>54338.0</td>\n",
       "      <td>43604.880000</td>\n",
       "    </tr>\n",
       "  </tbody>\n",
       "</table>\n",
       "<p>1941 rows × 2 columns</p>\n",
       "</div>"
      ],
      "text/plain": [
       "            total_units_sold  total_units_sold_rolling_mean\n",
       "date                                                       \n",
       "2011-01-29           32631.0                   32631.000000\n",
       "2011-01-30           31749.0                   32190.000000\n",
       "2011-01-31           23783.0                   29387.666667\n",
       "2011-02-01           25412.0                   28393.750000\n",
       "2011-02-02           19146.0                   26544.200000\n",
       "...                      ...                            ...\n",
       "2016-05-18           37096.0                   43202.420000\n",
       "2016-05-19           36963.0                   43294.500000\n",
       "2016-05-20           42552.0                   43451.920000\n",
       "2016-05-21           51518.0                   43571.560000\n",
       "2016-05-22           54338.0                   43604.880000\n",
       "\n",
       "[1941 rows x 2 columns]"
      ]
     },
     "execution_count": 115,
     "metadata": {},
     "output_type": "execute_result"
    }
   ],
   "source": [
    "total_daily_sales_date = sales[['total_sales']]\n",
    "total_daily_sales_date.index=sales.index\n",
    "\n",
    "# rename columns\n",
    "total_daily_sales_date.columns = ['total_units_sold']\n",
    "total_daily_sales_date['total_units_sold_rolling_mean'] = total_daily_sales_date['total_units_sold'] \\\n",
    "                                .rolling(50, min_periods=1).mean()\n",
    "total_daily_sales_date"
   ]
  },
  {
   "cell_type": "code",
   "execution_count": 120,
   "metadata": {
    "scrolled": true
   },
   "outputs": [
    {
     "data": {
      "text/plain": [
       "Text(0, 0.5, 'Rolling mean of units sold')"
      ]
     },
     "execution_count": 120,
     "metadata": {},
     "output_type": "execute_result"
    },
    {
     "data": {
      "image/png": "[encoded data removed]",
      "text/plain": [
       "<Figure size 1296x576 with 1 Axes>"
      ]
     },
     "metadata": {},
     "output_type": "display_data"
    }
   ],
   "source": [
    "import matplotlib.dates as mdates\n",
    "# figure = plt.figure(figsize=(18,8))\n",
    "# plt.plot(total_daily_sales_date.index, total_daily_sales_date.iloc[:,1])\n",
    "# plt.xlabel('Day number')\n",
    "# plt.ylabel('Rolling mean of units sold')\n",
    "\n",
    "figure = plt.figure(figsize=(18,8))\n",
    "ax = plt.subplot(1,1,1)\n",
    "plt.plot(total_daily_sales_date.index, total_daily_sales_date.iloc[:,0])\n",
    "ax.xaxis.set_major_locator(mdates.DayLocator(interval=50))\n",
    "ax.xaxis.set_major_formatter(mdates.DateFormatter('%Y-%m-%d'))\n",
    "plt.xticks(rotation=90)\n",
    "plt.xlabel('Date')\n",
    "plt.ylabel('Rolling mean of units sold')"
   ]
  },
  {
   "cell_type": "code",
   "execution_count": 121,
   "metadata": {},
   "outputs": [
    {
     "data": {
      "text/plain": [
       "Text(0, 0.5, 'Rolling mean of units sold')"
      ]
     },
     "execution_count": 121,
     "metadata": {},
     "output_type": "execute_result"
    },
    {
     "data": {
      "image/png": "[encoded data removed]",
      "text/plain": [
       "<Figure size 1296x576 with 1 Axes>"
      ]
     },
     "metadata": {},
     "output_type": "display_data"
    }
   ],
   "source": [
    "figure = plt.figure(figsize=(18,8))\n",
    "ax = plt.subplot(1,1,1)\n",
    "plt.plot(total_daily_sales_date.index, total_daily_sales_date.iloc[:,1])\n",
    "ax.xaxis.set_major_locator(mdates.DayLocator(interval=50))\n",
    "ax.xaxis.set_major_formatter(mdates.DateFormatter('%Y-%m-%d'))\n",
    "plt.xticks(rotation=90)\n",
    "plt.xlabel('Date')\n",
    "plt.ylabel('Rolling mean of units sold')"
   ]
  },
  {
   "cell_type": "code",
   "execution_count": 33,
   "metadata": {
    "scrolled": false
   },
   "outputs": [
    {
     "data": {
      "image/png": "[encoded data removed]",
      "text/plain": [
       "<Figure size 1080x360 with 2 Axes>"
      ]
     },
     "metadata": {
      "needs_background": "light"
     },
     "output_type": "display_data"
    }
   ],
   "source": [
    "plt.figure(figsize=(15,5))\n",
    "sns.heatmap(sales.corr(),annot=True,);"
   ]
  },
  {
   "cell_type": "code",
   "execution_count": 41,
   "metadata": {
    "scrolled": true
   },
   "outputs": [
    {
     "data": {
      "text/html": [
       "<div>\n",
       "<style scoped>\n",
       "    .dataframe tbody tr th:only-of-type {\n",
       "        vertical-align: middle;\n",
       "    }\n",
       "\n",
       "    .dataframe tbody tr th {\n",
       "        vertical-align: top;\n",
       "    }\n",
       "\n",
       "    .dataframe thead th {\n",
       "        text-align: right;\n",
       "    }\n",
       "</style>\n",
       "<table border=\"1\" class=\"dataframe\">\n",
       "  <thead>\n",
       "    <tr style=\"text-align: right;\">\n",
       "      <th></th>\n",
       "      <th>weekday</th>\n",
       "      <th>avg_units_sold</th>\n",
       "    </tr>\n",
       "  </thead>\n",
       "  <tbody>\n",
       "    <tr>\n",
       "      <th>0</th>\n",
       "      <td>Friday</td>\n",
       "      <td>34357.472924</td>\n",
       "    </tr>\n",
       "    <tr>\n",
       "      <th>1</th>\n",
       "      <td>Monday</td>\n",
       "      <td>32994.931408</td>\n",
       "    </tr>\n",
       "    <tr>\n",
       "      <th>2</th>\n",
       "      <td>Saturday</td>\n",
       "      <td>41706.269784</td>\n",
       "    </tr>\n",
       "    <tr>\n",
       "      <th>3</th>\n",
       "      <td>Sunday</td>\n",
       "      <td>41304.050360</td>\n",
       "    </tr>\n",
       "    <tr>\n",
       "      <th>4</th>\n",
       "      <td>Thursday</td>\n",
       "      <td>30321.039711</td>\n",
       "    </tr>\n",
       "    <tr>\n",
       "      <th>5</th>\n",
       "      <td>Tuesday</td>\n",
       "      <td>30500.483755</td>\n",
       "    </tr>\n",
       "    <tr>\n",
       "      <th>6</th>\n",
       "      <td>Wednesday</td>\n",
       "      <td>30130.418773</td>\n",
       "    </tr>\n",
       "  </tbody>\n",
       "</table>\n",
       "</div>"
      ],
      "text/plain": [
       "     weekday  avg_units_sold\n",
       "0     Friday    34357.472924\n",
       "1     Monday    32994.931408\n",
       "2   Saturday    41706.269784\n",
       "3     Sunday    41304.050360\n",
       "4   Thursday    30321.039711\n",
       "5    Tuesday    30500.483755\n",
       "6  Wednesday    30130.418773"
      ]
     },
     "execution_count": 41,
     "metadata": {},
     "output_type": "execute_result"
    }
   ],
   "source": [
    "# avg daily units sold per day of the week\n",
    "sales['day_number'] = sales['d'].apply(lambda x: int(x[2:]))\n",
    "avg_weekday_sales_days = sales[['weekday', 'day_number', 'total_sales']] \\\n",
    "                            .groupby('weekday') \\\n",
    "                            .apply(lambda x: x['total_sales'].sum() / x['day_number'].nunique()).reset_index()\n",
    "\n",
    "\n",
    "# rename columns\n",
    "avg_weekday_sales_days.columns = ['weekday', 'avg_units_sold']\n",
    "\n",
    "avg_weekday_sales_days\n"
   ]
  },
  {
   "cell_type": "code",
   "execution_count": 42,
   "metadata": {
    "scrolled": true
   },
   "outputs": [
    {
     "data": {
      "image/png": "[encoded data removed]",
      "text/plain": [
       "<Figure size 864x576 with 1 Axes>"
      ]
     },
     "metadata": {
      "needs_background": "light"
     },
     "output_type": "display_data"
    }
   ],
   "source": [
    "figure = plt.figure(figsize=(12,8))\n",
    "ax = sns.barplot(x=\"weekday\", y=\"avg_units_sold\", data=avg_weekday_sales_days, \n",
    "                 order=[\"Monday\", \"Tuesday\", \"Wednesday\", \"Thursday\", \"Friday\", \"Saturday\", \"Sunday\"])\n",
    "ax.set(xlabel=\"Day of the week\", ylabel = \"Average Units Sold\")\n",
    "for item in ax.get_xticklabels():\n",
    "    item.set_rotation(90)"
   ]
  },
  {
   "cell_type": "code",
   "execution_count": 97,
   "metadata": {
    "scrolled": true
   },
   "outputs": [
    {
     "data": {
      "text/html": [
       "<div>\n",
       "<style scoped>\n",
       "    .dataframe tbody tr th:only-of-type {\n",
       "        vertical-align: middle;\n",
       "    }\n",
       "\n",
       "    .dataframe tbody tr th {\n",
       "        vertical-align: top;\n",
       "    }\n",
       "\n",
       "    .dataframe thead th {\n",
       "        text-align: right;\n",
       "    }\n",
       "</style>\n",
       "<table border=\"1\" class=\"dataframe\">\n",
       "  <thead>\n",
       "    <tr style=\"text-align: right;\">\n",
       "      <th></th>\n",
       "      <th>month</th>\n",
       "      <th>avg_units_sold</th>\n",
       "    </tr>\n",
       "  </thead>\n",
       "  <tbody>\n",
       "    <tr>\n",
       "      <th>0</th>\n",
       "      <td>1</td>\n",
       "      <td>33832.348101</td>\n",
       "    </tr>\n",
       "    <tr>\n",
       "      <th>1</th>\n",
       "      <td>2</td>\n",
       "      <td>34644.641176</td>\n",
       "    </tr>\n",
       "    <tr>\n",
       "      <th>2</th>\n",
       "      <td>3</td>\n",
       "      <td>34339.838710</td>\n",
       "    </tr>\n",
       "    <tr>\n",
       "      <th>3</th>\n",
       "      <td>4</td>\n",
       "      <td>34432.183333</td>\n",
       "    </tr>\n",
       "    <tr>\n",
       "      <th>4</th>\n",
       "      <td>5</td>\n",
       "      <td>34085.192090</td>\n",
       "    </tr>\n",
       "    <tr>\n",
       "      <th>5</th>\n",
       "      <td>6</td>\n",
       "      <td>35001.413333</td>\n",
       "    </tr>\n",
       "    <tr>\n",
       "      <th>6</th>\n",
       "      <td>7</td>\n",
       "      <td>35122.419355</td>\n",
       "    </tr>\n",
       "    <tr>\n",
       "      <th>7</th>\n",
       "      <td>8</td>\n",
       "      <td>35946.645161</td>\n",
       "    </tr>\n",
       "    <tr>\n",
       "      <th>8</th>\n",
       "      <td>9</td>\n",
       "      <td>35479.260000</td>\n",
       "    </tr>\n",
       "    <tr>\n",
       "      <th>9</th>\n",
       "      <td>10</td>\n",
       "      <td>34713.477419</td>\n",
       "    </tr>\n",
       "    <tr>\n",
       "      <th>10</th>\n",
       "      <td>11</td>\n",
       "      <td>33290.826667</td>\n",
       "    </tr>\n",
       "    <tr>\n",
       "      <th>11</th>\n",
       "      <td>12</td>\n",
       "      <td>32980.464516</td>\n",
       "    </tr>\n",
       "  </tbody>\n",
       "</table>\n",
       "</div>"
      ],
      "text/plain": [
       "    month  avg_units_sold\n",
       "0       1    33832.348101\n",
       "1       2    34644.641176\n",
       "2       3    34339.838710\n",
       "3       4    34432.183333\n",
       "4       5    34085.192090\n",
       "5       6    35001.413333\n",
       "6       7    35122.419355\n",
       "7       8    35946.645161\n",
       "8       9    35479.260000\n",
       "9      10    34713.477419\n",
       "10     11    33290.826667\n",
       "11     12    32980.464516"
      ]
     },
     "execution_count": 97,
     "metadata": {},
     "output_type": "execute_result"
    }
   ],
   "source": [
    "# avg daily units sold per day of the week\n",
    "avg_monthly_sales = sales[['month', 'day_number', 'total_sales']] \\\n",
    "                            .groupby('month') \\\n",
    "                            .apply(lambda x: x['total_sales'].sum() / x['day_number'].nunique()).reset_index()\n",
    "\n",
    "\n",
    "# rename columns\n",
    "avg_monthly_sales.columns = ['month', 'avg_units_sold']\n",
    "\n",
    "avg_monthly_sales"
   ]
  },
  {
   "cell_type": "code",
   "execution_count": 98,
   "metadata": {},
   "outputs": [
    {
     "data": {
      "image/png": "[encoded data removed]",
      "text/plain": [
       "<Figure size 864x576 with 1 Axes>"
      ]
     },
     "metadata": {},
     "output_type": "display_data"
    }
   ],
   "source": [
    "figure = plt.figure(figsize=(12,8))\n",
    "ax = sns.barplot(x=\"month\", y=\"avg_units_sold\", data=avg_monthly_sales)\n",
    "ax.set(xlabel=\"Months of the Year\", ylabel = \"Average Units Sold\")\n",
    "for item in ax.get_xticklabels():\n",
    "    item.set_rotation(90)"
   ]
  },
  {
   "cell_type": "code",
   "execution_count": 99,
   "metadata": {
    "scrolled": true
   },
   "outputs": [
    {
     "data": {
      "text/html": [
       "<div>\n",
       "<style scoped>\n",
       "    .dataframe tbody tr th:only-of-type {\n",
       "        vertical-align: middle;\n",
       "    }\n",
       "\n",
       "    .dataframe tbody tr th {\n",
       "        vertical-align: top;\n",
       "    }\n",
       "\n",
       "    .dataframe thead th {\n",
       "        text-align: right;\n",
       "    }\n",
       "</style>\n",
       "<table border=\"1\" class=\"dataframe\">\n",
       "  <thead>\n",
       "    <tr style=\"text-align: right;\">\n",
       "      <th></th>\n",
       "      <th>year</th>\n",
       "      <th>avg_units_sold</th>\n",
       "    </tr>\n",
       "  </thead>\n",
       "  <tbody>\n",
       "    <tr>\n",
       "      <th>0</th>\n",
       "      <td>2011</td>\n",
       "      <td>26280.667656</td>\n",
       "    </tr>\n",
       "    <tr>\n",
       "      <th>1</th>\n",
       "      <td>2012</td>\n",
       "      <td>32955.838798</td>\n",
       "    </tr>\n",
       "    <tr>\n",
       "      <th>2</th>\n",
       "      <td>2013</td>\n",
       "      <td>35988.364384</td>\n",
       "    </tr>\n",
       "    <tr>\n",
       "      <th>3</th>\n",
       "      <td>2014</td>\n",
       "      <td>35862.400000</td>\n",
       "    </tr>\n",
       "    <tr>\n",
       "      <th>4</th>\n",
       "      <td>2015</td>\n",
       "      <td>37810.441096</td>\n",
       "    </tr>\n",
       "    <tr>\n",
       "      <th>5</th>\n",
       "      <td>2016</td>\n",
       "      <td>41835.041958</td>\n",
       "    </tr>\n",
       "  </tbody>\n",
       "</table>\n",
       "</div>"
      ],
      "text/plain": [
       "   year  avg_units_sold\n",
       "0  2011    26280.667656\n",
       "1  2012    32955.838798\n",
       "2  2013    35988.364384\n",
       "3  2014    35862.400000\n",
       "4  2015    37810.441096\n",
       "5  2016    41835.041958"
      ]
     },
     "execution_count": 99,
     "metadata": {},
     "output_type": "execute_result"
    }
   ],
   "source": [
    "# avg daily units sold per day of the week\n",
    "avg_monthly_sales = sales[['year', 'day_number', 'total_sales']] \\\n",
    "                            .groupby('year') \\\n",
    "                            .apply(lambda x: x['total_sales'].sum() / x['day_number'].nunique()).reset_index()\n",
    "\n",
    "\n",
    "# rename columns\n",
    "avg_monthly_sales.columns = ['year', 'avg_units_sold']\n",
    "\n",
    "avg_monthly_sales"
   ]
  },
  {
   "cell_type": "code",
   "execution_count": 100,
   "metadata": {},
   "outputs": [
    {
     "data": {
      "image/png": "[encoded data removed]",
      "text/plain": [
       "<Figure size 864x576 with 1 Axes>"
      ]
     },
     "metadata": {},
     "output_type": "display_data"
    }
   ],
   "source": [
    "figure = plt.figure(figsize=(12,8))\n",
    "ax = sns.barplot(x=\"year\", y=\"avg_units_sold\", data=avg_monthly_sales)\n",
    "ax.set(xlabel=\"Year of Sales\", ylabel = \"Average Units Sold\")\n",
    "for item in ax.get_xticklabels():\n",
    "    item.set_rotation(90)"
   ]
  },
  {
   "cell_type": "code",
   "execution_count": 52,
   "metadata": {
    "scrolled": true
   },
   "outputs": [
    {
     "name": "stdout",
     "output_type": "stream",
     "text": [
      "Event days in 2012\n"
     ]
    },
    {
     "data": {
      "text/html": [
       "<div>\n",
       "<style scoped>\n",
       "    .dataframe tbody tr th:only-of-type {\n",
       "        vertical-align: middle;\n",
       "    }\n",
       "\n",
       "    .dataframe tbody tr th {\n",
       "        vertical-align: top;\n",
       "    }\n",
       "\n",
       "    .dataframe thead th {\n",
       "        text-align: right;\n",
       "    }\n",
       "</style>\n",
       "<table border=\"1\" class=\"dataframe\">\n",
       "  <thead>\n",
       "    <tr style=\"text-align: right;\">\n",
       "      <th></th>\n",
       "      <th>total_sales</th>\n",
       "      <th>wm_yr_wk</th>\n",
       "      <th>weekday</th>\n",
       "      <th>wday</th>\n",
       "      <th>month</th>\n",
       "      <th>year</th>\n",
       "      <th>d</th>\n",
       "      <th>event_name_1</th>\n",
       "      <th>event_type_1</th>\n",
       "      <th>event_name_2</th>\n",
       "      <th>event_type_2</th>\n",
       "      <th>snap_CA</th>\n",
       "      <th>snap_TX</th>\n",
       "      <th>snap_WI</th>\n",
       "      <th>day_number</th>\n",
       "    </tr>\n",
       "    <tr>\n",
       "      <th>date</th>\n",
       "      <th></th>\n",
       "      <th></th>\n",
       "      <th></th>\n",
       "      <th></th>\n",
       "      <th></th>\n",
       "      <th></th>\n",
       "      <th></th>\n",
       "      <th></th>\n",
       "      <th></th>\n",
       "      <th></th>\n",
       "      <th></th>\n",
       "      <th></th>\n",
       "      <th></th>\n",
       "      <th></th>\n",
       "      <th></th>\n",
       "    </tr>\n",
       "  </thead>\n",
       "  <tbody>\n",
       "    <tr>\n",
       "      <th>2012-01-01</th>\n",
       "      <td>21807.0</td>\n",
       "      <td>11149</td>\n",
       "      <td>Sunday</td>\n",
       "      <td>2</td>\n",
       "      <td>1</td>\n",
       "      <td>2012</td>\n",
       "      <td>d_338</td>\n",
       "      <td>NewYear</td>\n",
       "      <td>National</td>\n",
       "      <td>NaN</td>\n",
       "      <td>NaN</td>\n",
       "      <td>1</td>\n",
       "      <td>1</td>\n",
       "      <td>0</td>\n",
       "      <td>338</td>\n",
       "    </tr>\n",
       "    <tr>\n",
       "      <th>2012-01-07</th>\n",
       "      <td>37143.0</td>\n",
       "      <td>11150</td>\n",
       "      <td>Saturday</td>\n",
       "      <td>1</td>\n",
       "      <td>1</td>\n",
       "      <td>2012</td>\n",
       "      <td>d_344</td>\n",
       "      <td>OrthodoxChristmas</td>\n",
       "      <td>Religious</td>\n",
       "      <td>NaN</td>\n",
       "      <td>NaN</td>\n",
       "      <td>1</td>\n",
       "      <td>1</td>\n",
       "      <td>0</td>\n",
       "      <td>344</td>\n",
       "    </tr>\n",
       "    <tr>\n",
       "      <th>2012-01-16</th>\n",
       "      <td>30548.0</td>\n",
       "      <td>11151</td>\n",
       "      <td>Monday</td>\n",
       "      <td>3</td>\n",
       "      <td>1</td>\n",
       "      <td>2012</td>\n",
       "      <td>d_353</td>\n",
       "      <td>MartinLutherKingDay</td>\n",
       "      <td>National</td>\n",
       "      <td>NaN</td>\n",
       "      <td>NaN</td>\n",
       "      <td>0</td>\n",
       "      <td>0</td>\n",
       "      <td>0</td>\n",
       "      <td>353</td>\n",
       "    </tr>\n",
       "    <tr>\n",
       "      <th>2012-02-05</th>\n",
       "      <td>40075.0</td>\n",
       "      <td>11202</td>\n",
       "      <td>Sunday</td>\n",
       "      <td>2</td>\n",
       "      <td>2</td>\n",
       "      <td>2012</td>\n",
       "      <td>d_373</td>\n",
       "      <td>SuperBowl</td>\n",
       "      <td>Sporting</td>\n",
       "      <td>NaN</td>\n",
       "      <td>NaN</td>\n",
       "      <td>1</td>\n",
       "      <td>1</td>\n",
       "      <td>1</td>\n",
       "      <td>373</td>\n",
       "    </tr>\n",
       "    <tr>\n",
       "      <th>2012-02-14</th>\n",
       "      <td>25100.0</td>\n",
       "      <td>11203</td>\n",
       "      <td>Tuesday</td>\n",
       "      <td>4</td>\n",
       "      <td>2</td>\n",
       "      <td>2012</td>\n",
       "      <td>d_382</td>\n",
       "      <td>ValentinesDay</td>\n",
       "      <td>Cultural</td>\n",
       "      <td>NaN</td>\n",
       "      <td>NaN</td>\n",
       "      <td>0</td>\n",
       "      <td>0</td>\n",
       "      <td>1</td>\n",
       "      <td>382</td>\n",
       "    </tr>\n",
       "    <tr>\n",
       "      <th>2012-02-20</th>\n",
       "      <td>30218.0</td>\n",
       "      <td>11204</td>\n",
       "      <td>Monday</td>\n",
       "      <td>3</td>\n",
       "      <td>2</td>\n",
       "      <td>2012</td>\n",
       "      <td>d_388</td>\n",
       "      <td>PresidentsDay</td>\n",
       "      <td>National</td>\n",
       "      <td>NaN</td>\n",
       "      <td>NaN</td>\n",
       "      <td>0</td>\n",
       "      <td>0</td>\n",
       "      <td>0</td>\n",
       "      <td>388</td>\n",
       "    </tr>\n",
       "    <tr>\n",
       "      <th>2012-02-22</th>\n",
       "      <td>24115.0</td>\n",
       "      <td>11204</td>\n",
       "      <td>Wednesday</td>\n",
       "      <td>5</td>\n",
       "      <td>2</td>\n",
       "      <td>2012</td>\n",
       "      <td>d_390</td>\n",
       "      <td>LentStart</td>\n",
       "      <td>Religious</td>\n",
       "      <td>NaN</td>\n",
       "      <td>NaN</td>\n",
       "      <td>0</td>\n",
       "      <td>0</td>\n",
       "      <td>0</td>\n",
       "      <td>390</td>\n",
       "    </tr>\n",
       "    <tr>\n",
       "      <th>2012-02-29</th>\n",
       "      <td>24802.0</td>\n",
       "      <td>11205</td>\n",
       "      <td>Wednesday</td>\n",
       "      <td>5</td>\n",
       "      <td>2</td>\n",
       "      <td>2012</td>\n",
       "      <td>d_397</td>\n",
       "      <td>LentWeek2</td>\n",
       "      <td>Religious</td>\n",
       "      <td>NaN</td>\n",
       "      <td>NaN</td>\n",
       "      <td>0</td>\n",
       "      <td>0</td>\n",
       "      <td>0</td>\n",
       "      <td>397</td>\n",
       "    </tr>\n",
       "    <tr>\n",
       "      <th>2012-03-08</th>\n",
       "      <td>29759.0</td>\n",
       "      <td>11206</td>\n",
       "      <td>Thursday</td>\n",
       "      <td>6</td>\n",
       "      <td>3</td>\n",
       "      <td>2012</td>\n",
       "      <td>d_405</td>\n",
       "      <td>Purim End</td>\n",
       "      <td>Religious</td>\n",
       "      <td>NaN</td>\n",
       "      <td>NaN</td>\n",
       "      <td>1</td>\n",
       "      <td>0</td>\n",
       "      <td>1</td>\n",
       "      <td>405</td>\n",
       "    </tr>\n",
       "    <tr>\n",
       "      <th>2012-03-17</th>\n",
       "      <td>37904.0</td>\n",
       "      <td>11208</td>\n",
       "      <td>Saturday</td>\n",
       "      <td>1</td>\n",
       "      <td>3</td>\n",
       "      <td>2012</td>\n",
       "      <td>d_414</td>\n",
       "      <td>StPatricksDay</td>\n",
       "      <td>Cultural</td>\n",
       "      <td>NaN</td>\n",
       "      <td>NaN</td>\n",
       "      <td>0</td>\n",
       "      <td>0</td>\n",
       "      <td>0</td>\n",
       "      <td>414</td>\n",
       "    </tr>\n",
       "    <tr>\n",
       "      <th>2012-04-08</th>\n",
       "      <td>36210.0</td>\n",
       "      <td>11211</td>\n",
       "      <td>Sunday</td>\n",
       "      <td>2</td>\n",
       "      <td>4</td>\n",
       "      <td>2012</td>\n",
       "      <td>d_436</td>\n",
       "      <td>Easter</td>\n",
       "      <td>Cultural</td>\n",
       "      <td>NaN</td>\n",
       "      <td>NaN</td>\n",
       "      <td>1</td>\n",
       "      <td>0</td>\n",
       "      <td>1</td>\n",
       "      <td>436</td>\n",
       "    </tr>\n",
       "    <tr>\n",
       "      <th>2012-04-14</th>\n",
       "      <td>38546.0</td>\n",
       "      <td>11212</td>\n",
       "      <td>Saturday</td>\n",
       "      <td>1</td>\n",
       "      <td>4</td>\n",
       "      <td>2012</td>\n",
       "      <td>d_442</td>\n",
       "      <td>Pesach End</td>\n",
       "      <td>Religious</td>\n",
       "      <td>NaN</td>\n",
       "      <td>NaN</td>\n",
       "      <td>0</td>\n",
       "      <td>0</td>\n",
       "      <td>1</td>\n",
       "      <td>442</td>\n",
       "    </tr>\n",
       "    <tr>\n",
       "      <th>2012-04-15</th>\n",
       "      <td>38707.0</td>\n",
       "      <td>11212</td>\n",
       "      <td>Sunday</td>\n",
       "      <td>2</td>\n",
       "      <td>4</td>\n",
       "      <td>2012</td>\n",
       "      <td>d_443</td>\n",
       "      <td>OrthodoxEaster</td>\n",
       "      <td>Religious</td>\n",
       "      <td>NaN</td>\n",
       "      <td>NaN</td>\n",
       "      <td>0</td>\n",
       "      <td>1</td>\n",
       "      <td>1</td>\n",
       "      <td>443</td>\n",
       "    </tr>\n",
       "    <tr>\n",
       "      <th>2012-05-05</th>\n",
       "      <td>39201.0</td>\n",
       "      <td>11215</td>\n",
       "      <td>Saturday</td>\n",
       "      <td>1</td>\n",
       "      <td>5</td>\n",
       "      <td>2012</td>\n",
       "      <td>d_463</td>\n",
       "      <td>Cinco De Mayo</td>\n",
       "      <td>Cultural</td>\n",
       "      <td>NaN</td>\n",
       "      <td>NaN</td>\n",
       "      <td>1</td>\n",
       "      <td>1</td>\n",
       "      <td>1</td>\n",
       "      <td>463</td>\n",
       "    </tr>\n",
       "    <tr>\n",
       "      <th>2012-05-13</th>\n",
       "      <td>33769.0</td>\n",
       "      <td>11216</td>\n",
       "      <td>Sunday</td>\n",
       "      <td>2</td>\n",
       "      <td>5</td>\n",
       "      <td>2012</td>\n",
       "      <td>d_471</td>\n",
       "      <td>Mother's day</td>\n",
       "      <td>Cultural</td>\n",
       "      <td>NaN</td>\n",
       "      <td>NaN</td>\n",
       "      <td>0</td>\n",
       "      <td>1</td>\n",
       "      <td>0</td>\n",
       "      <td>471</td>\n",
       "    </tr>\n",
       "    <tr>\n",
       "      <th>2012-05-28</th>\n",
       "      <td>33407.0</td>\n",
       "      <td>11218</td>\n",
       "      <td>Monday</td>\n",
       "      <td>3</td>\n",
       "      <td>5</td>\n",
       "      <td>2012</td>\n",
       "      <td>d_486</td>\n",
       "      <td>MemorialDay</td>\n",
       "      <td>National</td>\n",
       "      <td>NaN</td>\n",
       "      <td>NaN</td>\n",
       "      <td>0</td>\n",
       "      <td>0</td>\n",
       "      <td>0</td>\n",
       "      <td>486</td>\n",
       "    </tr>\n",
       "    <tr>\n",
       "      <th>2012-06-12</th>\n",
       "      <td>35074.0</td>\n",
       "      <td>11220</td>\n",
       "      <td>Tuesday</td>\n",
       "      <td>4</td>\n",
       "      <td>6</td>\n",
       "      <td>2012</td>\n",
       "      <td>d_501</td>\n",
       "      <td>NBAFinalsStart</td>\n",
       "      <td>Sporting</td>\n",
       "      <td>NaN</td>\n",
       "      <td>NaN</td>\n",
       "      <td>0</td>\n",
       "      <td>1</td>\n",
       "      <td>1</td>\n",
       "      <td>501</td>\n",
       "    </tr>\n",
       "    <tr>\n",
       "      <th>2012-06-17</th>\n",
       "      <td>39039.0</td>\n",
       "      <td>11221</td>\n",
       "      <td>Sunday</td>\n",
       "      <td>2</td>\n",
       "      <td>6</td>\n",
       "      <td>2012</td>\n",
       "      <td>d_506</td>\n",
       "      <td>Father's day</td>\n",
       "      <td>Cultural</td>\n",
       "      <td>NaN</td>\n",
       "      <td>NaN</td>\n",
       "      <td>0</td>\n",
       "      <td>0</td>\n",
       "      <td>0</td>\n",
       "      <td>506</td>\n",
       "    </tr>\n",
       "    <tr>\n",
       "      <th>2012-06-21</th>\n",
       "      <td>30764.0</td>\n",
       "      <td>11221</td>\n",
       "      <td>Thursday</td>\n",
       "      <td>6</td>\n",
       "      <td>6</td>\n",
       "      <td>2012</td>\n",
       "      <td>d_510</td>\n",
       "      <td>NBAFinalsEnd</td>\n",
       "      <td>Sporting</td>\n",
       "      <td>NaN</td>\n",
       "      <td>NaN</td>\n",
       "      <td>0</td>\n",
       "      <td>0</td>\n",
       "      <td>0</td>\n",
       "      <td>510</td>\n",
       "    </tr>\n",
       "    <tr>\n",
       "      <th>2012-07-04</th>\n",
       "      <td>32656.0</td>\n",
       "      <td>11223</td>\n",
       "      <td>Wednesday</td>\n",
       "      <td>5</td>\n",
       "      <td>7</td>\n",
       "      <td>2012</td>\n",
       "      <td>d_523</td>\n",
       "      <td>IndependenceDay</td>\n",
       "      <td>National</td>\n",
       "      <td>NaN</td>\n",
       "      <td>NaN</td>\n",
       "      <td>1</td>\n",
       "      <td>0</td>\n",
       "      <td>0</td>\n",
       "      <td>523</td>\n",
       "    </tr>\n",
       "    <tr>\n",
       "      <th>2012-07-20</th>\n",
       "      <td>35402.0</td>\n",
       "      <td>11225</td>\n",
       "      <td>Friday</td>\n",
       "      <td>7</td>\n",
       "      <td>7</td>\n",
       "      <td>2012</td>\n",
       "      <td>d_539</td>\n",
       "      <td>Ramadan starts</td>\n",
       "      <td>Religious</td>\n",
       "      <td>NaN</td>\n",
       "      <td>NaN</td>\n",
       "      <td>0</td>\n",
       "      <td>0</td>\n",
       "      <td>0</td>\n",
       "      <td>539</td>\n",
       "    </tr>\n",
       "    <tr>\n",
       "      <th>2012-08-19</th>\n",
       "      <td>43364.0</td>\n",
       "      <td>11230</td>\n",
       "      <td>Sunday</td>\n",
       "      <td>2</td>\n",
       "      <td>8</td>\n",
       "      <td>2012</td>\n",
       "      <td>d_569</td>\n",
       "      <td>Eid al-Fitr</td>\n",
       "      <td>Religious</td>\n",
       "      <td>NaN</td>\n",
       "      <td>NaN</td>\n",
       "      <td>0</td>\n",
       "      <td>0</td>\n",
       "      <td>0</td>\n",
       "      <td>569</td>\n",
       "    </tr>\n",
       "    <tr>\n",
       "      <th>2012-09-03</th>\n",
       "      <td>44525.0</td>\n",
       "      <td>11232</td>\n",
       "      <td>Monday</td>\n",
       "      <td>3</td>\n",
       "      <td>9</td>\n",
       "      <td>2012</td>\n",
       "      <td>d_584</td>\n",
       "      <td>LaborDay</td>\n",
       "      <td>National</td>\n",
       "      <td>NaN</td>\n",
       "      <td>NaN</td>\n",
       "      <td>1</td>\n",
       "      <td>1</td>\n",
       "      <td>1</td>\n",
       "      <td>584</td>\n",
       "    </tr>\n",
       "    <tr>\n",
       "      <th>2012-10-08</th>\n",
       "      <td>33790.0</td>\n",
       "      <td>11237</td>\n",
       "      <td>Monday</td>\n",
       "      <td>3</td>\n",
       "      <td>10</td>\n",
       "      <td>2012</td>\n",
       "      <td>d_619</td>\n",
       "      <td>ColumbusDay</td>\n",
       "      <td>National</td>\n",
       "      <td>NaN</td>\n",
       "      <td>NaN</td>\n",
       "      <td>1</td>\n",
       "      <td>0</td>\n",
       "      <td>1</td>\n",
       "      <td>619</td>\n",
       "    </tr>\n",
       "    <tr>\n",
       "      <th>2012-10-26</th>\n",
       "      <td>31863.0</td>\n",
       "      <td>11239</td>\n",
       "      <td>Friday</td>\n",
       "      <td>7</td>\n",
       "      <td>10</td>\n",
       "      <td>2012</td>\n",
       "      <td>d_637</td>\n",
       "      <td>EidAlAdha</td>\n",
       "      <td>Religious</td>\n",
       "      <td>NaN</td>\n",
       "      <td>NaN</td>\n",
       "      <td>0</td>\n",
       "      <td>0</td>\n",
       "      <td>0</td>\n",
       "      <td>637</td>\n",
       "    </tr>\n",
       "    <tr>\n",
       "      <th>2012-10-31</th>\n",
       "      <td>24975.0</td>\n",
       "      <td>11240</td>\n",
       "      <td>Wednesday</td>\n",
       "      <td>5</td>\n",
       "      <td>10</td>\n",
       "      <td>2012</td>\n",
       "      <td>d_642</td>\n",
       "      <td>Halloween</td>\n",
       "      <td>Cultural</td>\n",
       "      <td>NaN</td>\n",
       "      <td>NaN</td>\n",
       "      <td>0</td>\n",
       "      <td>0</td>\n",
       "      <td>0</td>\n",
       "      <td>642</td>\n",
       "    </tr>\n",
       "    <tr>\n",
       "      <th>2012-11-11</th>\n",
       "      <td>43517.0</td>\n",
       "      <td>11242</td>\n",
       "      <td>Sunday</td>\n",
       "      <td>2</td>\n",
       "      <td>11</td>\n",
       "      <td>2012</td>\n",
       "      <td>d_653</td>\n",
       "      <td>VeteransDay</td>\n",
       "      <td>National</td>\n",
       "      <td>NaN</td>\n",
       "      <td>NaN</td>\n",
       "      <td>0</td>\n",
       "      <td>1</td>\n",
       "      <td>1</td>\n",
       "      <td>653</td>\n",
       "    </tr>\n",
       "    <tr>\n",
       "      <th>2012-11-22</th>\n",
       "      <td>21909.0</td>\n",
       "      <td>11243</td>\n",
       "      <td>Thursday</td>\n",
       "      <td>6</td>\n",
       "      <td>11</td>\n",
       "      <td>2012</td>\n",
       "      <td>d_664</td>\n",
       "      <td>Thanksgiving</td>\n",
       "      <td>National</td>\n",
       "      <td>NaN</td>\n",
       "      <td>NaN</td>\n",
       "      <td>0</td>\n",
       "      <td>0</td>\n",
       "      <td>0</td>\n",
       "      <td>664</td>\n",
       "    </tr>\n",
       "    <tr>\n",
       "      <th>2012-12-16</th>\n",
       "      <td>40053.0</td>\n",
       "      <td>11247</td>\n",
       "      <td>Sunday</td>\n",
       "      <td>2</td>\n",
       "      <td>12</td>\n",
       "      <td>2012</td>\n",
       "      <td>d_688</td>\n",
       "      <td>Chanukah End</td>\n",
       "      <td>Religious</td>\n",
       "      <td>NaN</td>\n",
       "      <td>NaN</td>\n",
       "      <td>0</td>\n",
       "      <td>0</td>\n",
       "      <td>0</td>\n",
       "      <td>688</td>\n",
       "    </tr>\n",
       "    <tr>\n",
       "      <th>2012-12-25</th>\n",
       "      <td>11.0</td>\n",
       "      <td>11248</td>\n",
       "      <td>Tuesday</td>\n",
       "      <td>4</td>\n",
       "      <td>12</td>\n",
       "      <td>2012</td>\n",
       "      <td>d_697</td>\n",
       "      <td>Christmas</td>\n",
       "      <td>National</td>\n",
       "      <td>NaN</td>\n",
       "      <td>NaN</td>\n",
       "      <td>0</td>\n",
       "      <td>0</td>\n",
       "      <td>0</td>\n",
       "      <td>697</td>\n",
       "    </tr>\n",
       "  </tbody>\n",
       "</table>\n",
       "</div>"
      ],
      "text/plain": [
       "            total_sales  wm_yr_wk    weekday  wday  month  year      d  \\\n",
       "date                                                                     \n",
       "2012-01-01      21807.0     11149     Sunday     2      1  2012  d_338   \n",
       "2012-01-07      37143.0     11150   Saturday     1      1  2012  d_344   \n",
       "2012-01-16      30548.0     11151     Monday     3      1  2012  d_353   \n",
       "2012-02-05      40075.0     11202     Sunday     2      2  2012  d_373   \n",
       "2012-02-14      25100.0     11203    Tuesday     4      2  2012  d_382   \n",
       "2012-02-20      30218.0     11204     Monday     3      2  2012  d_388   \n",
       "2012-02-22      24115.0     11204  Wednesday     5      2  2012  d_390   \n",
       "2012-02-29      24802.0     11205  Wednesday     5      2  2012  d_397   \n",
       "2012-03-08      29759.0     11206   Thursday     6      3  2012  d_405   \n",
       "2012-03-17      37904.0     11208   Saturday     1      3  2012  d_414   \n",
       "2012-04-08      36210.0     11211     Sunday     2      4  2012  d_436   \n",
       "2012-04-14      38546.0     11212   Saturday     1      4  2012  d_442   \n",
       "2012-04-15      38707.0     11212     Sunday     2      4  2012  d_443   \n",
       "2012-05-05      39201.0     11215   Saturday     1      5  2012  d_463   \n",
       "2012-05-13      33769.0     11216     Sunday     2      5  2012  d_471   \n",
       "2012-05-28      33407.0     11218     Monday     3      5  2012  d_486   \n",
       "2012-06-12      35074.0     11220    Tuesday     4      6  2012  d_501   \n",
       "2012-06-17      39039.0     11221     Sunday     2      6  2012  d_506   \n",
       "2012-06-21      30764.0     11221   Thursday     6      6  2012  d_510   \n",
       "2012-07-04      32656.0     11223  Wednesday     5      7  2012  d_523   \n",
       "2012-07-20      35402.0     11225     Friday     7      7  2012  d_539   \n",
       "2012-08-19      43364.0     11230     Sunday     2      8  2012  d_569   \n",
       "2012-09-03      44525.0     11232     Monday     3      9  2012  d_584   \n",
       "2012-10-08      33790.0     11237     Monday     3     10  2012  d_619   \n",
       "2012-10-26      31863.0     11239     Friday     7     10  2012  d_637   \n",
       "2012-10-31      24975.0     11240  Wednesday     5     10  2012  d_642   \n",
       "2012-11-11      43517.0     11242     Sunday     2     11  2012  d_653   \n",
       "2012-11-22      21909.0     11243   Thursday     6     11  2012  d_664   \n",
       "2012-12-16      40053.0     11247     Sunday     2     12  2012  d_688   \n",
       "2012-12-25         11.0     11248    Tuesday     4     12  2012  d_697   \n",
       "\n",
       "                   event_name_1 event_type_1 event_name_2 event_type_2  \\\n",
       "date                                                                     \n",
       "2012-01-01              NewYear     National          NaN          NaN   \n",
       "2012-01-07    OrthodoxChristmas    Religious          NaN          NaN   \n",
       "2012-01-16  MartinLutherKingDay     National          NaN          NaN   \n",
       "2012-02-05            SuperBowl     Sporting          NaN          NaN   \n",
       "2012-02-14        ValentinesDay     Cultural          NaN          NaN   \n",
       "2012-02-20        PresidentsDay     National          NaN          NaN   \n",
       "2012-02-22            LentStart    Religious          NaN          NaN   \n",
       "2012-02-29            LentWeek2    Religious          NaN          NaN   \n",
       "2012-03-08            Purim End    Religious          NaN          NaN   \n",
       "2012-03-17        StPatricksDay     Cultural          NaN          NaN   \n",
       "2012-04-08               Easter     Cultural          NaN          NaN   \n",
       "2012-04-14           Pesach End    Religious          NaN          NaN   \n",
       "2012-04-15       OrthodoxEaster    Religious          NaN          NaN   \n",
       "2012-05-05        Cinco De Mayo     Cultural          NaN          NaN   \n",
       "2012-05-13         Mother's day     Cultural          NaN          NaN   \n",
       "2012-05-28          MemorialDay     National          NaN          NaN   \n",
       "2012-06-12       NBAFinalsStart     Sporting          NaN          NaN   \n",
       "2012-06-17         Father's day     Cultural          NaN          NaN   \n",
       "2012-06-21         NBAFinalsEnd     Sporting          NaN          NaN   \n",
       "2012-07-04      IndependenceDay     National          NaN          NaN   \n",
       "2012-07-20       Ramadan starts    Religious          NaN          NaN   \n",
       "2012-08-19          Eid al-Fitr    Religious          NaN          NaN   \n",
       "2012-09-03             LaborDay     National          NaN          NaN   \n",
       "2012-10-08          ColumbusDay     National          NaN          NaN   \n",
       "2012-10-26            EidAlAdha    Religious          NaN          NaN   \n",
       "2012-10-31            Halloween     Cultural          NaN          NaN   \n",
       "2012-11-11          VeteransDay     National          NaN          NaN   \n",
       "2012-11-22         Thanksgiving     National          NaN          NaN   \n",
       "2012-12-16         Chanukah End    Religious          NaN          NaN   \n",
       "2012-12-25            Christmas     National          NaN          NaN   \n",
       "\n",
       "            snap_CA  snap_TX  snap_WI  day_number  \n",
       "date                                               \n",
       "2012-01-01        1        1        0         338  \n",
       "2012-01-07        1        1        0         344  \n",
       "2012-01-16        0        0        0         353  \n",
       "2012-02-05        1        1        1         373  \n",
       "2012-02-14        0        0        1         382  \n",
       "2012-02-20        0        0        0         388  \n",
       "2012-02-22        0        0        0         390  \n",
       "2012-02-29        0        0        0         397  \n",
       "2012-03-08        1        0        1         405  \n",
       "2012-03-17        0        0        0         414  \n",
       "2012-04-08        1        0        1         436  \n",
       "2012-04-14        0        0        1         442  \n",
       "2012-04-15        0        1        1         443  \n",
       "2012-05-05        1        1        1         463  \n",
       "2012-05-13        0        1        0         471  \n",
       "2012-05-28        0        0        0         486  \n",
       "2012-06-12        0        1        1         501  \n",
       "2012-06-17        0        0        0         506  \n",
       "2012-06-21        0        0        0         510  \n",
       "2012-07-04        1        0        0         523  \n",
       "2012-07-20        0        0        0         539  \n",
       "2012-08-19        0        0        0         569  \n",
       "2012-09-03        1        1        1         584  \n",
       "2012-10-08        1        0        1         619  \n",
       "2012-10-26        0        0        0         637  \n",
       "2012-10-31        0        0        0         642  \n",
       "2012-11-11        0        1        1         653  \n",
       "2012-11-22        0        0        0         664  \n",
       "2012-12-16        0        0        0         688  \n",
       "2012-12-25        0        0        0         697  "
      ]
     },
     "execution_count": 52,
     "metadata": {},
     "output_type": "execute_result"
    }
   ],
   "source": [
    "print(\"Event days in 2012\")\n",
    "sales[(sales.year == 2012) & ((sales.event_name_1.notnull()) | (sales.event_name_2.notnull()))]"
   ]
  },
  {
   "cell_type": "code",
   "execution_count": 162,
   "metadata": {
    "scrolled": true
   },
   "outputs": [
    {
     "data": {
      "text/html": [
       "<div>\n",
       "<style scoped>\n",
       "    .dataframe tbody tr th:only-of-type {\n",
       "        vertical-align: middle;\n",
       "    }\n",
       "\n",
       "    .dataframe tbody tr th {\n",
       "        vertical-align: top;\n",
       "    }\n",
       "\n",
       "    .dataframe thead th {\n",
       "        text-align: right;\n",
       "    }\n",
       "</style>\n",
       "<table border=\"1\" class=\"dataframe\">\n",
       "  <thead>\n",
       "    <tr style=\"text-align: right;\">\n",
       "      <th></th>\n",
       "      <th>snap</th>\n",
       "      <th>avg_units_sold</th>\n",
       "    </tr>\n",
       "  </thead>\n",
       "  <tbody>\n",
       "    <tr>\n",
       "      <th>0</th>\n",
       "      <td>0</td>\n",
       "      <td>33388.863182</td>\n",
       "    </tr>\n",
       "    <tr>\n",
       "      <th>1</th>\n",
       "      <td>1</td>\n",
       "      <td>36700.409375</td>\n",
       "    </tr>\n",
       "  </tbody>\n",
       "</table>\n",
       "</div>"
      ],
      "text/plain": [
       "   snap  avg_units_sold\n",
       "0     0    33388.863182\n",
       "1     1    36700.409375"
      ]
     },
     "execution_count": 162,
     "metadata": {},
     "output_type": "execute_result"
    }
   ],
   "source": [
    "avg_snapTX_sales_days = sales[['snap_TX', 'day_number', 'total_sales']].groupby('snap_TX').apply(lambda x: x['total_sales'].sum() / x['day_number'].nunique()).reset_index()\n",
    "avg_snapTX_sales_days.columns = ['snap', 'avg_units_sold']\n",
    "#avg_snapTX_sales_days['snap'] = avg_snapTX_sales_days['snap'] \\\n",
    "#   \n",
    "avg_snapTX_sales_days"
   ]
  },
  {
   "cell_type": "code",
   "execution_count": 149,
   "metadata": {},
   "outputs": [
    {
     "data": {
      "text/html": [
       "<div>\n",
       "<style scoped>\n",
       "    .dataframe tbody tr th:only-of-type {\n",
       "        vertical-align: middle;\n",
       "    }\n",
       "\n",
       "    .dataframe tbody tr th {\n",
       "        vertical-align: top;\n",
       "    }\n",
       "\n",
       "    .dataframe thead th {\n",
       "        text-align: right;\n",
       "    }\n",
       "</style>\n",
       "<table border=\"1\" class=\"dataframe\">\n",
       "  <thead>\n",
       "    <tr style=\"text-align: right;\">\n",
       "      <th></th>\n",
       "      <th>snap</th>\n",
       "      <th>avg_units_sold</th>\n",
       "    </tr>\n",
       "  </thead>\n",
       "  <tbody>\n",
       "    <tr>\n",
       "      <th>0</th>\n",
       "      <td>0</td>\n",
       "      <td>33546.929285</td>\n",
       "    </tr>\n",
       "    <tr>\n",
       "      <th>1</th>\n",
       "      <td>1</td>\n",
       "      <td>36379.090625</td>\n",
       "    </tr>\n",
       "  </tbody>\n",
       "</table>\n",
       "</div>"
      ],
      "text/plain": [
       "   snap  avg_units_sold\n",
       "0     0    33546.929285\n",
       "1     1    36379.090625"
      ]
     },
     "execution_count": 149,
     "metadata": {},
     "output_type": "execute_result"
    }
   ],
   "source": [
    "avg_snapCA_sales_days = sales[['snap_CA', 'day_number', 'total_sales']] \\\n",
    "                            .groupby('snap_CA') \\\n",
    "                            .apply(lambda x: x['total_sales'].sum() / x['day_number'].nunique()).reset_index()\n",
    "avg_snapCA_sales_days.columns = ['snap', 'avg_units_sold']\n",
    "avg_snapCA_sales_days"
   ]
  },
  {
   "cell_type": "code",
   "execution_count": 193,
   "metadata": {
    "scrolled": true
   },
   "outputs": [
    {
     "data": {
      "text/html": [
       "<div>\n",
       "<style scoped>\n",
       "    .dataframe tbody tr th:only-of-type {\n",
       "        vertical-align: middle;\n",
       "    }\n",
       "\n",
       "    .dataframe tbody tr th {\n",
       "        vertical-align: top;\n",
       "    }\n",
       "\n",
       "    .dataframe thead th {\n",
       "        text-align: right;\n",
       "    }\n",
       "</style>\n",
       "<table border=\"1\" class=\"dataframe\">\n",
       "  <thead>\n",
       "    <tr style=\"text-align: right;\">\n",
       "      <th></th>\n",
       "      <th>snap</th>\n",
       "      <th>avg_units_sold</th>\n",
       "    </tr>\n",
       "  </thead>\n",
       "  <tbody>\n",
       "    <tr>\n",
       "      <th>0</th>\n",
       "      <td>0</td>\n",
       "      <td>33372.247502</td>\n",
       "    </tr>\n",
       "    <tr>\n",
       "      <th>1</th>\n",
       "      <td>1</td>\n",
       "      <td>36734.185937</td>\n",
       "    </tr>\n",
       "  </tbody>\n",
       "</table>\n",
       "</div>"
      ],
      "text/plain": [
       "   snap  avg_units_sold\n",
       "0     0    33372.247502\n",
       "1     1    36734.185937"
      ]
     },
     "execution_count": 193,
     "metadata": {},
     "output_type": "execute_result"
    }
   ],
   "source": [
    "avg_snapWI_sales_days = sales[['snap_WI', 'day_number', 'total_sales']] \\\n",
    "                            .groupby('snap_WI') \\\n",
    "                            .apply(lambda x: x['total_sales'].sum() / x['day_number'].nunique()).reset_index()\n",
    "avg_snapWI_sales_days.columns = ['snap', 'avg_units_sold']\n",
    "avg_snapWI_sales_days"
   ]
  },
  {
   "cell_type": "code",
   "execution_count": 200,
   "metadata": {},
   "outputs": [
    {
     "data": {
      "text/plain": [
       "Text(0.5, 1.0, 'Bar-Graph showing mean sales According to snap_CA')"
      ]
     },
     "execution_count": 200,
     "metadata": {},
     "output_type": "execute_result"
    },
    {
     "data": {
      "image/png": "[encoded data removed]",
      "text/plain": [
       "<Figure size 720x504 with 1 Axes>"
      ]
     },
     "metadata": {},
     "output_type": "display_data"
    }
   ],
   "source": [
    "plt.figure(figsize=(10,7))\n",
    "plt.subplot(121)\n",
    "sns.barplot(x='snap',y='avg_units_sold',data=avg_snapWI_sales_days)\n",
    "plt.title(\"Bar-Graph showing mean sales According to snap_CA\")"
   ]
  },
  {
   "cell_type": "code",
   "execution_count": 178,
   "metadata": {
    "scrolled": false
   },
   "outputs": [
    {
     "data": {
      "text/html": [
       "<div>\n",
       "<style scoped>\n",
       "    .dataframe tbody tr th:only-of-type {\n",
       "        vertical-align: middle;\n",
       "    }\n",
       "\n",
       "    .dataframe tbody tr th {\n",
       "        vertical-align: top;\n",
       "    }\n",
       "\n",
       "    .dataframe thead th {\n",
       "        text-align: right;\n",
       "    }\n",
       "</style>\n",
       "<table border=\"1\" class=\"dataframe\">\n",
       "  <thead>\n",
       "    <tr style=\"text-align: right;\">\n",
       "      <th></th>\n",
       "      <th>snap</th>\n",
       "      <th>avg_units_sold</th>\n",
       "    </tr>\n",
       "  </thead>\n",
       "  <tbody>\n",
       "    <tr>\n",
       "      <th>0</th>\n",
       "      <td>0</td>\n",
       "      <td>33388.863182</td>\n",
       "    </tr>\n",
       "    <tr>\n",
       "      <th>1</th>\n",
       "      <td>1</td>\n",
       "      <td>36700.409375</td>\n",
       "    </tr>\n",
       "    <tr>\n",
       "      <th>0</th>\n",
       "      <td>0</td>\n",
       "      <td>33546.929285</td>\n",
       "    </tr>\n",
       "    <tr>\n",
       "      <th>1</th>\n",
       "      <td>1</td>\n",
       "      <td>36379.090625</td>\n",
       "    </tr>\n",
       "    <tr>\n",
       "      <th>0</th>\n",
       "      <td>0</td>\n",
       "      <td>33372.247502</td>\n",
       "    </tr>\n",
       "    <tr>\n",
       "      <th>1</th>\n",
       "      <td>1</td>\n",
       "      <td>36734.185937</td>\n",
       "    </tr>\n",
       "  </tbody>\n",
       "</table>\n",
       "</div>"
      ],
      "text/plain": [
       "   snap  avg_units_sold\n",
       "0     0    33388.863182\n",
       "1     1    36700.409375\n",
       "0     0    33546.929285\n",
       "1     1    36379.090625\n",
       "0     0    33372.247502\n",
       "1     1    36734.185937"
      ]
     },
     "execution_count": 178,
     "metadata": {},
     "output_type": "execute_result"
    }
   ],
   "source": [
    "avg_snapTX_sales_days = sales[['snap_TX', 'day_number', 'total_sales']].groupby('snap_TX').apply(lambda x: x['total_sales'].sum() / x['day_number'].nunique()).reset_index()\n",
    "avg_snapTX_sales_days.columns = ['snap', 'avg_units_sold']\n",
    "#avg_snapTX_sales_days['snap'] = avg_snapTX_sales_days['snap'] \\\n",
    "#                            .apply(lambda x: 'snap_TX_no' if x==0 else 'snap_TX_yes')\n",
    "\n",
    "avg_snapCA_sales_days = sales[['snap_CA', 'day_number', 'total_sales']] \\\n",
    "                            .groupby('snap_CA') \\\n",
    "                            .apply(lambda x: x['total_sales'].sum() / x['day_number'].nunique()).reset_index()\n",
    "avg_snapCA_sales_days.columns = ['snap', 'avg_units_sold']\n",
    "#avg_snapCA_sales_days['snap'] = avg_snapCA_sales_days['snap'] \\\n",
    "#                            .apply(lambda x: 'snap_CA_no' if x==0 else 'snap_CA_yes')\n",
    "\n",
    "avg_snapWI_sales_days = sales[['snap_WI', 'day_number', 'total_sales']] \\\n",
    "                            .groupby('snap_WI') \\\n",
    "                            .apply(lambda x: x['total_sales'].sum() / x['day_number'].nunique()).reset_index()\n",
    "avg_snapWI_sales_days.columns = ['snap', 'avg_units_sold']\n",
    "#avg_snapWI_sales_days['snap'] = avg_snapWI_sales_days['snap'] \\\n",
    "#                            .apply(lambda x: 'snap_WI_no' if x==0 else 'snap_WI_yes')\n",
    "\n",
    "\n",
    "merge1 = pd.concat([avg_snapTX_sales_days, avg_snapCA_sales_days])\n",
    "merge2 = pd.concat([merge1, avg_snapWI_sales_days])\n",
    "merge2\n",
    "\n"
   ]
  },
  {
   "cell_type": "code",
   "execution_count": 222,
   "metadata": {},
   "outputs": [
    {
     "data": {
      "text/plain": [
       "array([nan, 'Sporting', 'Cultural', 'National', 'Religious'], dtype=object)"
      ]
     },
     "execution_count": 222,
     "metadata": {},
     "output_type": "execute_result"
    }
   ],
   "source": [
    "sales.event_type_1.unique()"
   ]
  },
  {
   "cell_type": "code",
   "execution_count": 218,
   "metadata": {},
   "outputs": [
    {
     "ename": "ValueError",
     "evalue": "'explode' must be of length 'x'",
     "output_type": "error",
     "traceback": [
      "\u001b[1;31m---------------------------------------------------------------------------\u001b[0m",
      "\u001b[1;31mValueError\u001b[0m                                Traceback (most recent call last)",
      "\u001b[1;32m<ipython-input-218-df80177911ba>\u001b[0m in \u001b[0;36m<module>\u001b[1;34m\u001b[0m\n\u001b[0;32m     12\u001b[0m \u001b[0mdf\u001b[0m\u001b[1;33m[\u001b[0m\u001b[1;34m'sales_total'\u001b[0m\u001b[1;33m]\u001b[0m\u001b[1;33m=\u001b[0m\u001b[0mdf\u001b[0m\u001b[1;33m[\u001b[0m\u001b[1;34m'total_sales'\u001b[0m\u001b[1;33m]\u001b[0m\u001b[1;33m/\u001b[0m\u001b[0msum\u001b[0m\u001b[1;33m(\u001b[0m\u001b[0mdf\u001b[0m\u001b[1;33m[\u001b[0m\u001b[1;34m'total_sales'\u001b[0m\u001b[1;33m]\u001b[0m\u001b[1;33m.\u001b[0m\u001b[0mvalues\u001b[0m\u001b[1;33m)\u001b[0m\u001b[1;33m*\u001b[0m\u001b[1;36m100\u001b[0m\u001b[1;33m\u001b[0m\u001b[1;33m\u001b[0m\u001b[0m\n\u001b[0;32m     13\u001b[0m \u001b[0mexplode\u001b[0m \u001b[1;33m=\u001b[0m \u001b[1;33m(\u001b[0m\u001b[1;36m0.1\u001b[0m\u001b[1;33m,\u001b[0m \u001b[1;36m0.2\u001b[0m\u001b[1;33m,\u001b[0m \u001b[1;36m0.3\u001b[0m\u001b[1;33m,\u001b[0m \u001b[1;36m0.4\u001b[0m\u001b[1;33m,\u001b[0m\u001b[1;36m0.5\u001b[0m\u001b[1;33m,\u001b[0m\u001b[1;36m0.6\u001b[0m\u001b[1;33m,\u001b[0m\u001b[1;36m0.7\u001b[0m\u001b[1;33m,\u001b[0m\u001b[1;36m0.8\u001b[0m\u001b[1;33m)\u001b[0m\u001b[1;33m\u001b[0m\u001b[1;33m\u001b[0m\u001b[0m\n\u001b[1;32m---> 14\u001b[1;33m \u001b[0mplt\u001b[0m\u001b[1;33m.\u001b[0m\u001b[0mpie\u001b[0m\u001b[1;33m(\u001b[0m\u001b[0mdf\u001b[0m\u001b[1;33m[\u001b[0m\u001b[1;34m'sales_total'\u001b[0m\u001b[1;33m]\u001b[0m\u001b[1;33m.\u001b[0m\u001b[0mvalues\u001b[0m\u001b[1;33m,\u001b[0m\u001b[0mlabels\u001b[0m\u001b[1;33m=\u001b[0m\u001b[0mdf\u001b[0m\u001b[1;33m[\u001b[0m\u001b[1;34m'combined_event'\u001b[0m\u001b[1;33m]\u001b[0m\u001b[1;33m.\u001b[0m\u001b[0mvalues\u001b[0m\u001b[1;33m,\u001b[0m\u001b[0mshadow\u001b[0m\u001b[1;33m=\u001b[0m\u001b[1;32mTrue\u001b[0m\u001b[1;33m,\u001b[0m\u001b[0mautopct\u001b[0m\u001b[1;33m=\u001b[0m\u001b[1;34m'%1.1f%%'\u001b[0m\u001b[1;33m,\u001b[0m\u001b[0mexplode\u001b[0m\u001b[1;33m=\u001b[0m\u001b[0mexplode\u001b[0m\u001b[1;33m)\u001b[0m\u001b[1;33m\u001b[0m\u001b[1;33m\u001b[0m\u001b[0m\n\u001b[0m\u001b[0;32m     15\u001b[0m \u001b[0mplt\u001b[0m\u001b[1;33m.\u001b[0m\u001b[0mtitle\u001b[0m\u001b[1;33m(\u001b[0m\u001b[1;34m\"Pie Chart for total Sales According to event type(both event_1 and event_2)\"\u001b[0m\u001b[1;33m)\u001b[0m\u001b[1;33m\u001b[0m\u001b[1;33m\u001b[0m\u001b[0m\n\u001b[0;32m     16\u001b[0m \u001b[0mplt\u001b[0m\u001b[1;33m.\u001b[0m\u001b[0mshow\u001b[0m\u001b[1;33m(\u001b[0m\u001b[1;33m)\u001b[0m\u001b[1;33m\u001b[0m\u001b[1;33m\u001b[0m\u001b[0m\n",
      "\u001b[1;32m~\\AppData\\Roaming\\Python\\Python38\\site-packages\\matplotlib\\pyplot.py\u001b[0m in \u001b[0;36mpie\u001b[1;34m(x, explode, labels, colors, autopct, pctdistance, shadow, labeldistance, startangle, radius, counterclock, wedgeprops, textprops, center, frame, rotatelabels, normalize, data)\u001b[0m\n\u001b[0;32m   2825\u001b[0m         \u001b[0mtextprops\u001b[0m\u001b[1;33m=\u001b[0m\u001b[1;32mNone\u001b[0m\u001b[1;33m,\u001b[0m \u001b[0mcenter\u001b[0m\u001b[1;33m=\u001b[0m\u001b[1;33m(\u001b[0m\u001b[1;36m0\u001b[0m\u001b[1;33m,\u001b[0m \u001b[1;36m0\u001b[0m\u001b[1;33m)\u001b[0m\u001b[1;33m,\u001b[0m \u001b[0mframe\u001b[0m\u001b[1;33m=\u001b[0m\u001b[1;32mFalse\u001b[0m\u001b[1;33m,\u001b[0m\u001b[1;33m\u001b[0m\u001b[1;33m\u001b[0m\u001b[0m\n\u001b[0;32m   2826\u001b[0m         rotatelabels=False, *, normalize=None, data=None):\n\u001b[1;32m-> 2827\u001b[1;33m     return gca().pie(\n\u001b[0m\u001b[0;32m   2828\u001b[0m         \u001b[0mx\u001b[0m\u001b[1;33m,\u001b[0m \u001b[0mexplode\u001b[0m\u001b[1;33m=\u001b[0m\u001b[0mexplode\u001b[0m\u001b[1;33m,\u001b[0m \u001b[0mlabels\u001b[0m\u001b[1;33m=\u001b[0m\u001b[0mlabels\u001b[0m\u001b[1;33m,\u001b[0m \u001b[0mcolors\u001b[0m\u001b[1;33m=\u001b[0m\u001b[0mcolors\u001b[0m\u001b[1;33m,\u001b[0m\u001b[1;33m\u001b[0m\u001b[1;33m\u001b[0m\u001b[0m\n\u001b[0;32m   2829\u001b[0m         \u001b[0mautopct\u001b[0m\u001b[1;33m=\u001b[0m\u001b[0mautopct\u001b[0m\u001b[1;33m,\u001b[0m \u001b[0mpctdistance\u001b[0m\u001b[1;33m=\u001b[0m\u001b[0mpctdistance\u001b[0m\u001b[1;33m,\u001b[0m \u001b[0mshadow\u001b[0m\u001b[1;33m=\u001b[0m\u001b[0mshadow\u001b[0m\u001b[1;33m,\u001b[0m\u001b[1;33m\u001b[0m\u001b[1;33m\u001b[0m\u001b[0m\n",
      "\u001b[1;32m~\\AppData\\Roaming\\Python\\Python38\\site-packages\\matplotlib\\__init__.py\u001b[0m in \u001b[0;36minner\u001b[1;34m(ax, data, *args, **kwargs)\u001b[0m\n\u001b[0;32m   1445\u001b[0m     \u001b[1;32mdef\u001b[0m \u001b[0minner\u001b[0m\u001b[1;33m(\u001b[0m\u001b[0max\u001b[0m\u001b[1;33m,\u001b[0m \u001b[1;33m*\u001b[0m\u001b[0margs\u001b[0m\u001b[1;33m,\u001b[0m \u001b[0mdata\u001b[0m\u001b[1;33m=\u001b[0m\u001b[1;32mNone\u001b[0m\u001b[1;33m,\u001b[0m \u001b[1;33m**\u001b[0m\u001b[0mkwargs\u001b[0m\u001b[1;33m)\u001b[0m\u001b[1;33m:\u001b[0m\u001b[1;33m\u001b[0m\u001b[1;33m\u001b[0m\u001b[0m\n\u001b[0;32m   1446\u001b[0m         \u001b[1;32mif\u001b[0m \u001b[0mdata\u001b[0m \u001b[1;32mis\u001b[0m \u001b[1;32mNone\u001b[0m\u001b[1;33m:\u001b[0m\u001b[1;33m\u001b[0m\u001b[1;33m\u001b[0m\u001b[0m\n\u001b[1;32m-> 1447\u001b[1;33m             \u001b[1;32mreturn\u001b[0m \u001b[0mfunc\u001b[0m\u001b[1;33m(\u001b[0m\u001b[0max\u001b[0m\u001b[1;33m,\u001b[0m \u001b[1;33m*\u001b[0m\u001b[0mmap\u001b[0m\u001b[1;33m(\u001b[0m\u001b[0msanitize_sequence\u001b[0m\u001b[1;33m,\u001b[0m \u001b[0margs\u001b[0m\u001b[1;33m)\u001b[0m\u001b[1;33m,\u001b[0m \u001b[1;33m**\u001b[0m\u001b[0mkwargs\u001b[0m\u001b[1;33m)\u001b[0m\u001b[1;33m\u001b[0m\u001b[1;33m\u001b[0m\u001b[0m\n\u001b[0m\u001b[0;32m   1448\u001b[0m \u001b[1;33m\u001b[0m\u001b[0m\n\u001b[0;32m   1449\u001b[0m         \u001b[0mbound\u001b[0m \u001b[1;33m=\u001b[0m \u001b[0mnew_sig\u001b[0m\u001b[1;33m.\u001b[0m\u001b[0mbind\u001b[0m\u001b[1;33m(\u001b[0m\u001b[0max\u001b[0m\u001b[1;33m,\u001b[0m \u001b[1;33m*\u001b[0m\u001b[0margs\u001b[0m\u001b[1;33m,\u001b[0m \u001b[1;33m**\u001b[0m\u001b[0mkwargs\u001b[0m\u001b[1;33m)\u001b[0m\u001b[1;33m\u001b[0m\u001b[1;33m\u001b[0m\u001b[0m\n",
      "\u001b[1;32m~\\AppData\\Roaming\\Python\\Python38\\site-packages\\matplotlib\\axes\\_axes.py\u001b[0m in \u001b[0;36mpie\u001b[1;34m(self, x, explode, labels, colors, autopct, pctdistance, shadow, labeldistance, startangle, radius, counterclock, wedgeprops, textprops, center, frame, rotatelabels, normalize)\u001b[0m\n\u001b[0;32m   3024\u001b[0m             \u001b[1;32mraise\u001b[0m \u001b[0mValueError\u001b[0m\u001b[1;33m(\u001b[0m\u001b[1;34m\"'label' must be of length 'x'\"\u001b[0m\u001b[1;33m)\u001b[0m\u001b[1;33m\u001b[0m\u001b[1;33m\u001b[0m\u001b[0m\n\u001b[0;32m   3025\u001b[0m         \u001b[1;32mif\u001b[0m \u001b[0mlen\u001b[0m\u001b[1;33m(\u001b[0m\u001b[0mx\u001b[0m\u001b[1;33m)\u001b[0m \u001b[1;33m!=\u001b[0m \u001b[0mlen\u001b[0m\u001b[1;33m(\u001b[0m\u001b[0mexplode\u001b[0m\u001b[1;33m)\u001b[0m\u001b[1;33m:\u001b[0m\u001b[1;33m\u001b[0m\u001b[1;33m\u001b[0m\u001b[0m\n\u001b[1;32m-> 3026\u001b[1;33m             \u001b[1;32mraise\u001b[0m \u001b[0mValueError\u001b[0m\u001b[1;33m(\u001b[0m\u001b[1;34m\"'explode' must be of length 'x'\"\u001b[0m\u001b[1;33m)\u001b[0m\u001b[1;33m\u001b[0m\u001b[1;33m\u001b[0m\u001b[0m\n\u001b[0m\u001b[0;32m   3027\u001b[0m         \u001b[1;32mif\u001b[0m \u001b[0mcolors\u001b[0m \u001b[1;32mis\u001b[0m \u001b[1;32mNone\u001b[0m\u001b[1;33m:\u001b[0m\u001b[1;33m\u001b[0m\u001b[1;33m\u001b[0m\u001b[0m\n\u001b[0;32m   3028\u001b[0m             \u001b[0mget_next_color\u001b[0m \u001b[1;33m=\u001b[0m \u001b[0mself\u001b[0m\u001b[1;33m.\u001b[0m\u001b[0m_get_patches_for_fill\u001b[0m\u001b[1;33m.\u001b[0m\u001b[0mget_next_color\u001b[0m\u001b[1;33m\u001b[0m\u001b[1;33m\u001b[0m\u001b[0m\n",
      "\u001b[1;31mValueError\u001b[0m: 'explode' must be of length 'x'"
     ]
    },
    {
     "data": {
      "image/png": "[encoded data removed]",
      "text/plain": [
       "<Figure size 1440x1440 with 2 Axes>"
      ]
     },
     "metadata": {},
     "output_type": "display_data"
    }
   ],
   "source": [
    "df=sales.groupby(['event_type_1','event_type_2']).mean()\n",
    "df.reset_index(level=[0,1],inplace=True)\n",
    "df['combined_event']=df['event_type_1']+\" \"+df['event_type_2']\n",
    "plt.figure(figsize=(20,20))\n",
    "plt.subplot(211)\n",
    "sns.barplot(x='combined_event',y='total_sales',data=df)\n",
    "plt.title(\"Bar Plot Average Sales According to event type(both event_1 and event_2)\")\n",
    "df=sales.groupby(['event_type_1','event_type_2']).sum()\n",
    "df.reset_index(level=[0,1],inplace=True)\n",
    "df['combined_event']=df['event_type_1']+\" \"+df['event_type_2']\n",
    "plt.subplot(212)\n",
    "df['sales_total']=df['total_sales']/sum(df['total_sales'].values)*100\n",
    "explode = (0.1, 0.2, 0.3, 0.4,0.5,0.6,0.7,0.8)\n",
    "plt.pie(df['sales_total'].values,labels=df['combined_event'].values,shadow=True,autopct='%1.1f%%',explode=explode)\n",
    "plt.title(\"Pie Chart for total Sales According to event type(both event_1 and event_2)\")\n",
    "plt.show()"
   ]
  },
  {
   "cell_type": "code",
   "execution_count": 219,
   "metadata": {},
   "outputs": [
    {
     "data": {
      "image/png": "[encoded data removed]",
      "text/plain": [
       "<Figure size 1440x1440 with 2 Axes>"
      ]
     },
     "metadata": {},
     "output_type": "display_data"
    }
   ],
   "source": [
    "df=sales.groupby(['event_type_1','event_type_2']).mean()\n",
    "df.reset_index(level=[0,1],inplace=True)\n",
    "df['combined_event']=df['event_type_1']+\" \"+df['event_type_2']\n",
    "plt.figure(figsize=(20,20))\n",
    "plt.subplot(211)\n",
    "sns.barplot(x='combined_event',y='total_sales',data=df)\n",
    "plt.title(\"Bar Plot Average Sales According to event type(both event_1 and event_2)\")\n",
    "df=sales.groupby(['event_type_1','event_type_2']).sum()\n",
    "df.reset_index(level=[0,1],inplace=True)\n",
    "df['combined_event']=df['event_type_1']+\" \"+df['event_type_2']\n",
    "plt.subplot(212)\n",
    "df['sales_total']=df['total_sales']/sum(df['total_sales'].values)*100\n",
    "explode = (0.1, 0.2, 0.3, 0.4,0.5,0.6,0.7,0.8)\n",
    "#plt.pie(df['sales_total'].values,labels=df['combined_event'].values,shadow=True,autopct='%1.1f%%',explode=explode)\n",
    "#plt.title(\"Pie Chart for total Sales According to event type(both event_1 and event_2)\")\n",
    "#plt.show()"
   ]
  },
  {
   "cell_type": "code",
   "execution_count": 203,
   "metadata": {},
   "outputs": [
    {
     "ename": "ValueError",
     "evalue": "Could not interpret input 'combined_event'",
     "output_type": "error",
     "traceback": [
      "\u001b[1;31m---------------------------------------------------------------------------\u001b[0m",
      "\u001b[1;31mValueError\u001b[0m                                Traceback (most recent call last)",
      "\u001b[1;32m<ipython-input-203-147bb82ccc01>\u001b[0m in \u001b[0;36m<module>\u001b[1;34m\u001b[0m\n\u001b[0;32m      4\u001b[0m \u001b[0mplt\u001b[0m\u001b[1;33m.\u001b[0m\u001b[0mfigure\u001b[0m\u001b[1;33m(\u001b[0m\u001b[0mfigsize\u001b[0m\u001b[1;33m=\u001b[0m\u001b[1;33m(\u001b[0m\u001b[1;36m20\u001b[0m\u001b[1;33m,\u001b[0m\u001b[1;36m20\u001b[0m\u001b[1;33m)\u001b[0m\u001b[1;33m)\u001b[0m\u001b[1;33m\u001b[0m\u001b[1;33m\u001b[0m\u001b[0m\n\u001b[0;32m      5\u001b[0m \u001b[0mplt\u001b[0m\u001b[1;33m.\u001b[0m\u001b[0msubplot\u001b[0m\u001b[1;33m(\u001b[0m\u001b[1;36m211\u001b[0m\u001b[1;33m)\u001b[0m\u001b[1;33m\u001b[0m\u001b[1;33m\u001b[0m\u001b[0m\n\u001b[1;32m----> 6\u001b[1;33m \u001b[0msns\u001b[0m\u001b[1;33m.\u001b[0m\u001b[0mbarplot\u001b[0m\u001b[1;33m(\u001b[0m\u001b[0mx\u001b[0m\u001b[1;33m=\u001b[0m\u001b[1;34m'combined_event'\u001b[0m\u001b[1;33m,\u001b[0m\u001b[0my\u001b[0m\u001b[1;33m=\u001b[0m\u001b[1;34m'sales'\u001b[0m\u001b[1;33m,\u001b[0m\u001b[0mdata\u001b[0m\u001b[1;33m=\u001b[0m\u001b[0msales\u001b[0m\u001b[1;33m)\u001b[0m\u001b[1;33m\u001b[0m\u001b[1;33m\u001b[0m\u001b[0m\n\u001b[0m\u001b[0;32m      7\u001b[0m \u001b[0mplt\u001b[0m\u001b[1;33m.\u001b[0m\u001b[0mtitle\u001b[0m\u001b[1;33m(\u001b[0m\u001b[1;34m\"Bar Plot Average Sales According to event type(both event_1 and event_2)\"\u001b[0m\u001b[1;33m)\u001b[0m\u001b[1;33m\u001b[0m\u001b[1;33m\u001b[0m\u001b[0m\n\u001b[0;32m      8\u001b[0m \u001b[0mdf\u001b[0m\u001b[1;33m=\u001b[0m\u001b[0mdata\u001b[0m\u001b[1;33m.\u001b[0m\u001b[0mgroupby\u001b[0m\u001b[1;33m(\u001b[0m\u001b[1;33m[\u001b[0m\u001b[1;34m'event_type_1'\u001b[0m\u001b[1;33m,\u001b[0m\u001b[1;34m'event_type_2'\u001b[0m\u001b[1;33m]\u001b[0m\u001b[1;33m)\u001b[0m\u001b[1;33m.\u001b[0m\u001b[0msum\u001b[0m\u001b[1;33m(\u001b[0m\u001b[1;33m)\u001b[0m\u001b[1;33m\u001b[0m\u001b[1;33m\u001b[0m\u001b[0m\n",
      "\u001b[1;32m~\\anaconda3\\lib\\site-packages\\seaborn\\categorical.py\u001b[0m in \u001b[0;36mbarplot\u001b[1;34m(x, y, hue, data, order, hue_order, estimator, ci, n_boot, units, seed, orient, color, palette, saturation, errcolor, errwidth, capsize, dodge, ax, **kwargs)\u001b[0m\n\u001b[0;32m   3142\u001b[0m             ax=None, **kwargs):\n\u001b[0;32m   3143\u001b[0m \u001b[1;33m\u001b[0m\u001b[0m\n\u001b[1;32m-> 3144\u001b[1;33m     plotter = _BarPlotter(x, y, hue, data, order, hue_order,\n\u001b[0m\u001b[0;32m   3145\u001b[0m                           \u001b[0mestimator\u001b[0m\u001b[1;33m,\u001b[0m \u001b[0mci\u001b[0m\u001b[1;33m,\u001b[0m \u001b[0mn_boot\u001b[0m\u001b[1;33m,\u001b[0m \u001b[0munits\u001b[0m\u001b[1;33m,\u001b[0m \u001b[0mseed\u001b[0m\u001b[1;33m,\u001b[0m\u001b[1;33m\u001b[0m\u001b[1;33m\u001b[0m\u001b[0m\n\u001b[0;32m   3146\u001b[0m                           \u001b[0morient\u001b[0m\u001b[1;33m,\u001b[0m \u001b[0mcolor\u001b[0m\u001b[1;33m,\u001b[0m \u001b[0mpalette\u001b[0m\u001b[1;33m,\u001b[0m \u001b[0msaturation\u001b[0m\u001b[1;33m,\u001b[0m\u001b[1;33m\u001b[0m\u001b[1;33m\u001b[0m\u001b[0m\n",
      "\u001b[1;32m~\\anaconda3\\lib\\site-packages\\seaborn\\categorical.py\u001b[0m in \u001b[0;36m__init__\u001b[1;34m(self, x, y, hue, data, order, hue_order, estimator, ci, n_boot, units, seed, orient, color, palette, saturation, errcolor, errwidth, capsize, dodge)\u001b[0m\n\u001b[0;32m   1600\u001b[0m                  errwidth, capsize, dodge):\n\u001b[0;32m   1601\u001b[0m         \u001b[1;34m\"\"\"Initialize the plotter.\"\"\"\u001b[0m\u001b[1;33m\u001b[0m\u001b[1;33m\u001b[0m\u001b[0m\n\u001b[1;32m-> 1602\u001b[1;33m         self.establish_variables(x, y, hue, data, orient,\n\u001b[0m\u001b[0;32m   1603\u001b[0m                                  order, hue_order, units)\n\u001b[0;32m   1604\u001b[0m         \u001b[0mself\u001b[0m\u001b[1;33m.\u001b[0m\u001b[0mestablish_colors\u001b[0m\u001b[1;33m(\u001b[0m\u001b[0mcolor\u001b[0m\u001b[1;33m,\u001b[0m \u001b[0mpalette\u001b[0m\u001b[1;33m,\u001b[0m \u001b[0msaturation\u001b[0m\u001b[1;33m)\u001b[0m\u001b[1;33m\u001b[0m\u001b[1;33m\u001b[0m\u001b[0m\n",
      "\u001b[1;32m~\\anaconda3\\lib\\site-packages\\seaborn\\categorical.py\u001b[0m in \u001b[0;36mestablish_variables\u001b[1;34m(self, x, y, hue, data, orient, order, hue_order, units)\u001b[0m\n\u001b[0;32m    150\u001b[0m                 \u001b[1;32mif\u001b[0m \u001b[0misinstance\u001b[0m\u001b[1;33m(\u001b[0m\u001b[0mvar\u001b[0m\u001b[1;33m,\u001b[0m \u001b[0mstr\u001b[0m\u001b[1;33m)\u001b[0m\u001b[1;33m:\u001b[0m\u001b[1;33m\u001b[0m\u001b[1;33m\u001b[0m\u001b[0m\n\u001b[0;32m    151\u001b[0m                     \u001b[0merr\u001b[0m \u001b[1;33m=\u001b[0m \u001b[1;34m\"Could not interpret input '{}'\"\u001b[0m\u001b[1;33m.\u001b[0m\u001b[0mformat\u001b[0m\u001b[1;33m(\u001b[0m\u001b[0mvar\u001b[0m\u001b[1;33m)\u001b[0m\u001b[1;33m\u001b[0m\u001b[1;33m\u001b[0m\u001b[0m\n\u001b[1;32m--> 152\u001b[1;33m                     \u001b[1;32mraise\u001b[0m \u001b[0mValueError\u001b[0m\u001b[1;33m(\u001b[0m\u001b[0merr\u001b[0m\u001b[1;33m)\u001b[0m\u001b[1;33m\u001b[0m\u001b[1;33m\u001b[0m\u001b[0m\n\u001b[0m\u001b[0;32m    153\u001b[0m \u001b[1;33m\u001b[0m\u001b[0m\n\u001b[0;32m    154\u001b[0m             \u001b[1;31m# Figure out the plotting orientation\u001b[0m\u001b[1;33m\u001b[0m\u001b[1;33m\u001b[0m\u001b[1;33m\u001b[0m\u001b[0m\n",
      "\u001b[1;31mValueError\u001b[0m: Could not interpret input 'combined_event'"
     ]
    },
    {
     "data": {
      "image/png": "[encoded data removed]",
      "text/plain": [
       "<Figure size 1440x1440 with 1 Axes>"
      ]
     },
     "metadata": {},
     "output_type": "display_data"
    }
   ],
   "source": [
    "\n"
   ]
  },
  {
   "cell_type": "code",
   "execution_count": 145,
   "metadata": {},
   "outputs": [
    {
     "ename": "IndexError",
     "evalue": "single positional indexer is out-of-bounds",
     "output_type": "error",
     "traceback": [
      "\u001b[1;31m---------------------------------------------------------------------------\u001b[0m",
      "\u001b[1;31mIndexError\u001b[0m                                Traceback (most recent call last)",
      "\u001b[1;32m<ipython-input-145-fd21763b1882>\u001b[0m in \u001b[0;36m<module>\u001b[1;34m\u001b[0m\n\u001b[1;32m----> 1\u001b[1;33m \u001b[0mval\u001b[0m\u001b[1;33m=\u001b[0m \u001b[0mmerge2\u001b[0m\u001b[1;33m.\u001b[0m\u001b[0miloc\u001b[0m\u001b[1;33m[\u001b[0m\u001b[1;36m1\u001b[0m\u001b[1;33m,\u001b[0m\u001b[1;36m2\u001b[0m\u001b[1;33m]\u001b[0m\u001b[1;33m\u001b[0m\u001b[1;33m\u001b[0m\u001b[0m\n\u001b[0m\u001b[0;32m      2\u001b[0m \u001b[0mval\u001b[0m\u001b[1;33m\u001b[0m\u001b[1;33m\u001b[0m\u001b[0m\n",
      "\u001b[1;32m~\\anaconda3\\lib\\site-packages\\pandas\\core\\indexing.py\u001b[0m in \u001b[0;36m__getitem__\u001b[1;34m(self, key)\u001b[0m\n\u001b[0;32m    887\u001b[0m                     \u001b[1;31m# AttributeError for IntervalTree get_value\u001b[0m\u001b[1;33m\u001b[0m\u001b[1;33m\u001b[0m\u001b[1;33m\u001b[0m\u001b[0m\n\u001b[0;32m    888\u001b[0m                     \u001b[1;32mreturn\u001b[0m \u001b[0mself\u001b[0m\u001b[1;33m.\u001b[0m\u001b[0mobj\u001b[0m\u001b[1;33m.\u001b[0m\u001b[0m_get_value\u001b[0m\u001b[1;33m(\u001b[0m\u001b[1;33m*\u001b[0m\u001b[0mkey\u001b[0m\u001b[1;33m,\u001b[0m \u001b[0mtakeable\u001b[0m\u001b[1;33m=\u001b[0m\u001b[0mself\u001b[0m\u001b[1;33m.\u001b[0m\u001b[0m_takeable\u001b[0m\u001b[1;33m)\u001b[0m\u001b[1;33m\u001b[0m\u001b[1;33m\u001b[0m\u001b[0m\n\u001b[1;32m--> 889\u001b[1;33m             \u001b[1;32mreturn\u001b[0m \u001b[0mself\u001b[0m\u001b[1;33m.\u001b[0m\u001b[0m_getitem_tuple\u001b[0m\u001b[1;33m(\u001b[0m\u001b[0mkey\u001b[0m\u001b[1;33m)\u001b[0m\u001b[1;33m\u001b[0m\u001b[1;33m\u001b[0m\u001b[0m\n\u001b[0m\u001b[0;32m    890\u001b[0m         \u001b[1;32melse\u001b[0m\u001b[1;33m:\u001b[0m\u001b[1;33m\u001b[0m\u001b[1;33m\u001b[0m\u001b[0m\n\u001b[0;32m    891\u001b[0m             \u001b[1;31m# we by definition only have the 0th axis\u001b[0m\u001b[1;33m\u001b[0m\u001b[1;33m\u001b[0m\u001b[1;33m\u001b[0m\u001b[0m\n",
      "\u001b[1;32m~\\anaconda3\\lib\\site-packages\\pandas\\core\\indexing.py\u001b[0m in \u001b[0;36m_getitem_tuple\u001b[1;34m(self, tup)\u001b[0m\n\u001b[0;32m   1448\u001b[0m     \u001b[1;32mdef\u001b[0m \u001b[0m_getitem_tuple\u001b[0m\u001b[1;33m(\u001b[0m\u001b[0mself\u001b[0m\u001b[1;33m,\u001b[0m \u001b[0mtup\u001b[0m\u001b[1;33m:\u001b[0m \u001b[0mTuple\u001b[0m\u001b[1;33m)\u001b[0m\u001b[1;33m:\u001b[0m\u001b[1;33m\u001b[0m\u001b[1;33m\u001b[0m\u001b[0m\n\u001b[0;32m   1449\u001b[0m \u001b[1;33m\u001b[0m\u001b[0m\n\u001b[1;32m-> 1450\u001b[1;33m         \u001b[0mself\u001b[0m\u001b[1;33m.\u001b[0m\u001b[0m_has_valid_tuple\u001b[0m\u001b[1;33m(\u001b[0m\u001b[0mtup\u001b[0m\u001b[1;33m)\u001b[0m\u001b[1;33m\u001b[0m\u001b[1;33m\u001b[0m\u001b[0m\n\u001b[0m\u001b[0;32m   1451\u001b[0m         \u001b[1;32mwith\u001b[0m \u001b[0msuppress\u001b[0m\u001b[1;33m(\u001b[0m\u001b[0mIndexingError\u001b[0m\u001b[1;33m)\u001b[0m\u001b[1;33m:\u001b[0m\u001b[1;33m\u001b[0m\u001b[1;33m\u001b[0m\u001b[0m\n\u001b[0;32m   1452\u001b[0m             \u001b[1;32mreturn\u001b[0m \u001b[0mself\u001b[0m\u001b[1;33m.\u001b[0m\u001b[0m_getitem_lowerdim\u001b[0m\u001b[1;33m(\u001b[0m\u001b[0mtup\u001b[0m\u001b[1;33m)\u001b[0m\u001b[1;33m\u001b[0m\u001b[1;33m\u001b[0m\u001b[0m\n",
      "\u001b[1;32m~\\anaconda3\\lib\\site-packages\\pandas\\core\\indexing.py\u001b[0m in \u001b[0;36m_has_valid_tuple\u001b[1;34m(self, key)\u001b[0m\n\u001b[0;32m    721\u001b[0m         \u001b[1;32mfor\u001b[0m \u001b[0mi\u001b[0m\u001b[1;33m,\u001b[0m \u001b[0mk\u001b[0m \u001b[1;32min\u001b[0m \u001b[0menumerate\u001b[0m\u001b[1;33m(\u001b[0m\u001b[0mkey\u001b[0m\u001b[1;33m)\u001b[0m\u001b[1;33m:\u001b[0m\u001b[1;33m\u001b[0m\u001b[1;33m\u001b[0m\u001b[0m\n\u001b[0;32m    722\u001b[0m             \u001b[1;32mtry\u001b[0m\u001b[1;33m:\u001b[0m\u001b[1;33m\u001b[0m\u001b[1;33m\u001b[0m\u001b[0m\n\u001b[1;32m--> 723\u001b[1;33m                 \u001b[0mself\u001b[0m\u001b[1;33m.\u001b[0m\u001b[0m_validate_key\u001b[0m\u001b[1;33m(\u001b[0m\u001b[0mk\u001b[0m\u001b[1;33m,\u001b[0m \u001b[0mi\u001b[0m\u001b[1;33m)\u001b[0m\u001b[1;33m\u001b[0m\u001b[1;33m\u001b[0m\u001b[0m\n\u001b[0m\u001b[0;32m    724\u001b[0m             \u001b[1;32mexcept\u001b[0m \u001b[0mValueError\u001b[0m \u001b[1;32mas\u001b[0m \u001b[0merr\u001b[0m\u001b[1;33m:\u001b[0m\u001b[1;33m\u001b[0m\u001b[1;33m\u001b[0m\u001b[0m\n\u001b[0;32m    725\u001b[0m                 raise ValueError(\n",
      "\u001b[1;32m~\\anaconda3\\lib\\site-packages\\pandas\\core\\indexing.py\u001b[0m in \u001b[0;36m_validate_key\u001b[1;34m(self, key, axis)\u001b[0m\n\u001b[0;32m   1356\u001b[0m             \u001b[1;32mreturn\u001b[0m\u001b[1;33m\u001b[0m\u001b[1;33m\u001b[0m\u001b[0m\n\u001b[0;32m   1357\u001b[0m         \u001b[1;32melif\u001b[0m \u001b[0mis_integer\u001b[0m\u001b[1;33m(\u001b[0m\u001b[0mkey\u001b[0m\u001b[1;33m)\u001b[0m\u001b[1;33m:\u001b[0m\u001b[1;33m\u001b[0m\u001b[1;33m\u001b[0m\u001b[0m\n\u001b[1;32m-> 1358\u001b[1;33m             \u001b[0mself\u001b[0m\u001b[1;33m.\u001b[0m\u001b[0m_validate_integer\u001b[0m\u001b[1;33m(\u001b[0m\u001b[0mkey\u001b[0m\u001b[1;33m,\u001b[0m \u001b[0maxis\u001b[0m\u001b[1;33m)\u001b[0m\u001b[1;33m\u001b[0m\u001b[1;33m\u001b[0m\u001b[0m\n\u001b[0m\u001b[0;32m   1359\u001b[0m         \u001b[1;32melif\u001b[0m \u001b[0misinstance\u001b[0m\u001b[1;33m(\u001b[0m\u001b[0mkey\u001b[0m\u001b[1;33m,\u001b[0m \u001b[0mtuple\u001b[0m\u001b[1;33m)\u001b[0m\u001b[1;33m:\u001b[0m\u001b[1;33m\u001b[0m\u001b[1;33m\u001b[0m\u001b[0m\n\u001b[0;32m   1360\u001b[0m             \u001b[1;31m# a tuple should already have been caught by this point\u001b[0m\u001b[1;33m\u001b[0m\u001b[1;33m\u001b[0m\u001b[1;33m\u001b[0m\u001b[0m\n",
      "\u001b[1;32m~\\anaconda3\\lib\\site-packages\\pandas\\core\\indexing.py\u001b[0m in \u001b[0;36m_validate_integer\u001b[1;34m(self, key, axis)\u001b[0m\n\u001b[0;32m   1442\u001b[0m         \u001b[0mlen_axis\u001b[0m \u001b[1;33m=\u001b[0m \u001b[0mlen\u001b[0m\u001b[1;33m(\u001b[0m\u001b[0mself\u001b[0m\u001b[1;33m.\u001b[0m\u001b[0mobj\u001b[0m\u001b[1;33m.\u001b[0m\u001b[0m_get_axis\u001b[0m\u001b[1;33m(\u001b[0m\u001b[0maxis\u001b[0m\u001b[1;33m)\u001b[0m\u001b[1;33m)\u001b[0m\u001b[1;33m\u001b[0m\u001b[1;33m\u001b[0m\u001b[0m\n\u001b[0;32m   1443\u001b[0m         \u001b[1;32mif\u001b[0m \u001b[0mkey\u001b[0m \u001b[1;33m>=\u001b[0m \u001b[0mlen_axis\u001b[0m \u001b[1;32mor\u001b[0m \u001b[0mkey\u001b[0m \u001b[1;33m<\u001b[0m \u001b[1;33m-\u001b[0m\u001b[0mlen_axis\u001b[0m\u001b[1;33m:\u001b[0m\u001b[1;33m\u001b[0m\u001b[1;33m\u001b[0m\u001b[0m\n\u001b[1;32m-> 1444\u001b[1;33m             \u001b[1;32mraise\u001b[0m \u001b[0mIndexError\u001b[0m\u001b[1;33m(\u001b[0m\u001b[1;34m\"single positional indexer is out-of-bounds\"\u001b[0m\u001b[1;33m)\u001b[0m\u001b[1;33m\u001b[0m\u001b[1;33m\u001b[0m\u001b[0m\n\u001b[0m\u001b[0;32m   1445\u001b[0m \u001b[1;33m\u001b[0m\u001b[0m\n\u001b[0;32m   1446\u001b[0m     \u001b[1;31m# -------------------------------------------------------------------\u001b[0m\u001b[1;33m\u001b[0m\u001b[1;33m\u001b[0m\u001b[1;33m\u001b[0m\u001b[0m\n",
      "\u001b[1;31mIndexError\u001b[0m: single positional indexer is out-of-bounds"
     ]
    }
   ],
   "source": [
    "val= merge2[]\n",
    "val"
   ]
  },
  {
   "cell_type": "code",
   "execution_count": 139,
   "metadata": {},
   "outputs": [
    {
     "ename": "KeyError",
     "evalue": "(0, 1)",
     "output_type": "error",
     "traceback": [
      "\u001b[1;31m---------------------------------------------------------------------------\u001b[0m",
      "\u001b[1;31mKeyError\u001b[0m                                  Traceback (most recent call last)",
      "\u001b[1;32m~\\anaconda3\\lib\\site-packages\\pandas\\core\\indexes\\base.py\u001b[0m in \u001b[0;36mget_loc\u001b[1;34m(self, key, method, tolerance)\u001b[0m\n\u001b[0;32m   3079\u001b[0m             \u001b[1;32mtry\u001b[0m\u001b[1;33m:\u001b[0m\u001b[1;33m\u001b[0m\u001b[1;33m\u001b[0m\u001b[0m\n\u001b[1;32m-> 3080\u001b[1;33m                 \u001b[1;32mreturn\u001b[0m \u001b[0mself\u001b[0m\u001b[1;33m.\u001b[0m\u001b[0m_engine\u001b[0m\u001b[1;33m.\u001b[0m\u001b[0mget_loc\u001b[0m\u001b[1;33m(\u001b[0m\u001b[0mcasted_key\u001b[0m\u001b[1;33m)\u001b[0m\u001b[1;33m\u001b[0m\u001b[1;33m\u001b[0m\u001b[0m\n\u001b[0m\u001b[0;32m   3081\u001b[0m             \u001b[1;32mexcept\u001b[0m \u001b[0mKeyError\u001b[0m \u001b[1;32mas\u001b[0m \u001b[0merr\u001b[0m\u001b[1;33m:\u001b[0m\u001b[1;33m\u001b[0m\u001b[1;33m\u001b[0m\u001b[0m\n",
      "\u001b[1;32mpandas\\_libs\\index.pyx\u001b[0m in \u001b[0;36mpandas._libs.index.IndexEngine.get_loc\u001b[1;34m()\u001b[0m\n",
      "\u001b[1;32mpandas\\_libs\\index.pyx\u001b[0m in \u001b[0;36mpandas._libs.index.IndexEngine.get_loc\u001b[1;34m()\u001b[0m\n",
      "\u001b[1;32mpandas\\_libs\\hashtable_class_helper.pxi\u001b[0m in \u001b[0;36mpandas._libs.hashtable.PyObjectHashTable.get_item\u001b[1;34m()\u001b[0m\n",
      "\u001b[1;32mpandas\\_libs\\hashtable_class_helper.pxi\u001b[0m in \u001b[0;36mpandas._libs.hashtable.PyObjectHashTable.get_item\u001b[1;34m()\u001b[0m\n",
      "\u001b[1;31mKeyError\u001b[0m: (0, 1)",
      "\nThe above exception was the direct cause of the following exception:\n",
      "\u001b[1;31mKeyError\u001b[0m                                  Traceback (most recent call last)",
      "\u001b[1;32m<ipython-input-139-d817ddeb42d6>\u001b[0m in \u001b[0;36m<module>\u001b[1;34m\u001b[0m\n\u001b[1;32m----> 1\u001b[1;33m \u001b[0mval\u001b[0m\u001b[1;33m=\u001b[0m \u001b[0mmerge2\u001b[0m\u001b[1;33m[\u001b[0m\u001b[1;36m0\u001b[0m\u001b[1;33m,\u001b[0m\u001b[1;36m1\u001b[0m\u001b[1;33m]\u001b[0m\u001b[1;33m\u001b[0m\u001b[1;33m\u001b[0m\u001b[0m\n\u001b[0m\u001b[0;32m      2\u001b[0m \u001b[0mmerge2\u001b[0m \u001b[1;33m=\u001b[0m \u001b[0mmerge2\u001b[0m\u001b[1;33m.\u001b[0m\u001b[0miloc\u001b[0m\u001b[1;33m[\u001b[0m\u001b[1;33m:\u001b[0m\u001b[1;33m:\u001b[0m\u001b[1;36m2\u001b[0m\u001b[1;33m,\u001b[0m \u001b[1;33m:\u001b[0m\u001b[1;33m]\u001b[0m\u001b[1;33m\u001b[0m\u001b[1;33m\u001b[0m\u001b[0m\n\u001b[0;32m      3\u001b[0m \u001b[0mmerge2\u001b[0m\u001b[1;33m\u001b[0m\u001b[1;33m\u001b[0m\u001b[0m\n\u001b[0;32m      4\u001b[0m \u001b[0mval\u001b[0m\u001b[1;33m\u001b[0m\u001b[1;33m\u001b[0m\u001b[0m\n",
      "\u001b[1;32m~\\anaconda3\\lib\\site-packages\\pandas\\core\\frame.py\u001b[0m in \u001b[0;36m__getitem__\u001b[1;34m(self, key)\u001b[0m\n\u001b[0;32m   3022\u001b[0m             \u001b[1;32mif\u001b[0m \u001b[0mself\u001b[0m\u001b[1;33m.\u001b[0m\u001b[0mcolumns\u001b[0m\u001b[1;33m.\u001b[0m\u001b[0mnlevels\u001b[0m \u001b[1;33m>\u001b[0m \u001b[1;36m1\u001b[0m\u001b[1;33m:\u001b[0m\u001b[1;33m\u001b[0m\u001b[1;33m\u001b[0m\u001b[0m\n\u001b[0;32m   3023\u001b[0m                 \u001b[1;32mreturn\u001b[0m \u001b[0mself\u001b[0m\u001b[1;33m.\u001b[0m\u001b[0m_getitem_multilevel\u001b[0m\u001b[1;33m(\u001b[0m\u001b[0mkey\u001b[0m\u001b[1;33m)\u001b[0m\u001b[1;33m\u001b[0m\u001b[1;33m\u001b[0m\u001b[0m\n\u001b[1;32m-> 3024\u001b[1;33m             \u001b[0mindexer\u001b[0m \u001b[1;33m=\u001b[0m \u001b[0mself\u001b[0m\u001b[1;33m.\u001b[0m\u001b[0mcolumns\u001b[0m\u001b[1;33m.\u001b[0m\u001b[0mget_loc\u001b[0m\u001b[1;33m(\u001b[0m\u001b[0mkey\u001b[0m\u001b[1;33m)\u001b[0m\u001b[1;33m\u001b[0m\u001b[1;33m\u001b[0m\u001b[0m\n\u001b[0m\u001b[0;32m   3025\u001b[0m             \u001b[1;32mif\u001b[0m \u001b[0mis_integer\u001b[0m\u001b[1;33m(\u001b[0m\u001b[0mindexer\u001b[0m\u001b[1;33m)\u001b[0m\u001b[1;33m:\u001b[0m\u001b[1;33m\u001b[0m\u001b[1;33m\u001b[0m\u001b[0m\n\u001b[0;32m   3026\u001b[0m                 \u001b[0mindexer\u001b[0m \u001b[1;33m=\u001b[0m \u001b[1;33m[\u001b[0m\u001b[0mindexer\u001b[0m\u001b[1;33m]\u001b[0m\u001b[1;33m\u001b[0m\u001b[1;33m\u001b[0m\u001b[0m\n",
      "\u001b[1;32m~\\anaconda3\\lib\\site-packages\\pandas\\core\\indexes\\base.py\u001b[0m in \u001b[0;36mget_loc\u001b[1;34m(self, key, method, tolerance)\u001b[0m\n\u001b[0;32m   3080\u001b[0m                 \u001b[1;32mreturn\u001b[0m \u001b[0mself\u001b[0m\u001b[1;33m.\u001b[0m\u001b[0m_engine\u001b[0m\u001b[1;33m.\u001b[0m\u001b[0mget_loc\u001b[0m\u001b[1;33m(\u001b[0m\u001b[0mcasted_key\u001b[0m\u001b[1;33m)\u001b[0m\u001b[1;33m\u001b[0m\u001b[1;33m\u001b[0m\u001b[0m\n\u001b[0;32m   3081\u001b[0m             \u001b[1;32mexcept\u001b[0m \u001b[0mKeyError\u001b[0m \u001b[1;32mas\u001b[0m \u001b[0merr\u001b[0m\u001b[1;33m:\u001b[0m\u001b[1;33m\u001b[0m\u001b[1;33m\u001b[0m\u001b[0m\n\u001b[1;32m-> 3082\u001b[1;33m                 \u001b[1;32mraise\u001b[0m \u001b[0mKeyError\u001b[0m\u001b[1;33m(\u001b[0m\u001b[0mkey\u001b[0m\u001b[1;33m)\u001b[0m \u001b[1;32mfrom\u001b[0m \u001b[0merr\u001b[0m\u001b[1;33m\u001b[0m\u001b[1;33m\u001b[0m\u001b[0m\n\u001b[0m\u001b[0;32m   3083\u001b[0m \u001b[1;33m\u001b[0m\u001b[0m\n\u001b[0;32m   3084\u001b[0m         \u001b[1;32mif\u001b[0m \u001b[0mtolerance\u001b[0m \u001b[1;32mis\u001b[0m \u001b[1;32mnot\u001b[0m \u001b[1;32mNone\u001b[0m\u001b[1;33m:\u001b[0m\u001b[1;33m\u001b[0m\u001b[1;33m\u001b[0m\u001b[0m\n",
      "\u001b[1;31mKeyError\u001b[0m: (0, 1)"
     ]
    }
   ],
   "source": [
    "\n",
    "merge2 = merge2.iloc[::2, :]\n",
    "merge2\n",
    "val"
   ]
  },
  {
   "cell_type": "code",
   "execution_count": 134,
   "metadata": {},
   "outputs": [
    {
     "ename": "KeyError",
     "evalue": "('snap_TX_no', 'snap_CA_no', 'snap_WI_no')",
     "output_type": "error",
     "traceback": [
      "\u001b[1;31m---------------------------------------------------------------------------\u001b[0m",
      "\u001b[1;31mKeyError\u001b[0m                                  Traceback (most recent call last)",
      "\u001b[1;32m~\\anaconda3\\lib\\site-packages\\pandas\\core\\indexes\\base.py\u001b[0m in \u001b[0;36mget_loc\u001b[1;34m(self, key, method, tolerance)\u001b[0m\n\u001b[0;32m   3079\u001b[0m             \u001b[1;32mtry\u001b[0m\u001b[1;33m:\u001b[0m\u001b[1;33m\u001b[0m\u001b[1;33m\u001b[0m\u001b[0m\n\u001b[1;32m-> 3080\u001b[1;33m                 \u001b[1;32mreturn\u001b[0m \u001b[0mself\u001b[0m\u001b[1;33m.\u001b[0m\u001b[0m_engine\u001b[0m\u001b[1;33m.\u001b[0m\u001b[0mget_loc\u001b[0m\u001b[1;33m(\u001b[0m\u001b[0mcasted_key\u001b[0m\u001b[1;33m)\u001b[0m\u001b[1;33m\u001b[0m\u001b[1;33m\u001b[0m\u001b[0m\n\u001b[0m\u001b[0;32m   3081\u001b[0m             \u001b[1;32mexcept\u001b[0m \u001b[0mKeyError\u001b[0m \u001b[1;32mas\u001b[0m \u001b[0merr\u001b[0m\u001b[1;33m:\u001b[0m\u001b[1;33m\u001b[0m\u001b[1;33m\u001b[0m\u001b[0m\n",
      "\u001b[1;32mpandas\\_libs\\index.pyx\u001b[0m in \u001b[0;36mpandas._libs.index.IndexEngine.get_loc\u001b[1;34m()\u001b[0m\n",
      "\u001b[1;32mpandas\\_libs\\index.pyx\u001b[0m in \u001b[0;36mpandas._libs.index.IndexEngine.get_loc\u001b[1;34m()\u001b[0m\n",
      "\u001b[1;32mpandas\\_libs\\hashtable_class_helper.pxi\u001b[0m in \u001b[0;36mpandas._libs.hashtable.PyObjectHashTable.get_item\u001b[1;34m()\u001b[0m\n",
      "\u001b[1;32mpandas\\_libs\\hashtable_class_helper.pxi\u001b[0m in \u001b[0;36mpandas._libs.hashtable.PyObjectHashTable.get_item\u001b[1;34m()\u001b[0m\n",
      "\u001b[1;31mKeyError\u001b[0m: ('snap_TX_no', 'snap_CA_no', 'snap_WI_no')",
      "\nThe above exception was the direct cause of the following exception:\n",
      "\u001b[1;31mKeyError\u001b[0m                                  Traceback (most recent call last)",
      "\u001b[1;32m<ipython-input-134-d0262188813c>\u001b[0m in \u001b[0;36m<module>\u001b[1;34m\u001b[0m\n\u001b[1;32m----> 1\u001b[1;33m \u001b[0mcol_no\u001b[0m \u001b[1;33m=\u001b[0m \u001b[0mmerge2\u001b[0m\u001b[1;33m[\u001b[0m\u001b[1;34m\"snap_TX_no\"\u001b[0m\u001b[1;33m,\u001b[0m\u001b[1;34m\"snap_CA_no\"\u001b[0m\u001b[1;33m,\u001b[0m\u001b[1;34m\"snap_WI_no\"\u001b[0m\u001b[1;33m]\u001b[0m\u001b[1;33m\u001b[0m\u001b[1;33m\u001b[0m\u001b[0m\n\u001b[0m\u001b[0;32m      2\u001b[0m \u001b[0mmerge2\u001b[0m\u001b[1;33m[\u001b[0m\u001b[1;34m'snap_no'\u001b[0m\u001b[1;33m]\u001b[0m \u001b[1;33m=\u001b[0m \u001b[0mcol_no\u001b[0m\u001b[1;33m.\u001b[0m\u001b[0mmean\u001b[0m\u001b[1;33m(\u001b[0m\u001b[0maxis\u001b[0m\u001b[1;33m=\u001b[0m\u001b[1;36m1\u001b[0m\u001b[1;33m)\u001b[0m\u001b[1;33m\u001b[0m\u001b[1;33m\u001b[0m\u001b[0m\n\u001b[0;32m      3\u001b[0m \u001b[1;31m#merge2.iloc[0,1]\u001b[0m\u001b[1;33m\u001b[0m\u001b[1;33m\u001b[0m\u001b[1;33m\u001b[0m\u001b[0m\n\u001b[0;32m      4\u001b[0m \u001b[0mmerge2\u001b[0m\u001b[1;33m\u001b[0m\u001b[1;33m\u001b[0m\u001b[0m\n",
      "\u001b[1;32m~\\anaconda3\\lib\\site-packages\\pandas\\core\\frame.py\u001b[0m in \u001b[0;36m__getitem__\u001b[1;34m(self, key)\u001b[0m\n\u001b[0;32m   3022\u001b[0m             \u001b[1;32mif\u001b[0m \u001b[0mself\u001b[0m\u001b[1;33m.\u001b[0m\u001b[0mcolumns\u001b[0m\u001b[1;33m.\u001b[0m\u001b[0mnlevels\u001b[0m \u001b[1;33m>\u001b[0m \u001b[1;36m1\u001b[0m\u001b[1;33m:\u001b[0m\u001b[1;33m\u001b[0m\u001b[1;33m\u001b[0m\u001b[0m\n\u001b[0;32m   3023\u001b[0m                 \u001b[1;32mreturn\u001b[0m \u001b[0mself\u001b[0m\u001b[1;33m.\u001b[0m\u001b[0m_getitem_multilevel\u001b[0m\u001b[1;33m(\u001b[0m\u001b[0mkey\u001b[0m\u001b[1;33m)\u001b[0m\u001b[1;33m\u001b[0m\u001b[1;33m\u001b[0m\u001b[0m\n\u001b[1;32m-> 3024\u001b[1;33m             \u001b[0mindexer\u001b[0m \u001b[1;33m=\u001b[0m \u001b[0mself\u001b[0m\u001b[1;33m.\u001b[0m\u001b[0mcolumns\u001b[0m\u001b[1;33m.\u001b[0m\u001b[0mget_loc\u001b[0m\u001b[1;33m(\u001b[0m\u001b[0mkey\u001b[0m\u001b[1;33m)\u001b[0m\u001b[1;33m\u001b[0m\u001b[1;33m\u001b[0m\u001b[0m\n\u001b[0m\u001b[0;32m   3025\u001b[0m             \u001b[1;32mif\u001b[0m \u001b[0mis_integer\u001b[0m\u001b[1;33m(\u001b[0m\u001b[0mindexer\u001b[0m\u001b[1;33m)\u001b[0m\u001b[1;33m:\u001b[0m\u001b[1;33m\u001b[0m\u001b[1;33m\u001b[0m\u001b[0m\n\u001b[0;32m   3026\u001b[0m                 \u001b[0mindexer\u001b[0m \u001b[1;33m=\u001b[0m \u001b[1;33m[\u001b[0m\u001b[0mindexer\u001b[0m\u001b[1;33m]\u001b[0m\u001b[1;33m\u001b[0m\u001b[1;33m\u001b[0m\u001b[0m\n",
      "\u001b[1;32m~\\anaconda3\\lib\\site-packages\\pandas\\core\\indexes\\base.py\u001b[0m in \u001b[0;36mget_loc\u001b[1;34m(self, key, method, tolerance)\u001b[0m\n\u001b[0;32m   3080\u001b[0m                 \u001b[1;32mreturn\u001b[0m \u001b[0mself\u001b[0m\u001b[1;33m.\u001b[0m\u001b[0m_engine\u001b[0m\u001b[1;33m.\u001b[0m\u001b[0mget_loc\u001b[0m\u001b[1;33m(\u001b[0m\u001b[0mcasted_key\u001b[0m\u001b[1;33m)\u001b[0m\u001b[1;33m\u001b[0m\u001b[1;33m\u001b[0m\u001b[0m\n\u001b[0;32m   3081\u001b[0m             \u001b[1;32mexcept\u001b[0m \u001b[0mKeyError\u001b[0m \u001b[1;32mas\u001b[0m \u001b[0merr\u001b[0m\u001b[1;33m:\u001b[0m\u001b[1;33m\u001b[0m\u001b[1;33m\u001b[0m\u001b[0m\n\u001b[1;32m-> 3082\u001b[1;33m                 \u001b[1;32mraise\u001b[0m \u001b[0mKeyError\u001b[0m\u001b[1;33m(\u001b[0m\u001b[0mkey\u001b[0m\u001b[1;33m)\u001b[0m \u001b[1;32mfrom\u001b[0m \u001b[0merr\u001b[0m\u001b[1;33m\u001b[0m\u001b[1;33m\u001b[0m\u001b[0m\n\u001b[0m\u001b[0;32m   3083\u001b[0m \u001b[1;33m\u001b[0m\u001b[0m\n\u001b[0;32m   3084\u001b[0m         \u001b[1;32mif\u001b[0m \u001b[0mtolerance\u001b[0m \u001b[1;32mis\u001b[0m \u001b[1;32mnot\u001b[0m \u001b[1;32mNone\u001b[0m\u001b[1;33m:\u001b[0m\u001b[1;33m\u001b[0m\u001b[1;33m\u001b[0m\u001b[0m\n",
      "\u001b[1;31mKeyError\u001b[0m: ('snap_TX_no', 'snap_CA_no', 'snap_WI_no')"
     ]
    }
   ],
   "source": [
    "col_no = merge2[\"snap_TX_no\",\"snap_CA_no\",\"snap_WI_no\"]\n",
    "merge2['snap_no'] = col_no.mean(axis=1)\n",
    "#merge2.iloc[0,1]\n",
    "merge2"
   ]
  },
  {
   "cell_type": "code",
   "execution_count": 79,
   "metadata": {},
   "outputs": [
    {
     "data": {
      "image/png": "[encoded data removed]",
      "text/plain": [
       "<Figure size 864x576 with 1 Axes>"
      ]
     },
     "metadata": {},
     "output_type": "display_data"
    }
   ],
   "source": [
    "figure = plt.figure(figsize=(12,8))\n",
    "ax = sns.barplot(x=\"snap\", y=\"avg_units_sold\", data=merge2)\n",
    "ax.set(xlabel=\"Snap Value (Yes or No)\", ylabel = \"Average Units Sold\")\n",
    "for item in ax.get_xticklabels():\n",
    "    item.set_rotation(90)"
   ]
  },
  {
   "cell_type": "code",
   "execution_count": 34,
   "metadata": {},
   "outputs": [
    {
     "ename": "NameError",
     "evalue": "name 'avg_weekday_sales_days' is not defined",
     "output_type": "error",
     "traceback": [
      "\u001b[1;31m---------------------------------------------------------------------------\u001b[0m",
      "\u001b[1;31mNameError\u001b[0m                                 Traceback (most recent call last)",
      "\u001b[1;32m<ipython-input-34-0adc5252472e>\u001b[0m in \u001b[0;36m<module>\u001b[1;34m\u001b[0m\n\u001b[0;32m      1\u001b[0m \u001b[0mfigure\u001b[0m \u001b[1;33m=\u001b[0m \u001b[0mplt\u001b[0m\u001b[1;33m.\u001b[0m\u001b[0mfigure\u001b[0m\u001b[1;33m(\u001b[0m\u001b[0mfigsize\u001b[0m\u001b[1;33m=\u001b[0m\u001b[1;33m(\u001b[0m\u001b[1;36m12\u001b[0m\u001b[1;33m,\u001b[0m\u001b[1;36m8\u001b[0m\u001b[1;33m)\u001b[0m\u001b[1;33m)\u001b[0m\u001b[1;33m\u001b[0m\u001b[1;33m\u001b[0m\u001b[0m\n\u001b[1;32m----> 2\u001b[1;33m ax = sns.barplot(x=\"weekday\", y=\"avg_units_sold\", data=avg_weekday_sales_days, \n\u001b[0m\u001b[0;32m      3\u001b[0m                  order=[\"Monday\", \"Tuesday\", \"Wednesday\", \"Thursday\", \"Friday\", \"Saturday\", \"Sunday\"])\n\u001b[0;32m      4\u001b[0m \u001b[0max\u001b[0m\u001b[1;33m.\u001b[0m\u001b[0mset\u001b[0m\u001b[1;33m(\u001b[0m\u001b[0mxlabel\u001b[0m\u001b[1;33m=\u001b[0m\u001b[1;34m\"Day of the week\"\u001b[0m\u001b[1;33m,\u001b[0m \u001b[0mylabel\u001b[0m \u001b[1;33m=\u001b[0m \u001b[1;34m\"Average Units Sold\"\u001b[0m\u001b[1;33m)\u001b[0m\u001b[1;33m\u001b[0m\u001b[1;33m\u001b[0m\u001b[0m\n\u001b[0;32m      5\u001b[0m \u001b[1;32mfor\u001b[0m \u001b[0mitem\u001b[0m \u001b[1;32min\u001b[0m \u001b[0max\u001b[0m\u001b[1;33m.\u001b[0m\u001b[0mget_xticklabels\u001b[0m\u001b[1;33m(\u001b[0m\u001b[1;33m)\u001b[0m\u001b[1;33m:\u001b[0m\u001b[1;33m\u001b[0m\u001b[1;33m\u001b[0m\u001b[0m\n",
      "\u001b[1;31mNameError\u001b[0m: name 'avg_weekday_sales_days' is not defined"
     ]
    },
    {
     "data": {
      "text/plain": [
       "<Figure size 864x576 with 0 Axes>"
      ]
     },
     "metadata": {},
     "output_type": "display_data"
    }
   ],
   "source": [
    "figure = plt.figure(figsize=(12,8))\n",
    "ax = sns.barplot(x=\"weekday\", y=\"avg_units_sold\", data=avg_weekday_sales_days, \n",
    "                 order=[\"Monday\", \"Tuesday\", \"Wednesday\", \"Thursday\", \"Friday\", \"Saturday\", \"Sunday\"])\n",
    "ax.set(xlabel=\"Day of the week\", ylabel = \"Average Units Sold\")\n",
    "for item in ax.get_xticklabels():\n",
    "    item.set_rotation(90)"
   ]
  },
  {
   "cell_type": "code",
   "execution_count": 14,
   "metadata": {
    "scrolled": true
   },
   "outputs": [
    {
     "ename": "NameError",
     "evalue": "name 'event_name_1_se' is not defined",
     "output_type": "error",
     "traceback": [
      "\u001b[1;31m---------------------------------------------------------------------------\u001b[0m",
      "\u001b[1;31mNameError\u001b[0m                                 Traceback (most recent call last)",
      "\u001b[1;32m<ipython-input-14-bf22a20a998e>\u001b[0m in \u001b[0;36m<module>\u001b[1;34m\u001b[0m\n\u001b[0;32m      4\u001b[0m     \u001b[1;31m#ax.bar(x = range(len(transfer_cal.loc['snap_WI'][1500:1800].values)),height = transfer_cal.loc['snap_TX'][1500:1800].values,label='snap_TX',facecolor='red')\u001b[0m\u001b[1;33m\u001b[0m\u001b[1;33m\u001b[0m\u001b[1;33m\u001b[0m\u001b[0m\n\u001b[0;32m      5\u001b[0m     \u001b[0max\u001b[0m\u001b[1;33m.\u001b[0m\u001b[0mplot\u001b[0m\u001b[1;33m(\u001b[0m\u001b[0msales\u001b[0m\u001b[1;33m.\u001b[0m\u001b[0miloc\u001b[0m\u001b[1;33m[\u001b[0m\u001b[0mi\u001b[0m\u001b[1;33m,\u001b[0m \u001b[1;36m500\u001b[0m\u001b[1;33m:\u001b[0m\u001b[1;36m800\u001b[0m\u001b[1;33m]\u001b[0m\u001b[1;33m.\u001b[0m\u001b[0mvalues\u001b[0m\u001b[1;33m,\u001b[0m\u001b[0mlabel\u001b[0m\u001b[1;33m=\u001b[0m\u001b[1;34m'sales'\u001b[0m\u001b[1;33m)\u001b[0m\u001b[1;33m\u001b[0m\u001b[1;33m\u001b[0m\u001b[0m\n\u001b[1;32m----> 6\u001b[1;33m     \u001b[0max\u001b[0m\u001b[1;33m.\u001b[0m\u001b[0mbar\u001b[0m\u001b[1;33m(\u001b[0m\u001b[0mx\u001b[0m \u001b[1;33m=\u001b[0m \u001b[0mrange\u001b[0m\u001b[1;33m(\u001b[0m\u001b[1;36m300\u001b[0m\u001b[1;33m)\u001b[0m\u001b[1;33m,\u001b[0m\u001b[0mheight\u001b[0m \u001b[1;33m=\u001b[0m \u001b[0mevent_name_1_se\u001b[0m\u001b[1;33m[\u001b[0m\u001b[1;36m500\u001b[0m\u001b[1;33m:\u001b[0m\u001b[1;36m800\u001b[0m\u001b[1;33m]\u001b[0m\u001b[1;33m.\u001b[0m\u001b[0mvalues\u001b[0m\u001b[1;33m*\u001b[0m\u001b[1;36m0.05\u001b[0m\u001b[1;33m*\u001b[0m\u001b[0mtime_series_data\u001b[0m\u001b[1;33m.\u001b[0m\u001b[0miloc\u001b[0m\u001b[1;33m[\u001b[0m\u001b[0mi\u001b[0m\u001b[1;33m,\u001b[0m \u001b[1;36m500\u001b[0m\u001b[1;33m:\u001b[0m\u001b[1;36m800\u001b[0m\u001b[1;33m]\u001b[0m\u001b[1;33m.\u001b[0m\u001b[0mvalues\u001b[0m\u001b[1;33m.\u001b[0m\u001b[0mmax\u001b[0m\u001b[1;33m(\u001b[0m\u001b[1;33m)\u001b[0m\u001b[1;33m,\u001b[0m\u001b[0mlabel\u001b[0m\u001b[1;33m=\u001b[0m\u001b[1;34m'type_1'\u001b[0m\u001b[1;33m,\u001b[0m\u001b[0mfacecolor\u001b[0m\u001b[1;33m=\u001b[0m\u001b[1;34m'black'\u001b[0m\u001b[1;33m,\u001b[0m\u001b[0mwidth\u001b[0m\u001b[1;33m=\u001b[0m\u001b[1;36m1.2\u001b[0m\u001b[1;33m)\u001b[0m\u001b[1;33m\u001b[0m\u001b[1;33m\u001b[0m\u001b[0m\n\u001b[0m\u001b[0;32m      7\u001b[0m     \u001b[0max\u001b[0m\u001b[1;33m.\u001b[0m\u001b[0mbar\u001b[0m\u001b[1;33m(\u001b[0m\u001b[0mx\u001b[0m \u001b[1;33m=\u001b[0m \u001b[0mrange\u001b[0m\u001b[1;33m(\u001b[0m\u001b[1;36m300\u001b[0m\u001b[1;33m)\u001b[0m\u001b[1;33m,\u001b[0m\u001b[0mheight\u001b[0m \u001b[1;33m=\u001b[0m \u001b[0mevent_name_2_se\u001b[0m\u001b[1;33m[\u001b[0m\u001b[1;36m500\u001b[0m\u001b[1;33m:\u001b[0m\u001b[1;36m800\u001b[0m\u001b[1;33m]\u001b[0m\u001b[1;33m.\u001b[0m\u001b[0mvalues\u001b[0m\u001b[1;33m*\u001b[0m\u001b[1;36m0.05\u001b[0m\u001b[1;33m*\u001b[0m\u001b[0mtime_series_data\u001b[0m\u001b[1;33m.\u001b[0m\u001b[0miloc\u001b[0m\u001b[1;33m[\u001b[0m\u001b[0mi\u001b[0m\u001b[1;33m,\u001b[0m \u001b[1;36m500\u001b[0m\u001b[1;33m:\u001b[0m\u001b[1;36m800\u001b[0m\u001b[1;33m]\u001b[0m\u001b[1;33m.\u001b[0m\u001b[0mvalues\u001b[0m\u001b[1;33m.\u001b[0m\u001b[0mmax\u001b[0m\u001b[1;33m(\u001b[0m\u001b[1;33m)\u001b[0m\u001b[1;33m,\u001b[0m\u001b[0mlabel\u001b[0m\u001b[1;33m=\u001b[0m\u001b[1;34m'type_2'\u001b[0m\u001b[1;33m,\u001b[0m\u001b[0mfacecolor\u001b[0m\u001b[1;33m=\u001b[0m\u001b[1;34m'orange'\u001b[0m\u001b[1;33m,\u001b[0m\u001b[0mwidth\u001b[0m\u001b[1;33m=\u001b[0m\u001b[1;36m1.2\u001b[0m\u001b[1;33m)\u001b[0m\u001b[1;33m\u001b[0m\u001b[1;33m\u001b[0m\u001b[0m\n\u001b[0;32m      8\u001b[0m     \u001b[0mplt\u001b[0m\u001b[1;33m.\u001b[0m\u001b[0mlegend\u001b[0m\u001b[1;33m(\u001b[0m\u001b[1;33m[\u001b[0m\u001b[1;34m'sale'\u001b[0m\u001b[1;33m,\u001b[0m\u001b[1;34m'event_1'\u001b[0m\u001b[1;33m,\u001b[0m\u001b[1;34m'event_2'\u001b[0m\u001b[1;33m]\u001b[0m\u001b[1;33m)\u001b[0m\u001b[1;33m\u001b[0m\u001b[1;33m\u001b[0m\u001b[0m\n",
      "\u001b[1;31mNameError\u001b[0m: name 'event_name_1_se' is not defined"
     ]
    },
    {
     "data": {
      "image/png": "[encoded data removed]",
      "text/plain": [
       "<Figure size 1440x360 with 1 Axes>"
      ]
     },
     "metadata": {
      "needs_background": "light"
     },
     "output_type": "display_data"
    }
   ],
   "source": [
    "for i in range(5,10):\n",
    "    fig =plt.figure(figsize= (20, 5))\n",
    "    ax = fig.add_subplot(1, 1, 1)\n",
    "    #ax.bar(x = range(len(transfer_cal.loc['snap_WI'][1500:1800].values)),height = transfer_cal.loc['snap_TX'][1500:1800].values,label='snap_TX',facecolor='red')\n",
    "    ax.plot(sales.iloc[i, 500:800].values,label='sales')\n",
    "    ax.bar(x = range(300),height = event_name_1_se[500:800].values*0.05*time_series_data.iloc[i, 500:800].values.max(),label='type_1',facecolor='black',width=1.2)\n",
    "    ax.bar(x = range(300),height = event_name_2_se[500:800].values*0.05*time_series_data.iloc[i, 500:800].values.max(),label='type_2',facecolor='orange',width=1.2)\n",
    "    plt.legend(['sale','event_1','event_2'])\n",
    "    ax.set_title(str(i))\n",
    "\n",
    "    ax.set_xlabel('Time')\n",
    "    ax.set_ylabel('Sales')"
   ]
  },
  {
   "cell_type": "code",
   "execution_count": null,
   "metadata": {},
   "outputs": [],
   "source": []
  }
 ],
 "metadata": {
  "kernelspec": {
   "display_name": "Python 3",
   "language": "python",
   "name": "python3"
  },
  "language_info": {
   "codemirror_mode": {
    "name": "ipython",
    "version": 3
   },
   "file_extension": ".py",
   "mimetype": "text/x-python",
   "name": "python",
   "nbconvert_exporter": "python",
   "pygments_lexer": "ipython3",
   "version": "3.8.3"
  }
 },
 "nbformat": 4,
 "nbformat_minor": 4
}
